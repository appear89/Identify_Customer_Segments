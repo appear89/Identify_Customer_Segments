{
 "cells": [
  {
   "cell_type": "markdown",
   "metadata": {},
   "source": [
    "# Project: Identify Customer Segments\n",
    "\n",
    "In this project, you will apply unsupervised learning techniques to identify segments of the population that form the core customer base for a mail-order sales company in Germany. These segments can then be used to direct marketing campaigns towards audiences that will have the highest expected rate of returns. The data that you will use has been provided by our partners at Bertelsmann Arvato Analytics, and represents a real-life data science task.\n",
    "\n",
    "This notebook will help you complete this task by providing a framework within which you will perform your analysis steps. In each step of the project, you will see some text describing the subtask that you will perform, followed by one or more code cells for you to complete your work. **Feel free to add additional code and markdown cells as you go along so that you can explore everything in precise chunks.** The code cells provided in the base template will outline only the major tasks, and will usually not be enough to cover all of the minor tasks that comprise it.\n",
    "\n",
    "It should be noted that while there will be precise guidelines on how you should handle certain tasks in the project, there will also be places where an exact specification is not provided. **There will be times in the project where you will need to make and justify your own decisions on how to treat the data.** These are places where there may not be only one way to handle the data. In real-life tasks, there may be many valid ways to approach an analysis task. One of the most important things you can do is clearly document your approach so that other scientists can understand the decisions you've made.\n",
    "\n",
    "At the end of most sections, there will be a Markdown cell labeled **Discussion**. In these cells, you will report your findings for the completed section, as well as document the decisions that you made in your approach to each subtask. **Your project will be evaluated not just on the code used to complete the tasks outlined, but also your communication about your observations and conclusions at each stage.**"
   ]
  },
  {
   "cell_type": "markdown",
   "metadata": {},
   "source": [
    "## Table of Contents\n",
    "<ul>\n",
    "<li><a href=\"#intro\">Introduction</a></li>\n",
    "<li><a href=\"#step0\">Step 0: Load the Data</a></li>\n",
    "<ul>\n",
    "    <li><a href=\"#AzdiasExplore\">Step 0.1: Exploration of Azdias demographic data (azdias)</a></li>\n",
    "    <li><a href=\"#FeatSummaryExplore\">Step 0.2: Features summary definition (Data_Dictionary table)</a></li>\n",
    "    <li><a href=\"#FeatInfoExplore\">Step 0.3: Exploration of the Features summary (feat_info)</a></li>\n",
    "    <li><a href=\"#CustomersExplore\">Step 0.4: Exploration of the Customers subset (customers)</a></li>\n",
    "    <li><a href=\"#IntuitionExplore\">Step 0.5: Assessing and Building Intuition</a></li>\n",
    "</ul>\n",
    "<li><a href=\"#step1\">Step 1: Preprocessing</a></li>\n",
    "    <ul>\n",
    "    <li><a href=\"#step1.1\">Step 1.1: Assess Missing Data</a></li>\n",
    "        <ul>\n",
    "        <li><a href=\"#step1.1.1\">Step 1.1.1: Convert Missing Value Codes to NaNs</a></li>\n",
    "        <li><a href=\"#step1.1.2\">Step 1.1.2: Assess Missing Data in Each Column</a></li>\n",
    "        <li><a href=\"#step1.1.3\">Step 1.1.3: Assess Missing Data in Each Row</a></li>\n",
    "        </ul>\n",
    "    <li><a href=\"#step1.2\">Step 1.2: Select and Re-Encode Features</a></li>\n",
    "        <ul>\n",
    "        <li><a href=\"#step1.2.1\">Step 1.2.1: Re-Encode Categorical Features</a></li>\n",
    "            <ul>\n",
    "            <li><a href=\"#step1.2.1.1\">Step 1.2.1.1: Re-Encode multi-level categorical data</a></li>\n",
    "            <li><a href=\"#step1.2.1.2\">Step 1.2.1.2: Re-Encode binary data</a></li>\n",
    "        </ul>           \n",
    "        <li><a href=\"#question2b\">Impacts of population growth on environmental metrics</a></li>\n",
    "        <li><a href=\"#question2c\">Impacts of HDI on human resources consumption and demand</a></li>\n",
    "        <li><a href=\"#question2d\">Subsidiary question : comparison of forest expansion with human reforestation</a></li>\n",
    "        </ul>\n",
    "    <li><a href=\"#question3\">Question 3: analysis of country trends for 'low' to 'high' HDI and SDI classes values</a></li>\n",
    "    <li><a href=\"#question4\">Question 4: bivariate correlation of HDI and SDI</a></li>\n",
    "    </ul>\n",
    "<li><a href=\"#conclusions\">Conclusions</a></li>\n",
    "</ul>"
   ]
  },
  {
   "cell_type": "markdown",
   "metadata": {},
   "source": [
    "<a id='intro'></a>\n",
    "## Introduction"
   ]
  },
  {
   "cell_type": "markdown",
   "metadata": {},
   "source": [
    "In order to achieve a continuous growth in 2023, UDAgoods is looking at the German market which represents the largest e-commerce market in Europe\n",
    "(with $73.6 billion in sales in 2020). Germany also ranks first in terms of the number of online shoppers and is among the international leaders in terms of annual spending per shopper. In addition to a strong retail sector, German e-commerce grew a full 6.6 times as fast as offline retail in 2020.\n",
    "\n",
    "Besides the opportunity that this new market tackling could represent in terms of competitiveness and profits, a new mail-order sales deployment on the German market could offer UDAgoods new perspectives with regards to product and market diversification.\n",
    "\n",
    "To support our decisions, UDAgoods requests to the Marketing Service a **preliminary market research**, which intends to:\n",
    "- better understand the characteristics and preferences of our new customers\n",
    "- identify opportunities to increase sales and grow our business\n",
    "- monitor the level of competition in this enw market\n",
    "- reduce the risk in our business decisions\n",
    "- develop and complete our business plan\n",
    "\n",
    "The environment that our business operates in can be very dynamic. The shifts of economic conditions, demographic changes, new regulations and changes in technology that the German market represents shall be taken into account to better anticipate the new mail-ordering system.\n",
    "\n",
    "To support this market analysis, UDAtronics established a commercial agreement Bertelsmann Arvato Analytics so as to get access to the official demographics data for the general population of Germany. \n",
    "\n",
    "This report presents the results of this perliminary market research which intends to anticipate the new advertising campaign and prepare the future mail-order service deployment."
   ]
  },
  {
   "cell_type": "code",
   "execution_count": 108,
   "metadata": {},
   "outputs": [
    {
     "data": {
      "text/plain": [
       "'\\nImport note: The classroom currently uses sklearn version 0.19.\\nIf you need to use an imputer, it is available in sklearn.preprocessing.Imputer,\\ninstead of sklearn.impute as in newer versions of sklearn.\\n'"
      ]
     },
     "execution_count": 108,
     "metadata": {},
     "output_type": "execute_result"
    }
   ],
   "source": [
    "# import libraries here; add more as necessary\n",
    "import numpy as np\n",
    "import pandas as pd\n",
    "import matplotlib.pyplot as plt\n",
    "import seaborn as sns\n",
    "from scipy import stats\n",
    "from sklearn.preprocessing import OneHotEncoder, LabelEncoder\n",
    "from sklearn.impute import SimpleImputer\n",
    "from sklearn.pipeline import Pipeline\n",
    "\n",
    "# magic word for producing visualizations in notebook\n",
    "%matplotlib inline\n",
    "\n",
    "'''\n",
    "Import note: The classroom currently uses sklearn version 0.19.\n",
    "If you need to use an imputer, it is available in sklearn.preprocessing.Imputer,\n",
    "instead of sklearn.impute as in newer versions of sklearn.\n",
    "'''"
   ]
  },
  {
   "cell_type": "code",
   "execution_count": 109,
   "metadata": {},
   "outputs": [],
   "source": [
    "# Setting display to show all rows\n",
    "#pd.options.display.max_rows = 260"
   ]
  },
  {
   "cell_type": "markdown",
   "metadata": {},
   "source": [
    "<a id='step0'></a>\n",
    "## Step 0: Load the Data\n",
    "\n",
    "There are four files associated with this project (not including this one):\n",
    "\n",
    "- `Udacity_AZDIAS_Subset.csv`: Demographics data for the general population of Germany; 891211 persons (rows) x 85 features (columns).\n",
    "- `Udacity_CUSTOMERS_Subset.csv`: Demographics data for customers of a mail-order company; 191652 persons (rows) x 85 features (columns).\n",
    "- `Data_Dictionary.md`: Detailed information file about the features in the provided datasets.\n",
    "- `AZDIAS_Feature_Summary.csv`: Summary of feature attributes for demographics data; 85 features (rows) x 4 columns\n",
    "\n",
    "Each row of the demographics files represents a single person, but also includes information outside of individuals, including information about their household, building, and neighborhood. You will use this information to cluster the general population into groups with similar demographic properties. Then, you will see how the people in the customers dataset fit into those created clusters. The hope here is that certain clusters are over-represented in the customers data, as compared to the general population; those over-represented clusters will be assumed to be part of the core userbase. This information can then be used for further applications, such as targeting for a marketing campaign.\n",
    "\n",
    "To start off with, load in the demographics data for the general population into a pandas DataFrame, and do the same for the feature attributes summary. Note for all of the `.csv` data files in this project: they're semicolon (`;`) delimited, so you'll need an additional argument in your [`read_csv()`](https://pandas.pydata.org/pandas-docs/stable/generated/pandas.read_csv.html) call to read in the data properly. Also, considering the size of the main dataset, it may take some time for it to load completely.\n",
    "\n",
    "Once the dataset is loaded, it's recommended that you take a little bit of time just browsing the general structure of the dataset and feature summary file. You'll be getting deep into the innards of the cleaning in the first major step of the project, so gaining some general familiarity can help you get your bearings."
   ]
  },
  {
   "cell_type": "code",
   "execution_count": 110,
   "metadata": {},
   "outputs": [],
   "source": [
    "# Load in the general demographics data.\n",
    "azdias = pd.read_csv('Udacity_AZDIAS_Subset.csv', sep=';')\n",
    "\n",
    "# Load in the feature summary file.\n",
    "feat_info = pd.read_csv('AZDIAS_Feature_Summary.csv', sep=';')\n",
    "\n",
    "# Load in the customers of a mail-order company data.\n",
    "customers = pd.read_csv('Udacity_CUSTOMERS_Subset.csv', sep=';')"
   ]
  },
  {
   "cell_type": "markdown",
   "metadata": {},
   "source": [
    "<a id='AzdiasExplore'></a>\n",
    "### Step 0.1: Exploration of Azdias demographic data"
   ]
  },
  {
   "cell_type": "markdown",
   "metadata": {},
   "source": [
    "Let us first explore the Azdias demographics data for the general population of Germany and have a look to the general content of the dataset, of the types of feature and completeness of the dataset."
   ]
  },
  {
   "cell_type": "code",
   "execution_count": 111,
   "metadata": {
    "scrolled": true
   },
   "outputs": [
    {
     "data": {
      "text/html": [
       "<div>\n",
       "<style scoped>\n",
       "    .dataframe tbody tr th:only-of-type {\n",
       "        vertical-align: middle;\n",
       "    }\n",
       "\n",
       "    .dataframe tbody tr th {\n",
       "        vertical-align: top;\n",
       "    }\n",
       "\n",
       "    .dataframe thead th {\n",
       "        text-align: right;\n",
       "    }\n",
       "</style>\n",
       "<table border=\"1\" class=\"dataframe\">\n",
       "  <thead>\n",
       "    <tr style=\"text-align: right;\">\n",
       "      <th></th>\n",
       "      <th>0</th>\n",
       "      <th>1</th>\n",
       "      <th>2</th>\n",
       "      <th>3</th>\n",
       "      <th>4</th>\n",
       "      <th>5</th>\n",
       "      <th>6</th>\n",
       "      <th>7</th>\n",
       "      <th>8</th>\n",
       "      <th>9</th>\n",
       "    </tr>\n",
       "  </thead>\n",
       "  <tbody>\n",
       "    <tr>\n",
       "      <td>AGER_TYP</td>\n",
       "      <td>-1</td>\n",
       "      <td>-1</td>\n",
       "      <td>-1</td>\n",
       "      <td>2</td>\n",
       "      <td>-1</td>\n",
       "      <td>3</td>\n",
       "      <td>-1</td>\n",
       "      <td>-1</td>\n",
       "      <td>-1</td>\n",
       "      <td>-1</td>\n",
       "    </tr>\n",
       "    <tr>\n",
       "      <td>ALTERSKATEGORIE_GROB</td>\n",
       "      <td>2</td>\n",
       "      <td>1</td>\n",
       "      <td>3</td>\n",
       "      <td>4</td>\n",
       "      <td>3</td>\n",
       "      <td>1</td>\n",
       "      <td>2</td>\n",
       "      <td>1</td>\n",
       "      <td>3</td>\n",
       "      <td>3</td>\n",
       "    </tr>\n",
       "    <tr>\n",
       "      <td>ANREDE_KZ</td>\n",
       "      <td>1</td>\n",
       "      <td>2</td>\n",
       "      <td>2</td>\n",
       "      <td>2</td>\n",
       "      <td>1</td>\n",
       "      <td>2</td>\n",
       "      <td>2</td>\n",
       "      <td>1</td>\n",
       "      <td>1</td>\n",
       "      <td>2</td>\n",
       "    </tr>\n",
       "    <tr>\n",
       "      <td>CJT_GESAMTTYP</td>\n",
       "      <td>2</td>\n",
       "      <td>5</td>\n",
       "      <td>3</td>\n",
       "      <td>2</td>\n",
       "      <td>5</td>\n",
       "      <td>2</td>\n",
       "      <td>5</td>\n",
       "      <td>3</td>\n",
       "      <td>3</td>\n",
       "      <td>4</td>\n",
       "    </tr>\n",
       "    <tr>\n",
       "      <td>FINANZ_MINIMALIST</td>\n",
       "      <td>3</td>\n",
       "      <td>1</td>\n",
       "      <td>1</td>\n",
       "      <td>4</td>\n",
       "      <td>4</td>\n",
       "      <td>3</td>\n",
       "      <td>1</td>\n",
       "      <td>3</td>\n",
       "      <td>4</td>\n",
       "      <td>2</td>\n",
       "    </tr>\n",
       "    <tr>\n",
       "      <td>...</td>\n",
       "      <td>...</td>\n",
       "      <td>...</td>\n",
       "      <td>...</td>\n",
       "      <td>...</td>\n",
       "      <td>...</td>\n",
       "      <td>...</td>\n",
       "      <td>...</td>\n",
       "      <td>...</td>\n",
       "      <td>...</td>\n",
       "      <td>...</td>\n",
       "    </tr>\n",
       "    <tr>\n",
       "      <td>PLZ8_HHZ</td>\n",
       "      <td>NaN</td>\n",
       "      <td>5</td>\n",
       "      <td>4</td>\n",
       "      <td>3</td>\n",
       "      <td>3</td>\n",
       "      <td>5</td>\n",
       "      <td>5</td>\n",
       "      <td>4</td>\n",
       "      <td>3</td>\n",
       "      <td>3</td>\n",
       "    </tr>\n",
       "    <tr>\n",
       "      <td>PLZ8_GBZ</td>\n",
       "      <td>NaN</td>\n",
       "      <td>4</td>\n",
       "      <td>4</td>\n",
       "      <td>4</td>\n",
       "      <td>3</td>\n",
       "      <td>5</td>\n",
       "      <td>5</td>\n",
       "      <td>4</td>\n",
       "      <td>3</td>\n",
       "      <td>3</td>\n",
       "    </tr>\n",
       "    <tr>\n",
       "      <td>ARBEIT</td>\n",
       "      <td>NaN</td>\n",
       "      <td>3</td>\n",
       "      <td>3</td>\n",
       "      <td>2</td>\n",
       "      <td>4</td>\n",
       "      <td>2</td>\n",
       "      <td>4</td>\n",
       "      <td>2</td>\n",
       "      <td>2</td>\n",
       "      <td>2</td>\n",
       "    </tr>\n",
       "    <tr>\n",
       "      <td>ORTSGR_KLS9</td>\n",
       "      <td>NaN</td>\n",
       "      <td>5</td>\n",
       "      <td>5</td>\n",
       "      <td>3</td>\n",
       "      <td>6</td>\n",
       "      <td>3</td>\n",
       "      <td>6</td>\n",
       "      <td>5</td>\n",
       "      <td>4</td>\n",
       "      <td>3</td>\n",
       "    </tr>\n",
       "    <tr>\n",
       "      <td>RELAT_AB</td>\n",
       "      <td>NaN</td>\n",
       "      <td>4</td>\n",
       "      <td>2</td>\n",
       "      <td>3</td>\n",
       "      <td>5</td>\n",
       "      <td>3</td>\n",
       "      <td>3</td>\n",
       "      <td>2</td>\n",
       "      <td>3</td>\n",
       "      <td>1</td>\n",
       "    </tr>\n",
       "  </tbody>\n",
       "</table>\n",
       "<p>85 rows × 10 columns</p>\n",
       "</div>"
      ],
      "text/plain": [
       "                        0   1   2  3   4  5   6   7   8   9\n",
       "AGER_TYP               -1  -1  -1  2  -1  3  -1  -1  -1  -1\n",
       "ALTERSKATEGORIE_GROB    2   1   3  4   3  1   2   1   3   3\n",
       "ANREDE_KZ               1   2   2  2   1  2   2   1   1   2\n",
       "CJT_GESAMTTYP           2   5   3  2   5  2   5   3   3   4\n",
       "FINANZ_MINIMALIST       3   1   1  4   4  3   1   3   4   2\n",
       "...                   ...  ..  .. ..  .. ..  ..  ..  ..  ..\n",
       "PLZ8_HHZ              NaN   5   4  3   3  5   5   4   3   3\n",
       "PLZ8_GBZ              NaN   4   4  4   3  5   5   4   3   3\n",
       "ARBEIT                NaN   3   3  2   4  2   4   2   2   2\n",
       "ORTSGR_KLS9           NaN   5   5  3   6  3   6   5   4   3\n",
       "RELAT_AB              NaN   4   2  3   5  3   3   2   3   1\n",
       "\n",
       "[85 rows x 10 columns]"
      ]
     },
     "execution_count": 111,
     "metadata": {},
     "output_type": "execute_result"
    }
   ],
   "source": [
    "# Check the structure of the data after it's loaded (e.g. print the number of\n",
    "# rows and columns, print the first few rows).\n",
    "azdias.head(10).T"
   ]
  },
  {
   "cell_type": "markdown",
   "metadata": {},
   "source": [
    "First, we can observe that the `Udacity_AZDIAS_Subset.csv`, here loaded as `Àzdidas` dataframe, contains many multiple and different types of features about our German population. The columns (or features) names, which may appear a bit \"cryptic\" as a first sight, require a further analysis throughout the `Data_Dictionary.md` file, describing each feature independently.\n",
    "\n",
    "Based on this dictionnary, we can see that the features are split in 8 main categories:\n",
    "- **person**: containing information related to gender, financial and health typologies, social status, mind affinity, and so on;\n",
    "- **household**: presented number of people in the household, estimated household income, transaction activities, and many more household aspects;\n",
    "- **building level**: referring to the building of the household, type, number of household per building, neighborhood quality, etc.;\n",
    "- **microcell**: different CAMEO consumer classifications, more especially on wealth which includes the life-stage, standard living and typology of household;\n",
    "- **macrocell**: density of inhabitants, distance from city center, number of family houses, most common building type, etc.;\n",
    "- **postcode** : mainly information about the Postcode-level features including the distance to the nearest urban center, the density of households, and distance to city center;\n",
    "- **region** : similar to postcode, but at region scale. Provides further information about the ratio of residentials to commercial activity, the purchasing power in the region, movement patterns, etc.;\n",
    "- **community**: inhabitants, the share of unemployed people, and so on."
   ]
  },
  {
   "cell_type": "code",
   "execution_count": 112,
   "metadata": {
    "scrolled": true
   },
   "outputs": [
    {
     "name": "stdout",
     "output_type": "stream",
     "text": [
      "<class 'pandas.core.frame.DataFrame'>\n",
      "RangeIndex: 891221 entries, 0 to 891220\n",
      "Data columns (total 85 columns):\n",
      "AGER_TYP                 891221 non-null int64\n",
      "ALTERSKATEGORIE_GROB     891221 non-null int64\n",
      "ANREDE_KZ                891221 non-null int64\n",
      "CJT_GESAMTTYP            886367 non-null float64\n",
      "FINANZ_MINIMALIST        891221 non-null int64\n",
      "FINANZ_SPARER            891221 non-null int64\n",
      "FINANZ_VORSORGER         891221 non-null int64\n",
      "FINANZ_ANLEGER           891221 non-null int64\n",
      "FINANZ_UNAUFFAELLIGER    891221 non-null int64\n",
      "FINANZ_HAUSBAUER         891221 non-null int64\n",
      "FINANZTYP                891221 non-null int64\n",
      "GEBURTSJAHR              891221 non-null int64\n",
      "GFK_URLAUBERTYP          886367 non-null float64\n",
      "GREEN_AVANTGARDE         891221 non-null int64\n",
      "HEALTH_TYP               891221 non-null int64\n",
      "LP_LEBENSPHASE_FEIN      886367 non-null float64\n",
      "LP_LEBENSPHASE_GROB      886367 non-null float64\n",
      "LP_FAMILIE_FEIN          886367 non-null float64\n",
      "LP_FAMILIE_GROB          886367 non-null float64\n",
      "LP_STATUS_FEIN           886367 non-null float64\n",
      "LP_STATUS_GROB           886367 non-null float64\n",
      "NATIONALITAET_KZ         891221 non-null int64\n",
      "PRAEGENDE_JUGENDJAHRE    891221 non-null int64\n",
      "RETOURTYP_BK_S           886367 non-null float64\n",
      "SEMIO_SOZ                891221 non-null int64\n",
      "SEMIO_FAM                891221 non-null int64\n",
      "SEMIO_REL                891221 non-null int64\n",
      "SEMIO_MAT                891221 non-null int64\n",
      "SEMIO_VERT               891221 non-null int64\n",
      "SEMIO_LUST               891221 non-null int64\n",
      "SEMIO_ERL                891221 non-null int64\n",
      "SEMIO_KULT               891221 non-null int64\n",
      "SEMIO_RAT                891221 non-null int64\n",
      "SEMIO_KRIT               891221 non-null int64\n",
      "SEMIO_DOM                891221 non-null int64\n",
      "SEMIO_KAEM               891221 non-null int64\n",
      "SEMIO_PFLICHT            891221 non-null int64\n",
      "SEMIO_TRADV              891221 non-null int64\n",
      "SHOPPER_TYP              891221 non-null int64\n",
      "SOHO_KZ                  817722 non-null float64\n",
      "TITEL_KZ                 817722 non-null float64\n",
      "VERS_TYP                 891221 non-null int64\n",
      "ZABEOTYP                 891221 non-null int64\n",
      "ALTER_HH                 817722 non-null float64\n",
      "ANZ_PERSONEN             817722 non-null float64\n",
      "ANZ_TITEL                817722 non-null float64\n",
      "HH_EINKOMMEN_SCORE       872873 non-null float64\n",
      "KK_KUNDENTYP             306609 non-null float64\n",
      "W_KEIT_KIND_HH           783619 non-null float64\n",
      "WOHNDAUER_2008           817722 non-null float64\n",
      "ANZ_HAUSHALTE_AKTIV      798073 non-null float64\n",
      "ANZ_HH_TITEL             794213 non-null float64\n",
      "GEBAEUDETYP              798073 non-null float64\n",
      "KONSUMNAEHE              817252 non-null float64\n",
      "MIN_GEBAEUDEJAHR         798073 non-null float64\n",
      "OST_WEST_KZ              798073 non-null object\n",
      "WOHNLAGE                 798073 non-null float64\n",
      "CAMEO_DEUG_2015          792242 non-null object\n",
      "CAMEO_DEU_2015           792242 non-null object\n",
      "CAMEO_INTL_2015          792242 non-null object\n",
      "KBA05_ANTG1              757897 non-null float64\n",
      "KBA05_ANTG2              757897 non-null float64\n",
      "KBA05_ANTG3              757897 non-null float64\n",
      "KBA05_ANTG4              757897 non-null float64\n",
      "KBA05_BAUMAX             757897 non-null float64\n",
      "KBA05_GBZ                757897 non-null float64\n",
      "BALLRAUM                 797481 non-null float64\n",
      "EWDICHTE                 797481 non-null float64\n",
      "INNENSTADT               797481 non-null float64\n",
      "GEBAEUDETYP_RASTER       798066 non-null float64\n",
      "KKK                      770025 non-null float64\n",
      "MOBI_REGIO               757897 non-null float64\n",
      "ONLINE_AFFINITAET        886367 non-null float64\n",
      "REGIOTYP                 770025 non-null float64\n",
      "KBA13_ANZAHL_PKW         785421 non-null float64\n",
      "PLZ8_ANTG1               774706 non-null float64\n",
      "PLZ8_ANTG2               774706 non-null float64\n",
      "PLZ8_ANTG3               774706 non-null float64\n",
      "PLZ8_ANTG4               774706 non-null float64\n",
      "PLZ8_BAUMAX              774706 non-null float64\n",
      "PLZ8_HHZ                 774706 non-null float64\n",
      "PLZ8_GBZ                 774706 non-null float64\n",
      "ARBEIT                   794005 non-null float64\n",
      "ORTSGR_KLS9              794005 non-null float64\n",
      "RELAT_AB                 794005 non-null float64\n",
      "dtypes: float64(49), int64(32), object(4)\n",
      "memory usage: 578.0+ MB\n"
     ]
    }
   ],
   "source": [
    "azdias.info()"
   ]
  },
  {
   "cell_type": "markdown",
   "metadata": {},
   "source": [
    "Looking more closely at the features types, we are able to identify 891221 entries, where each corresponds to an individual of the census population, and 85 columns, reflecting the individuals respective features.\n",
    "\n",
    "Immediately, we however notice that same features reveal missing (or null) values.\n",
    "It may be useful to remind that these null values may bias the analysis of the data and also significantly impact the variability of the features when dealing with clustering. \n",
    "\n",
    "So as to see if this can be considered as an isolated case, let's see how large the quantity of missing value is."
   ]
  },
  {
   "cell_type": "code",
   "execution_count": 113,
   "metadata": {
    "scrolled": false
   },
   "outputs": [],
   "source": [
    "# Plot percent rate of missing value per feature\n",
    "def plot_nas(df: pd.DataFrame):\n",
    "    '''\n",
    "    Plots the percentage of missing values per column in a given dataframe.\n",
    "    Only shows the column containing missing values.\n",
    "    The count of missing values is sorted by descending order.\n",
    "    \n",
    "    INPUT: df - dataframe to be plotted\n",
    "    \n",
    "    OUTPUT: none\n",
    "    '''    \n",
    "    if df.isnull().sum().sum() != 0:\n",
    "        # Calculate the mean of null values (in pct) for each feature and store it into a new dataframe na_df\n",
    "        na_df = (df.isnull().sum() / len(df)) * 100\n",
    "        # Drop the index of na_df if number of missing values is 0\n",
    "        # Then sort na_df by ascending order\n",
    "        na_df = na_df.drop(na_df[na_df == 0].index).sort_values(ascending=False)\n",
    "        # Create a dictionnary with key : 'Missing Ratio (in %)' and convert it back into dataframe\n",
    "        # Convert it back into dataframe named missing_data\n",
    "        missing_data = pd.DataFrame({'Missing Ratio (in %)' :na_df})\n",
    "        # Plot na_df using a horizontal bar graph\n",
    "        missing_data.plot(kind = \"barh\", figsize=(6,10))\n",
    "        plt.show()\n",
    "    else:\n",
    "        print('No NAs found')\n",
    "\n",
    "def print_nas(df: pd.DataFrame):\n",
    "    '''\n",
    "    Computes the percentage of missing values per column in a given dataframe.\n",
    "    Only shows the column containing missing values.\n",
    "    The count of missing values is sorted by descending order.\n",
    "    \n",
    "    INPUT: df - dataframe to be plotted\n",
    "    \n",
    "    OUTPUT: none\n",
    "    ''' \n",
    "    if df.isnull().sum().sum() != 0:\n",
    "        # Identify missing or unknown data values and convert them to NaNs.\n",
    "\n",
    "        # Check columns with missing values before any data processing \n",
    "        na_df = df.isnull().sum()[df.isnull().sum() != 0]\n",
    "\n",
    "        na_dict = {'count':  na_df.values, 'pct':np.round(na_df.values *100/len(df),2)}\n",
    "\n",
    "        na_df = pd.DataFrame(data=na_dict, index=na_df.index)\n",
    "        na_df.sort_values(by='count', ascending=False, inplace=True)\n",
    "        print(na_df)\n",
    "    else:\n",
    "        print('No NAs found')"
   ]
  },
  {
   "cell_type": "code",
   "execution_count": 114,
   "metadata": {},
   "outputs": [
    {
     "data": {
      "image/png": "[encoded data removed]",
      "text/plain": [
       "<Figure size 432x720 with 1 Axes>"
      ]
     },
     "metadata": {
      "needs_background": "light"
     },
     "output_type": "display_data"
    }
   ],
   "source": [
    "# Call plot_nas on azdias dataframe\n",
    "plot_nas(azdias)"
   ]
  },
  {
   "cell_type": "markdown",
   "metadata": {},
   "source": [
    "The bar chart confirms that a large quantity of null entries is affecting our input dataset. Many features are impacted by an amount of 8 up to 15% of null entries, which would represent a huge amount relative to the total number of 891221 lines.\n",
    "Worst affected is the column `KK_KUNDENTYP` where about 65% of the values are missing.\n",
    "\n",
    "From this point, we can raise our interest to the `feat_info` dataframes and to feature types themselves."
   ]
  },
  {
   "cell_type": "markdown",
   "metadata": {},
   "source": [
    "<a id='FeatSummaryExplore'></a>\n",
    "### Step 0.2: Features summary definition (Data_Dictionary table)"
   ]
  },
  {
   "cell_type": "markdown",
   "metadata": {},
   "source": [
    "Before moving any further, let's synthesize the main description of the features provided by the `Data_Dictionary.md`. For each categorical data `Data_Dictionary.md` provides the feature assignable values and the respective definition.\n",
    "Given of this quantity of categorical data, and so as to contrast with the *unknown* or *undetermined* values they may be assigned (which are referred to below as **missing_or_unknown**), we will report the \"known\" (i.e.\"valid\") values in the last column."
   ]
  },
  {
   "cell_type": "markdown",
   "metadata": {},
   "source": [
    "| Category | Feature | Definition | Data type (valid range) |\n",
    "| :--------------: | :--------- | :----- | :-----: |\n",
    "| Person-level | AGER_TYP | Best-ager typology | Categorical : [[1;3]]|\n",
    "| Person-level | ALTERSKATEGORIE_GROB | Estimated age based on given name analysis | Ordinal : [[1;4]] |\n",
    "| Person-level | ANREDE_KZ | Gender | Categorical : [[1;2]]|\n",
    "| Person-level | CJT_GESAMTTYP | Customer-Journey-Typology: preferred information and buying channels for consumer | Categorical : [[1;6]]|\n",
    "| Person-level | FINANZ_XXX | Financial typology where XXX as: |  Ordinal : [[1;5]]|\n",
    "|||-MINIMALIST: low financial interest | Ordinal : [[1;5]]|\n",
    "|||-SPARER: money-saver | Ordinal : [[1;5]]|\n",
    "|||-VORSORGER: be prepared | Ordinal : [[1;5]]|\n",
    "|||-ANLEGER: investor | Ordinal : [[1;5]]|\n",
    "|||-UNAUFFAELLIGER: inconspicuous | Ordinal : [[1;5]]|\n",
    "|||-HAUSBAUER: home ownership| Ordinal : [[1;5]]|\n",
    "| Person-level | FINANZTYP | Most descriptive financial type for individual | Categorical : [[1;6]]|\n",
    "| Person-level | GEBURTSJAHR | Year of birth | Numeric (discrete) |\n",
    "| Person-level | GFK_URLAUBERTYP | Vacation habits | Categorical : [[1;12]|\n",
    "| Person-level | GREEN_AVANTGARDE | Membership in environmental sustainability as part of youth | Categorical : [[1;2]]|\n",
    "| Person-level | HEALTH_TYP | Health typology | Ordinal : [[1;3]]|\n",
    "| Person-level | LP_LEBENSPHASE_FEIN | Life stage, fine scale |Categorical : [[1;40]]|\n",
    "| Person-level | LP_LEBENSPHASE_GROB | Life stage, rough scale |Categorical : [[1;12]]|\n",
    "| Person-level | LP_FAMILIE_FEIN | LP_FAMILIE_FEIN | Categorical : [[1;11]]|\n",
    "| Person-level | LP_FAMILIE_GROB | LP_FAMILIE_GROB | Categorical : [[1;5]]|\n",
    "| Person-level | LP_STATUS_FEIN | Social status, fine scale | Categorical : [[1;10]]|\n",
    "| Person-level | LP_STATUS_GROB | Social status, rough scale | Categorical : [[1;5]]|\n",
    "| Person-level | NATIONALITAET_KZ | Nationality based on given name analysis | Categorical : [[1;3]]|\n",
    "| Person-level | PRAEGENDE_JUGENDJAHRE | Dominating movement of person's youth (avantgarde vs. mainstream; east vs. west) | Categorical : [[1;15]]|\n",
    "| Person-level | RETOURTYP_BK_S | Return type | Ordinal : [[1;5]]|\n",
    "| Person-level | SEMIO_XXX | Personality typology where XXX as: |  Ordinal : [[1;7]]|\n",
    "|||-SOZ: socially-minded | Ordinal : [[1;7]]|\n",
    "|||-FAM: family-minded | Ordinal : [[1;7]]|\n",
    "|||-REL: religious | Ordinal : [[1;7]]|\n",
    "|||-MAT: materialistic | Ordinal : [[1;7]]|\n",
    "|||-VERT: dreamful | Ordinal : [[1;7]]|\n",
    "|||-LUST: sensual-minded| Ordinal : [[1;7]]|\n",
    "|||-ERL: event-oriented | Ordinal : [[1;7]]|\n",
    "|||-KULT: cultural-minded | Ordinal : [[1;7]]|\n",
    "|||-RAT: rational | Ordinal : [[1;7]]|\n",
    "|||-KRIT: critical-minded | Ordinal : [[1;7]]|\n",
    "|||-DOM: dominant-minded | Ordinal : [[1;7]]|\n",
    "|||-KAEM: combative attitude| Ordinal : [[1;7]]|\n",
    "|||-PFLICHT: dutiful | Ordinal : [[1;7]]|\n",
    "|||-TRADV: tradional-minded| Ordinal : [[1;7]]|\n",
    "|||-DOM: dominant-minded | Ordinal : [[1;7]]|\n",
    "|||-KAEM: combative attitude| Ordinal : [[1;7]]|\n",
    "|||-PFLICHT: dutiful | Ordinal : [[1;7]]|\n",
    "|||-TRADV: tradional-minded| Ordinal : [[1;7]]|\n",
    "| Person-level | SHOPPER_TYP | Shopper typology | Categorical : [[0;3]]|\n",
    "| Person-level | SOHO_KZ | Small office / home office flag | Categorical : [[0;1]]|\n",
    "| Person-level | TITEL_KZ | Academic title flag | Categorical : [[0;5]]|\n",
    "| Person-level | VERS_TYP | Insurance typology | Categorical : [[1;2]]|\n",
    "| Person-level | ZABEOTYP | Energy consumption typology | Categorical : [[1;9]]|\n",
    "| Household-level | ALTER_HH | Birthdate of head of household | Categorical : [[1;21]]|\n",
    "| Household-level | ANZ_PERSONEN | Shopper typology | Numeric (discrete)|\n",
    "| Household-level | ANZ_TITEL | Number of professional academic title holders in household | Numeric (discrete)|\n",
    "| Household-level | HH_EINKOMMEN_SCORE | Estimated household net income | Ordinal : [[1;6]]|\n",
    "| Household-level | KK_KUNDENTYP | Consumer pattern over past 12 months | Categorical : [[1;6]]|\n",
    "| Household-level | W_KEIT_KIND_HH | Likelihood of children in household | in household | Numeric (discrete)|\n",
    "| Household-level | HH_EINKOMMEN_SCORE | Estimated household net income | Ordinal : [[1;6]]|\n",
    "| Household-level | KK_KUNDENTYP | Consumer pattern over past 12 months | Categorical : [[1;6]]|\n",
    "| Household-level | W_KEIT_KIND_HH | Likelihood of children in household | Ordinal : [[1;6]]|\n",
    "| Household-level | WOHNDAUER_2008 | Length of residence | Ordinal : [[1;9]]|\n",
    "| Building-level | ANZ_HAUSHALTE_AKTIV | Number of households in the building | Numeric (discrete)|\n",
    "| Building-level | ANZ_HH_TITEL | Number of professional academic title holders in building| Numeric (discrete)|\n",
    "| Building-level | GEBAEUDETYP | Type of building (residential vs. commercial) | Categorical : [[1;8]]|\n",
    "| Building-level | KONSUMNAEHE | Distance from building to point of sale (PoS) | Ordinal : [[1;7]]|\n",
    "| Building-level | MIN_GEBAEUDEJAHR | First year building was mentioned in the database | Numeric (discrete)|\n",
    "| Building-level | OST_WEST_KZ | Building location via former East / West Germany (GDR / FRG) | Categorical : {O;W}|\n",
    "| Building-level | WOHNLAGE | Neighborhood quality (or rural flag) | Categorical : [[1;8]]|\n",
    "| Micro-cell | CAMEO_DEUG_2015 | German CAMEO: Wealth / Life Stage Typology, rough scale | Categorical : [[1;9]]|\n",
    "| Micro-cell | CAMEO_DEU_2015 | German CAMEO: Wealth / Life Stage Typology, detailed scale | Categorical : [[1(A-E);9(A-E)]]|\n",
    "| Micro-cell | CAMEO_INTL_2015 | German CAMEO: Wealth / Life Stage Typology, mapped to international code | Categorical : [x1;x5] with x: 1 to 5|\n",
    "| Micro-cell | KBA05_ANTG1 | Number of 1-2 family houses in the microcell | Ordinal : [[0;4]]|\n",
    "| Micro-cell | KBA05_ANTG2 | Number of 3-5 family houses in the microcell | Ordinal : [[0;4]]|\n",
    "| Micro-cell | KBA05_ANTG3 | Number of 6-10 family houses in the microcell | Ordinal : [[0;4]]|\n",
    "| Micro-cell | KBA05_ANTG4 | Number of 10+ family houses in the microcell | Ordinal : [[0;4]]|\n",
    "| Micro-cell | KBA05_BAUMAX | Most common building type within the microcell | Categorical : [[1;5]]|\n",
    "| Micro-cell | KBA05_GBZ | Number of buildings in the microcell | Ordinal : [[1;5]]|\n",
    "| Postcode-level | BALLRAUM | Distance to nearest urban center | Ordinal : [[1;7]]|\n",
    "| Postcode-level | EWDICHTE | Density of households per square kilometer | Ordinal : [[1;6]]|\n",
    "| Postcode-level | INNENSTADT | Distance to city center (downtown) | Ordinal : [[1;8]]|\n",
    "| Region | GEBAEUDETYP_RASTER | Ratio of residential to commercial activity | Ordinal : [[1;5]]|\n",
    "| Region | KKK | Purchasing power in region | Ordinal : [[1;4]]|\n",
    "| Region | MOBI_REGIO | Movement patterns | Ordinal : [[1;6]]|\n",
    "| Region | ONLINE_AFFINITAET | Online affinity | Ordinal : [[1;5]]|\n",
    "| Region | REGIOTYP | Neighborhood typology | Ordinal : [[1;7]]|\n",
    "| Macro-cell | KBA13_ANZAHL_PKW | Number of cars in the PLZ8 region | Numeric (discrete)|\n",
    "| Macro-cell | PLZ8_ANTG1 | Number of 1-2 family houses in the PLZ8 region | Ordinal : [[0;4]]|\n",
    "| Macro-cell | PLZ8_ANTG2 | Number of 3-5 family houses in the PLZ8 region | Ordinal : [[0;4]]|\n",
    "| Macro-cell | PLZ8_ANTG3 | Number of 6-10 family houses in the PLZ8 region | Ordinal : [[0;3]]|\n",
    "| Macro-cell | PLZ8_ANTG4 | Number of 10+ family houses in the PLZ8 region | Ordinal : [[0;2]]|\n",
    "| Macro-cell | PLZ8_BAUMAX | Most common building type within the PLZ8 region | Categorical : [[1;5]]|\n",
    "| Macro-cell | PLZ8_HHZ | Number of households within the PLZ8 region | Ordinal : [[1;5]]|\n",
    "| Macro-cell | PLZ8_GBZ | Number of buildings within the PLZ8 region | Ordinal : [[1;5]]|\n",
    "| Community-level | ARBEIT | Share of unemployment in community | Ordinal : [[1;9]]|\n",
    "| Community-level | ORTSGR_KLS9 | Size of community | Ordinal : [[1;9]]|\n",
    "| Community-level | RELAT_AB | Share of unemployment relative to county in which community is contained | Ordinal : [[1;9]]|"
   ]
  },
  {
   "cell_type": "markdown",
   "metadata": {},
   "source": [
    "<a id='FeatInfoExplore'></a>\n",
    "### Step 0.3: Exploration of the Features summary (feat_info)"
   ]
  },
  {
   "cell_type": "markdown",
   "metadata": {},
   "source": [
    "The `AZDIAS_Feature_Summary.csv` file, loaded as `feat_info`dataframe provide us with complementary details about each features of the azdias demographic data.\n",
    "For each attribute, the **information_level** column defines the category of the feature, whereas the feature data type is reported by the **type** column index."
   ]
  },
  {
   "cell_type": "code",
   "execution_count": 115,
   "metadata": {
    "scrolled": true
   },
   "outputs": [
    {
     "data": {
      "text/html": [
       "<div>\n",
       "<style scoped>\n",
       "    .dataframe tbody tr th:only-of-type {\n",
       "        vertical-align: middle;\n",
       "    }\n",
       "\n",
       "    .dataframe tbody tr th {\n",
       "        vertical-align: top;\n",
       "    }\n",
       "\n",
       "    .dataframe thead th {\n",
       "        text-align: right;\n",
       "    }\n",
       "</style>\n",
       "<table border=\"1\" class=\"dataframe\">\n",
       "  <thead>\n",
       "    <tr style=\"text-align: right;\">\n",
       "      <th></th>\n",
       "      <th>attribute</th>\n",
       "      <th>information_level</th>\n",
       "      <th>type</th>\n",
       "      <th>missing_or_unknown</th>\n",
       "    </tr>\n",
       "  </thead>\n",
       "  <tbody>\n",
       "    <tr>\n",
       "      <td>45</td>\n",
       "      <td>ANZ_TITEL</td>\n",
       "      <td>household</td>\n",
       "      <td>numeric</td>\n",
       "      <td>[]</td>\n",
       "    </tr>\n",
       "    <tr>\n",
       "      <td>46</td>\n",
       "      <td>HH_EINKOMMEN_SCORE</td>\n",
       "      <td>household</td>\n",
       "      <td>ordinal</td>\n",
       "      <td>[-1,0]</td>\n",
       "    </tr>\n",
       "    <tr>\n",
       "      <td>47</td>\n",
       "      <td>KK_KUNDENTYP</td>\n",
       "      <td>household</td>\n",
       "      <td>categorical</td>\n",
       "      <td>[-1]</td>\n",
       "    </tr>\n",
       "    <tr>\n",
       "      <td>48</td>\n",
       "      <td>W_KEIT_KIND_HH</td>\n",
       "      <td>household</td>\n",
       "      <td>ordinal</td>\n",
       "      <td>[-1,0]</td>\n",
       "    </tr>\n",
       "    <tr>\n",
       "      <td>49</td>\n",
       "      <td>WOHNDAUER_2008</td>\n",
       "      <td>household</td>\n",
       "      <td>ordinal</td>\n",
       "      <td>[-1,0]</td>\n",
       "    </tr>\n",
       "    <tr>\n",
       "      <td>50</td>\n",
       "      <td>ANZ_HAUSHALTE_AKTIV</td>\n",
       "      <td>building</td>\n",
       "      <td>numeric</td>\n",
       "      <td>[0]</td>\n",
       "    </tr>\n",
       "    <tr>\n",
       "      <td>51</td>\n",
       "      <td>ANZ_HH_TITEL</td>\n",
       "      <td>building</td>\n",
       "      <td>numeric</td>\n",
       "      <td>[]</td>\n",
       "    </tr>\n",
       "    <tr>\n",
       "      <td>52</td>\n",
       "      <td>GEBAEUDETYP</td>\n",
       "      <td>building</td>\n",
       "      <td>categorical</td>\n",
       "      <td>[-1,0]</td>\n",
       "    </tr>\n",
       "    <tr>\n",
       "      <td>53</td>\n",
       "      <td>KONSUMNAEHE</td>\n",
       "      <td>building</td>\n",
       "      <td>ordinal</td>\n",
       "      <td>[]</td>\n",
       "    </tr>\n",
       "    <tr>\n",
       "      <td>54</td>\n",
       "      <td>MIN_GEBAEUDEJAHR</td>\n",
       "      <td>building</td>\n",
       "      <td>numeric</td>\n",
       "      <td>[0]</td>\n",
       "    </tr>\n",
       "    <tr>\n",
       "      <td>55</td>\n",
       "      <td>OST_WEST_KZ</td>\n",
       "      <td>building</td>\n",
       "      <td>categorical</td>\n",
       "      <td>[-1]</td>\n",
       "    </tr>\n",
       "    <tr>\n",
       "      <td>56</td>\n",
       "      <td>WOHNLAGE</td>\n",
       "      <td>building</td>\n",
       "      <td>mixed</td>\n",
       "      <td>[-1]</td>\n",
       "    </tr>\n",
       "    <tr>\n",
       "      <td>57</td>\n",
       "      <td>CAMEO_DEUG_2015</td>\n",
       "      <td>microcell_rr4</td>\n",
       "      <td>categorical</td>\n",
       "      <td>[-1,X]</td>\n",
       "    </tr>\n",
       "    <tr>\n",
       "      <td>58</td>\n",
       "      <td>CAMEO_DEU_2015</td>\n",
       "      <td>microcell_rr4</td>\n",
       "      <td>categorical</td>\n",
       "      <td>[XX]</td>\n",
       "    </tr>\n",
       "    <tr>\n",
       "      <td>59</td>\n",
       "      <td>CAMEO_INTL_2015</td>\n",
       "      <td>microcell_rr4</td>\n",
       "      <td>mixed</td>\n",
       "      <td>[-1,XX]</td>\n",
       "    </tr>\n",
       "    <tr>\n",
       "      <td>60</td>\n",
       "      <td>KBA05_ANTG1</td>\n",
       "      <td>microcell_rr3</td>\n",
       "      <td>ordinal</td>\n",
       "      <td>[-1]</td>\n",
       "    </tr>\n",
       "    <tr>\n",
       "      <td>61</td>\n",
       "      <td>KBA05_ANTG2</td>\n",
       "      <td>microcell_rr3</td>\n",
       "      <td>ordinal</td>\n",
       "      <td>[-1]</td>\n",
       "    </tr>\n",
       "    <tr>\n",
       "      <td>62</td>\n",
       "      <td>KBA05_ANTG3</td>\n",
       "      <td>microcell_rr3</td>\n",
       "      <td>ordinal</td>\n",
       "      <td>[-1]</td>\n",
       "    </tr>\n",
       "    <tr>\n",
       "      <td>63</td>\n",
       "      <td>KBA05_ANTG4</td>\n",
       "      <td>microcell_rr3</td>\n",
       "      <td>ordinal</td>\n",
       "      <td>[-1]</td>\n",
       "    </tr>\n",
       "    <tr>\n",
       "      <td>64</td>\n",
       "      <td>KBA05_BAUMAX</td>\n",
       "      <td>microcell_rr3</td>\n",
       "      <td>mixed</td>\n",
       "      <td>[-1,0]</td>\n",
       "    </tr>\n",
       "    <tr>\n",
       "      <td>65</td>\n",
       "      <td>KBA05_GBZ</td>\n",
       "      <td>microcell_rr3</td>\n",
       "      <td>ordinal</td>\n",
       "      <td>[-1,0]</td>\n",
       "    </tr>\n",
       "    <tr>\n",
       "      <td>66</td>\n",
       "      <td>BALLRAUM</td>\n",
       "      <td>postcode</td>\n",
       "      <td>ordinal</td>\n",
       "      <td>[-1]</td>\n",
       "    </tr>\n",
       "    <tr>\n",
       "      <td>67</td>\n",
       "      <td>EWDICHTE</td>\n",
       "      <td>postcode</td>\n",
       "      <td>ordinal</td>\n",
       "      <td>[-1]</td>\n",
       "    </tr>\n",
       "    <tr>\n",
       "      <td>68</td>\n",
       "      <td>INNENSTADT</td>\n",
       "      <td>postcode</td>\n",
       "      <td>ordinal</td>\n",
       "      <td>[-1]</td>\n",
       "    </tr>\n",
       "    <tr>\n",
       "      <td>69</td>\n",
       "      <td>GEBAEUDETYP_RASTER</td>\n",
       "      <td>region_rr1</td>\n",
       "      <td>ordinal</td>\n",
       "      <td>[]</td>\n",
       "    </tr>\n",
       "    <tr>\n",
       "      <td>70</td>\n",
       "      <td>KKK</td>\n",
       "      <td>region_rr1</td>\n",
       "      <td>ordinal</td>\n",
       "      <td>[-1,0]</td>\n",
       "    </tr>\n",
       "    <tr>\n",
       "      <td>71</td>\n",
       "      <td>MOBI_REGIO</td>\n",
       "      <td>region_rr1</td>\n",
       "      <td>ordinal</td>\n",
       "      <td>[]</td>\n",
       "    </tr>\n",
       "    <tr>\n",
       "      <td>72</td>\n",
       "      <td>ONLINE_AFFINITAET</td>\n",
       "      <td>region_rr1</td>\n",
       "      <td>ordinal</td>\n",
       "      <td>[]</td>\n",
       "    </tr>\n",
       "    <tr>\n",
       "      <td>73</td>\n",
       "      <td>REGIOTYP</td>\n",
       "      <td>region_rr1</td>\n",
       "      <td>ordinal</td>\n",
       "      <td>[-1,0]</td>\n",
       "    </tr>\n",
       "    <tr>\n",
       "      <td>74</td>\n",
       "      <td>KBA13_ANZAHL_PKW</td>\n",
       "      <td>macrocell_plz8</td>\n",
       "      <td>numeric</td>\n",
       "      <td>[]</td>\n",
       "    </tr>\n",
       "    <tr>\n",
       "      <td>75</td>\n",
       "      <td>PLZ8_ANTG1</td>\n",
       "      <td>macrocell_plz8</td>\n",
       "      <td>ordinal</td>\n",
       "      <td>[-1]</td>\n",
       "    </tr>\n",
       "    <tr>\n",
       "      <td>76</td>\n",
       "      <td>PLZ8_ANTG2</td>\n",
       "      <td>macrocell_plz8</td>\n",
       "      <td>ordinal</td>\n",
       "      <td>[-1]</td>\n",
       "    </tr>\n",
       "    <tr>\n",
       "      <td>77</td>\n",
       "      <td>PLZ8_ANTG3</td>\n",
       "      <td>macrocell_plz8</td>\n",
       "      <td>ordinal</td>\n",
       "      <td>[-1]</td>\n",
       "    </tr>\n",
       "    <tr>\n",
       "      <td>78</td>\n",
       "      <td>PLZ8_ANTG4</td>\n",
       "      <td>macrocell_plz8</td>\n",
       "      <td>ordinal</td>\n",
       "      <td>[-1]</td>\n",
       "    </tr>\n",
       "    <tr>\n",
       "      <td>79</td>\n",
       "      <td>PLZ8_BAUMAX</td>\n",
       "      <td>macrocell_plz8</td>\n",
       "      <td>mixed</td>\n",
       "      <td>[-1,0]</td>\n",
       "    </tr>\n",
       "    <tr>\n",
       "      <td>80</td>\n",
       "      <td>PLZ8_HHZ</td>\n",
       "      <td>macrocell_plz8</td>\n",
       "      <td>ordinal</td>\n",
       "      <td>[-1]</td>\n",
       "    </tr>\n",
       "    <tr>\n",
       "      <td>81</td>\n",
       "      <td>PLZ8_GBZ</td>\n",
       "      <td>macrocell_plz8</td>\n",
       "      <td>ordinal</td>\n",
       "      <td>[-1]</td>\n",
       "    </tr>\n",
       "    <tr>\n",
       "      <td>82</td>\n",
       "      <td>ARBEIT</td>\n",
       "      <td>community</td>\n",
       "      <td>ordinal</td>\n",
       "      <td>[-1,9]</td>\n",
       "    </tr>\n",
       "    <tr>\n",
       "      <td>83</td>\n",
       "      <td>ORTSGR_KLS9</td>\n",
       "      <td>community</td>\n",
       "      <td>ordinal</td>\n",
       "      <td>[-1,0]</td>\n",
       "    </tr>\n",
       "    <tr>\n",
       "      <td>84</td>\n",
       "      <td>RELAT_AB</td>\n",
       "      <td>community</td>\n",
       "      <td>ordinal</td>\n",
       "      <td>[-1,9]</td>\n",
       "    </tr>\n",
       "  </tbody>\n",
       "</table>\n",
       "</div>"
      ],
      "text/plain": [
       "              attribute information_level         type missing_or_unknown\n",
       "45            ANZ_TITEL         household      numeric                 []\n",
       "46   HH_EINKOMMEN_SCORE         household      ordinal             [-1,0]\n",
       "47         KK_KUNDENTYP         household  categorical               [-1]\n",
       "48       W_KEIT_KIND_HH         household      ordinal             [-1,0]\n",
       "49       WOHNDAUER_2008         household      ordinal             [-1,0]\n",
       "50  ANZ_HAUSHALTE_AKTIV          building      numeric                [0]\n",
       "51         ANZ_HH_TITEL          building      numeric                 []\n",
       "52          GEBAEUDETYP          building  categorical             [-1,0]\n",
       "53          KONSUMNAEHE          building      ordinal                 []\n",
       "54     MIN_GEBAEUDEJAHR          building      numeric                [0]\n",
       "55          OST_WEST_KZ          building  categorical               [-1]\n",
       "56             WOHNLAGE          building        mixed               [-1]\n",
       "57      CAMEO_DEUG_2015     microcell_rr4  categorical             [-1,X]\n",
       "58       CAMEO_DEU_2015     microcell_rr4  categorical               [XX]\n",
       "59      CAMEO_INTL_2015     microcell_rr4        mixed            [-1,XX]\n",
       "60          KBA05_ANTG1     microcell_rr3      ordinal               [-1]\n",
       "61          KBA05_ANTG2     microcell_rr3      ordinal               [-1]\n",
       "62          KBA05_ANTG3     microcell_rr3      ordinal               [-1]\n",
       "63          KBA05_ANTG4     microcell_rr3      ordinal               [-1]\n",
       "64         KBA05_BAUMAX     microcell_rr3        mixed             [-1,0]\n",
       "65            KBA05_GBZ     microcell_rr3      ordinal             [-1,0]\n",
       "66             BALLRAUM          postcode      ordinal               [-1]\n",
       "67             EWDICHTE          postcode      ordinal               [-1]\n",
       "68           INNENSTADT          postcode      ordinal               [-1]\n",
       "69   GEBAEUDETYP_RASTER        region_rr1      ordinal                 []\n",
       "70                  KKK        region_rr1      ordinal             [-1,0]\n",
       "71           MOBI_REGIO        region_rr1      ordinal                 []\n",
       "72    ONLINE_AFFINITAET        region_rr1      ordinal                 []\n",
       "73             REGIOTYP        region_rr1      ordinal             [-1,0]\n",
       "74     KBA13_ANZAHL_PKW    macrocell_plz8      numeric                 []\n",
       "75           PLZ8_ANTG1    macrocell_plz8      ordinal               [-1]\n",
       "76           PLZ8_ANTG2    macrocell_plz8      ordinal               [-1]\n",
       "77           PLZ8_ANTG3    macrocell_plz8      ordinal               [-1]\n",
       "78           PLZ8_ANTG4    macrocell_plz8      ordinal               [-1]\n",
       "79          PLZ8_BAUMAX    macrocell_plz8        mixed             [-1,0]\n",
       "80             PLZ8_HHZ    macrocell_plz8      ordinal               [-1]\n",
       "81             PLZ8_GBZ    macrocell_plz8      ordinal               [-1]\n",
       "82               ARBEIT         community      ordinal             [-1,9]\n",
       "83          ORTSGR_KLS9         community      ordinal             [-1,0]\n",
       "84             RELAT_AB         community      ordinal             [-1,9]"
      ]
     },
     "execution_count": 115,
     "metadata": {},
     "output_type": "execute_result"
    }
   ],
   "source": [
    "feat_info.tail(40)"
   ]
  },
  {
   "cell_type": "markdown",
   "metadata": {},
   "source": [
    "Where the following unique values can be identified in the **type** column :"
   ]
  },
  {
   "cell_type": "code",
   "execution_count": 116,
   "metadata": {},
   "outputs": [
    {
     "data": {
      "text/plain": [
       "array(['categorical', 'ordinal', 'numeric', 'mixed', 'interval'],\n",
       "      dtype=object)"
      ]
     },
     "execution_count": 116,
     "metadata": {},
     "output_type": "execute_result"
    }
   ],
   "source": [
    "feat_info.type.unique()"
   ]
  },
  {
   "cell_type": "markdown",
   "metadata": {},
   "source": [
    "As we can see right below, the **type** column contains 5 unique values, namely, data formats for the features of the demographic dataset. These are:\n",
    "- \"categorical\"\n",
    "- \"ordinal\"\n",
    "- \"numeric\"\n",
    "- \"mixed\"\n",
    "- \"interval\"\n",
    "\n",
    "First observation: the *numeric* type matches what we reported in the description table for the features **ANZ_TITEL**, **ANZ_PERSONEN**, **ANZ_HH_TITEL**,**ANZ_HAUSHALTE_AKTIV**, **GEBURTSJAHR**, **MIN_GEBAEUDEJAHR** and **KBA13_ANZAHL_PKW**.\n",
    "In the same manner, the values reported in type *ordinal* in `feat_info` are assigned to the same type of categorical data in our Data_Dictionary table.\n",
    "\n",
    "For the other types, some differences might be observed though:\n",
    "- **ALTER_HH**, defining the birthdate of head of household is reported as \"interval\" in `feat_info` but as categorical data in our own synthesis. Even though the values from 1 to 21 would represent a continuous date interval (from 1895 to 1995) this value remains a categorical one computationally speaking.\n",
    "- there are 7 features of `feat_info` defined as *mixed*. These are actually a mixture of ordinal and nominal categorical data (ex: **CAMEO_DEU-2015**, representative of the relative wealth and situation of the person is given a value of 0–9A-E). In a sense of data processing, these are actually referring to nominal categorical data."
   ]
  },
  {
   "cell_type": "markdown",
   "metadata": {},
   "source": [
    "From this point, we can see that the **missing_or_unknown** column in `feat_info` provides for each attribute the value it is assigned when the feature is *unknown* or *undetermined*. At our level, this values may be seen as a *null* or *NaN* value."
   ]
  },
  {
   "cell_type": "markdown",
   "metadata": {},
   "source": [
    "<a id='CustomersExplore'></a>\n",
    "### Step 0.4: Exploration of the Customers subset (customers)"
   ]
  },
  {
   "cell_type": "markdown",
   "metadata": {},
   "source": [
    "It seems logical that the ctuomers subset provides the same data as the demographic `azdias` dataframe since it uniformizes the same features for the mail-order company."
   ]
  },
  {
   "cell_type": "code",
   "execution_count": 117,
   "metadata": {},
   "outputs": [
    {
     "data": {
      "text/html": [
       "<div>\n",
       "<style scoped>\n",
       "    .dataframe tbody tr th:only-of-type {\n",
       "        vertical-align: middle;\n",
       "    }\n",
       "\n",
       "    .dataframe tbody tr th {\n",
       "        vertical-align: top;\n",
       "    }\n",
       "\n",
       "    .dataframe thead th {\n",
       "        text-align: right;\n",
       "    }\n",
       "</style>\n",
       "<table border=\"1\" class=\"dataframe\">\n",
       "  <thead>\n",
       "    <tr style=\"text-align: right;\">\n",
       "      <th></th>\n",
       "      <th>0</th>\n",
       "      <th>1</th>\n",
       "      <th>2</th>\n",
       "      <th>3</th>\n",
       "      <th>4</th>\n",
       "    </tr>\n",
       "  </thead>\n",
       "  <tbody>\n",
       "    <tr>\n",
       "      <td>AGER_TYP</td>\n",
       "      <td>2</td>\n",
       "      <td>-1</td>\n",
       "      <td>-1</td>\n",
       "      <td>1</td>\n",
       "      <td>-1</td>\n",
       "    </tr>\n",
       "    <tr>\n",
       "      <td>ALTERSKATEGORIE_GROB</td>\n",
       "      <td>4</td>\n",
       "      <td>4</td>\n",
       "      <td>4</td>\n",
       "      <td>4</td>\n",
       "      <td>3</td>\n",
       "    </tr>\n",
       "    <tr>\n",
       "      <td>ANREDE_KZ</td>\n",
       "      <td>1</td>\n",
       "      <td>1</td>\n",
       "      <td>2</td>\n",
       "      <td>1</td>\n",
       "      <td>1</td>\n",
       "    </tr>\n",
       "    <tr>\n",
       "      <td>CJT_GESAMTTYP</td>\n",
       "      <td>5</td>\n",
       "      <td>NaN</td>\n",
       "      <td>2</td>\n",
       "      <td>2</td>\n",
       "      <td>6</td>\n",
       "    </tr>\n",
       "    <tr>\n",
       "      <td>FINANZ_MINIMALIST</td>\n",
       "      <td>5</td>\n",
       "      <td>5</td>\n",
       "      <td>5</td>\n",
       "      <td>5</td>\n",
       "      <td>3</td>\n",
       "    </tr>\n",
       "    <tr>\n",
       "      <td>...</td>\n",
       "      <td>...</td>\n",
       "      <td>...</td>\n",
       "      <td>...</td>\n",
       "      <td>...</td>\n",
       "      <td>...</td>\n",
       "    </tr>\n",
       "    <tr>\n",
       "      <td>PLZ8_HHZ</td>\n",
       "      <td>5</td>\n",
       "      <td>NaN</td>\n",
       "      <td>3</td>\n",
       "      <td>3</td>\n",
       "      <td>3</td>\n",
       "    </tr>\n",
       "    <tr>\n",
       "      <td>PLZ8_GBZ</td>\n",
       "      <td>5</td>\n",
       "      <td>NaN</td>\n",
       "      <td>2</td>\n",
       "      <td>4</td>\n",
       "      <td>3</td>\n",
       "    </tr>\n",
       "    <tr>\n",
       "      <td>ARBEIT</td>\n",
       "      <td>1</td>\n",
       "      <td>NaN</td>\n",
       "      <td>3</td>\n",
       "      <td>1</td>\n",
       "      <td>3</td>\n",
       "    </tr>\n",
       "    <tr>\n",
       "      <td>ORTSGR_KLS9</td>\n",
       "      <td>2</td>\n",
       "      <td>NaN</td>\n",
       "      <td>5</td>\n",
       "      <td>3</td>\n",
       "      <td>5</td>\n",
       "    </tr>\n",
       "    <tr>\n",
       "      <td>RELAT_AB</td>\n",
       "      <td>1</td>\n",
       "      <td>NaN</td>\n",
       "      <td>3</td>\n",
       "      <td>1</td>\n",
       "      <td>1</td>\n",
       "    </tr>\n",
       "  </tbody>\n",
       "</table>\n",
       "<p>85 rows × 5 columns</p>\n",
       "</div>"
      ],
      "text/plain": [
       "                      0    1   2  3   4\n",
       "AGER_TYP              2   -1  -1  1  -1\n",
       "ALTERSKATEGORIE_GROB  4    4   4  4   3\n",
       "ANREDE_KZ             1    1   2  1   1\n",
       "CJT_GESAMTTYP         5  NaN   2  2   6\n",
       "FINANZ_MINIMALIST     5    5   5  5   3\n",
       "...                  ..  ...  .. ..  ..\n",
       "PLZ8_HHZ              5  NaN   3  3   3\n",
       "PLZ8_GBZ              5  NaN   2  4   3\n",
       "ARBEIT                1  NaN   3  1   3\n",
       "ORTSGR_KLS9           2  NaN   5  3   5\n",
       "RELAT_AB              1  NaN   3  1   1\n",
       "\n",
       "[85 rows x 5 columns]"
      ]
     },
     "execution_count": 117,
     "metadata": {},
     "output_type": "execute_result"
    }
   ],
   "source": [
    "customers.head().T"
   ]
  },
  {
   "cell_type": "code",
   "execution_count": 118,
   "metadata": {},
   "outputs": [
    {
     "data": {
      "text/plain": [
       "(191652, 85)"
      ]
     },
     "execution_count": 118,
     "metadata": {},
     "output_type": "execute_result"
    }
   ],
   "source": [
    "customers.shape"
   ]
  },
  {
   "cell_type": "markdown",
   "metadata": {},
   "source": [
    "As it can be observed, we find back our 85 independent features. However, this time the dataframe contains a distinct number of entries which is 191652. This value yet corresponds to the number of customers which used in the past (or suscribed) the mail-ordering system.\n",
    "\n",
    "To see if the same issue or null and NaN values also impacts this dataframe, let us compare the number of missing values in `customers`."
   ]
  },
  {
   "cell_type": "code",
   "execution_count": 119,
   "metadata": {},
   "outputs": [],
   "source": [
    "# Plot percent rate of missing value per feature\n",
    "def plot_nas_compare(df_main: pd.DataFrame, df_comp: pd.DataFrame, df1_name =\"main dataframe\", df2_name=\"secondary dataframe\"):\n",
    "    '''\n",
    "    Plots the comparative histogram of missing values per feature in two distinct daframes.\n",
    "    Only shows the column containing missing values.\n",
    "    The count of missing values is sorted by descending order.\n",
    "    \n",
    "    INPUT: df_main - main dataframe taken as baseline\n",
    "           df1_name - name of main dataframe (as string)\n",
    "           df_comp - secondary dataframe to be compared\n",
    "           df2_name - name of secondary dataframe (as string)\n",
    "\n",
    "    OUTPUT: none\n",
    "    '''\n",
    "    if ((set(df_main.columns) == set(df_comp.columns)) and df_main.isnull().sum().sum() != 0):\n",
    "        # Calculate the mean of null values per feature (in pct) for each dataframes and and store it into df_main and df_comp\n",
    "        df_main = (df_main.isnull().sum() / len(df_main)) * 100\n",
    "        df_comp = (df_comp.isnull().sum() / len(df_comp)) * 100\n",
    "        # Drop the index of df_main and df_comp if number of missing values is 0\n",
    "        df_main = df_main.drop(df_main[df_main == 0].index)\n",
    "        df_comp = df_comp.drop(df_comp[df_comp == 0].index)\n",
    "        # Stores the 2 new dataframes in a dictionary with 2 keys : df1_name and df2_name \n",
    "        # Convert it back into dataframe named missing_data\n",
    "        missing_data = pd.DataFrame({df1_name :df_main, df2_name:df_comp})\n",
    "        missing_data_sorted = missing_data.sort_values(df1_name)\n",
    "        # Plot missing_data using a horizontal bar graph\n",
    "        missing_data_sorted.plot(kind = \"barh\", figsize=(6,20))\n",
    "        plt.xlabel(\"Missing ratio (in %)\")\n",
    "        plt.show()\n",
    "    else:\n",
    "        print('No NAs found')"
   ]
  },
  {
   "cell_type": "code",
   "execution_count": 120,
   "metadata": {},
   "outputs": [
    {
     "data": {
      "image/png": "[encoded data removed]",
      "text/plain": [
       "<Figure size 432x1440 with 1 Axes>"
      ]
     },
     "metadata": {
      "needs_background": "light"
     },
     "output_type": "display_data"
    }
   ],
   "source": [
    "plot_nas_compare(azdias, customers, \"azdias\", \"customers\")"
   ]
  },
  {
   "cell_type": "markdown",
   "metadata": {},
   "source": [
    "It is interesting to see that the `customers` dataframe is impacted by the same issue of missing values as our main azdias demographic dataset.\n",
    "Whereas our **KK_KUNDENTYP** column shows a slightly lower ratio of missing values than that for `azdias`, all the other categories seem to be affected by the same problem but at an even larger level (with 25% up to 30% of missing values in many columns)."
   ]
  },
  {
   "cell_type": "markdown",
   "metadata": {},
   "source": [
    "<a id='IntuitionExplore'></a>\n",
    "### Step 0.5: Assessing and Building Intuition"
   ]
  },
  {
   "cell_type": "markdown",
   "metadata": {},
   "source": [
    "This brings us to the interesting part of the analysis.\n",
    "So as to optimize the mail-ordering campaign, it is usefull to better identify the trends of our new potential customers.\n",
    "\n",
    "Whereas the Machine Learning algorithm we will build in the next part of our analysis will allow to reveal the close clusters of this new market share, we can already emit some hypotheses about the features which are more likely to influence or reveal the active mail-ordering users as well as potential customer targets.\n",
    "The age, the mobility, and the standard level are 3 important features we should be looking at for orienting the marketing strategy, but there may be many others (which are not necessarily statistically independent).\n",
    "\n",
    "As a first assessment, we can assume directions and especially extract some insights on customers’ characteristics in comparison to the general population.\n",
    "\n",
    "A few questions to guide this exploratory data analysis task:\n",
    "- How old are the customers?\n",
    "- How are they classified while consumers?\n",
    "- What about their incomes?\n",
    "- What are their consumption habits?"
   ]
  },
  {
   "cell_type": "code",
   "execution_count": 121,
   "metadata": {},
   "outputs": [],
   "source": [
    "def plot_counts(df_main: pd.DataFrame, df_comp: pd.DataFrame, df1_name =\"main dataframe\", df2_name=\"secondary dataframe\", col=\"count (in %)\"):\n",
    "    '''\n",
    "    Plots the count of value for a given column for two distinct daframes.\n",
    "    (Expects 2 dataframes with identical columns)\n",
    "    \n",
    "    INPUT: df_main - main dataframe taken as baseline\n",
    "           df1_name - name of main dataframe (as string)\n",
    "           df_comp - secondary dataframe to be compared\n",
    "           df2_name - name of secondary dataframe (as string)\n",
    "           col - name of the column counts to plot (as string)\n",
    "\n",
    "    OUTPUT: none\n",
    "    '''\n",
    "    #sns.set(font_scale=1.4)\n",
    "    \n",
    "    #Calculate the value_count for each unique value of the column 'col' in our 2 distinct dataframes\n",
    "    #Result is overwritten in the same dataframes\n",
    "    df_main = (df_main[col].value_counts().sort_index() / len(df_main)) * 100\n",
    "    df_comp = (df_comp[col].value_counts() / len(df_comp)) * 100\n",
    "\n",
    "    # Stores the 2 new dataframes in a dictionary with 2 keys : df1_name and df2_name \n",
    "    # Convert it back into dataframe named 'count'\n",
    "    count = pd.DataFrame({df1_name :df_main, df2_name:df_comp})\n",
    "    # Plot count in a barchart\n",
    "    count.plot(kind = \"bar\", figsize=(6, 5))\n",
    "    plt.title(col)\n",
    "    plt.xlabel(\"Feature value\")\n",
    "    plt.ylabel(\"Count (% of total dataframe)\")\n",
    "    plt.show()\n",
    "    "
   ]
  },
  {
   "cell_type": "code",
   "execution_count": 122,
   "metadata": {
    "scrolled": false
   },
   "outputs": [
    {
     "data": {
      "image/png": "[encoded data removed]",
      "text/plain": [
       "<Figure size 432x360 with 1 Axes>"
      ]
     },
     "metadata": {
      "needs_background": "light"
     },
     "output_type": "display_data"
    }
   ],
   "source": [
    "plot_counts(azdias, customers, \"azdias\", \"customers\", \"ALTERSKATEGORIE_GROB\")"
   ]
  },
  {
   "cell_type": "markdown",
   "metadata": {},
   "source": [
    "As a first insight, we can see that our mail ordering company's targets are prevalent in the 46 and more age group. Whereas 40% of the population is in between 46 and 60 years old in Germany (category 3), which represents a strong basis for our services, an even larger consumption target is created by those over 60 (category 4). The more limited mobility and the rural geographical situation of the older people (families) could explain this criteria."
   ]
  },
  {
   "cell_type": "code",
   "execution_count": 123,
   "metadata": {
    "scrolled": false
   },
   "outputs": [
    {
     "data": {
      "image/png": "[encoded data removed]",
      "text/plain": [
       "<Figure size 432x360 with 1 Axes>"
      ]
     },
     "metadata": {
      "needs_background": "light"
     },
     "output_type": "display_data"
    }
   ],
   "source": [
    "plot_counts(azdias, customers, \"azdias\", \"customers\", \"SHOPPER_TYP\")"
   ]
  },
  {
   "cell_type": "markdown",
   "metadata": {},
   "source": [
    "Additionally, we can observe that the shopper typology is pretty well balanced. Whereas the German population seems to reflect a larger proportion of \"shopping stressed\" purchasers (category 1), we can see that the mail-ordering services are more likely to attract the demanding shopper profiles (category 3).\n",
    "Anyhow, this is not surprising as the ordering system is primarily turning to the more-intensive consumer segment of the population."
   ]
  },
  {
   "cell_type": "code",
   "execution_count": 124,
   "metadata": {
    "scrolled": true
   },
   "outputs": [
    {
     "data": {
      "image/png": "[encoded data removed]",
      "text/plain": [
       "<Figure size 432x360 with 1 Axes>"
      ]
     },
     "metadata": {
      "needs_background": "light"
     },
     "output_type": "display_data"
    }
   ],
   "source": [
    "plot_counts(azdias, customers, \"azdias\", \"customers\", \"HH_EINKOMMEN_SCORE\")"
   ]
  },
  {
   "cell_type": "markdown",
   "metadata": {},
   "source": [
    "As we could predict the income (reflecting the standard of living of the individuals) has a large influence on the consumption and puchasing trends. The income of the German population remains \"almost\" uniformely spread, in comparison with the global trend. Here, the values are ranging from 1 for the highest income down to 6 for the very low incomes.\n",
    "It can thus be noticed that the largest customer potential for the mail-ordering companies is often turning towards the very high income (category 2). However, the products and services and marketing strategy of UDAgoods services should not neglect the low and very low incomes since they nevertheless represent almost 50% of the German population."
   ]
  },
  {
   "cell_type": "code",
   "execution_count": 125,
   "metadata": {
    "scrolled": true
   },
   "outputs": [
    {
     "data": {
      "image/png": "[encoded data removed]",
      "text/plain": [
       "<Figure size 432x360 with 1 Axes>"
      ]
     },
     "metadata": {
      "needs_background": "light"
     },
     "output_type": "display_data"
    }
   ],
   "source": [
    "plot_counts(azdias, customers, \"azdias\", \"customers\", \"ONLINE_AFFINITAET\")"
   ]
  },
  {
   "cell_type": "markdown",
   "metadata": {},
   "source": [
    "Finally, the last barchart reminds the usual trend of the mail orders with respect to the online affinity (scaled from 1 the lowest to 5 the highest), where 40% use to come alone from the people at middle affinity level. The Azdias demographics show that at local level the individuals' online affinity is very well balanced where each affinity level represents roughly 20% of the population. Here again, a marketing strategy should not be taken lightly."
   ]
  },
  {
   "cell_type": "markdown",
   "metadata": {},
   "source": [
    "> **Tip**: Add additional cells to keep everything in reasonably-sized chunks! Keyboard shortcut `esc --> a` (press escape to enter command mode, then press the 'A' key) adds a new cell before the active cell, and `esc --> b` adds a new cell after the active cell. If you need to convert an active cell to a markdown cell, use `esc --> m` and to convert to a code cell, use `esc --> y`. \n",
    "<a id='Step1'></a>\n",
    "\n",
    "## Step 1: Preprocessing"
   ]
  },
  {
   "cell_type": "markdown",
   "metadata": {},
   "source": [
    "<a id='Step1.1'></a>\n",
    "\n",
    "### Step 1.1: Assess Missing Data\n",
    "\n",
    "The feature summary file contains a summary of properties for each demographics data column. You will use this file to help you make cleaning decisions during this stage of the project. First of all, you should assess the demographics data in terms of missing data. Pay attention to the following points as you perform your analysis, and take notes on what you observe. Make sure that you fill in the **Discussion** cell with your findings and decisions at the end of each step that has one!"
   ]
  },
  {
   "cell_type": "markdown",
   "metadata": {},
   "source": [
    "<a id='Step1.1.0'></a>\n",
    "#### Step 1.1.0: Rectification of \"nan\" strings"
   ]
  },
  {
   "cell_type": "markdown",
   "metadata": {},
   "source": [
    "Prior to enter the details of the missing value vodes in following part, a first inconsistency needs to be corrected. In part [S0.1](#AzdiasExplore), a first count of the NaN value in the `azdias` demographic data was achieved. At this stage, a part of the null entries was omitted from the count.To be more accurate, a closer look to the internal content of the dataframe can let oversee that the dataframe contains \"nan\" as string fields, not standardized with Numpy **NaN** data type.\n",
    "Here is an example :"
   ]
  },
  {
   "cell_type": "code",
   "execution_count": 126,
   "metadata": {},
   "outputs": [
    {
     "data": {
      "text/plain": [
       "array([ 2.,  5.,  3.,  4.,  1.,  6., nan])"
      ]
     },
     "execution_count": 126,
     "metadata": {},
     "output_type": "execute_result"
    }
   ],
   "source": [
    "azdias['CJT_GESAMTTYP'].unique()"
   ]
  },
  {
   "cell_type": "markdown",
   "metadata": {},
   "source": [
    "These misleading \"nan\" strings, not conform with the *np.nan* null type, are not identifiable as *null* in the dataset using standard Numpy functions. So as not to go through these lying entries when counting and processing the nulls, a standardization is required."
   ]
  },
  {
   "cell_type": "code",
   "execution_count": 127,
   "metadata": {
    "scrolled": true
   },
   "outputs": [
    {
     "data": {
      "text/plain": [
       "4854"
      ]
     },
     "execution_count": 127,
     "metadata": {},
     "output_type": "execute_result"
    }
   ],
   "source": [
    "azdias['CJT_GESAMTTYP'].isna().sum()"
   ]
  },
  {
   "cell_type": "markdown",
   "metadata": {},
   "source": [
    "<a id='Step1.1.1'></a>\n",
    "#### Step 1.1.1: Convert Missing Value Codes to NaNs\n",
    "The fourth column of the feature attributes summary (loaded in above as `feat_info`) documents the codes from the data dictionary that indicate missing or unknown data. While the file encodes this as a list (e.g. `[-1,0]`), this will get read in as a string object. You'll need to do a little bit of parsing to make use of it to identify and clean the data. Convert data that matches a 'missing' or 'unknown' value code into a numpy NaN value. You might want to see how much data takes on a 'missing' or 'unknown' code, and how much data is naturally missing, as a point of interest.\n",
    "\n",
    "**As one more reminder, you are encouraged to add additional cells to break up your analysis into manageable chunks.**"
   ]
  },
  {
   "cell_type": "markdown",
   "metadata": {},
   "source": [
    "As we could see in [S0.3](#FeatInfoExplore), the column **missing_or_unknown** of the `feat_info` dataframe provides each attribute the value it is assigned when the feature is *unknown* or *undetermined*. This specific values shall then be considered as \"missing values codes\". More particularly, we could extract the following set of values:"
   ]
  },
  {
   "cell_type": "code",
   "execution_count": 128,
   "metadata": {},
   "outputs": [
    {
     "data": {
      "text/plain": [
       "array(['[-1,0]', '[-1,0,9]', '[0]', '[-1]', '[]', '[-1,9]', '[-1,X]',\n",
       "       '[XX]', '[-1,XX]'], dtype=object)"
      ]
     },
     "execution_count": 128,
     "metadata": {},
     "output_type": "execute_result"
    }
   ],
   "source": [
    "# find out the different kind of encodings\n",
    "feat_info.missing_or_unknown.unique()"
   ]
  },
  {
   "cell_type": "markdown",
   "metadata": {},
   "source": [
    "Interesting to see that beyond the numerical values which are reflected in the `Data_Dictionary.md` for the missing value codes, we can also identify and extract additional specific 'X’ and ‘XX’ values. As for the other ones, these are also interpreted as *unknown* or *undetermined* entries.\n",
    "\n",
    "It may be useful to point out that the **missing_or_unknown** column does not contain an array of array of missing value codes. Instead, this column is an array of strings. \n",
    "From this point and to go into further depth on the data analysis, all the missing value codes listed in `feat_info` will have to be extracted and identified so as to convert the corresponding values in `azdias` to standard NaN type, interpretable as \"null\" entries by our Python libraries."
   ]
  },
  {
   "cell_type": "code",
   "execution_count": 129,
   "metadata": {},
   "outputs": [],
   "source": [
    "# Identify missing or unknown data values and convert them to NaNs.\n",
    "def parseAzdiasFeatMissingValuecodes(df = feat_info):\n",
    "    '''Parses the missing value codes defined by the 'missing_or_unknown' of AZDIAS_Feature_Summary.csv\n",
    "    \n",
    "    INPUT: df - dataframe corresponding to the AZDIAS_Feature_Summary.csv file (default = feat_info)\n",
    "    OUTPUT: none\n",
    "    '''\n",
    "    df['missing_or_unknown'] = df['missing_or_unknown'].apply(lambda x: x[1:-1].split(','))"
   ]
  },
  {
   "cell_type": "code",
   "execution_count": 130,
   "metadata": {},
   "outputs": [],
   "source": [
    "def replaceAzdiasMissingValuecodes(df_azdias = azdias, df_features = feat_info):\n",
    "    '''replaces the missing value codes by NaN values in AZDIAS_Subset.csv dataframe\n",
    "    \n",
    "    INPUT: df_azdias - dataframe corresponding to the AZDIAS_Subset.csv file (default = azdias)\n",
    "           df_missingvalcodes - dataframe corresponding to the AZDIAS_Feature_Summary.csv file (default = feat_info)\n",
    "               requires parsed values in 'missing_or_unknown' column\n",
    "           \n",
    "    OUTPUT: df_azdias\n",
    "    '''\n",
    "    for attribute, missing_value_codes in zip(df_features['attribute'], df_features['missing_or_unknown']):\n",
    "        if missing_value_codes[0] != '':\n",
    "            for missing_value in missing_value_codes:\n",
    "                if missing_value.isnumeric() or missing_value.lstrip('-').isnumeric():\n",
    "                    missing_value = int(missing_value)\n",
    "                df_azdias.loc[df_azdias[attribute] == missing_value, attribute] = np.nan\n",
    "    return df_azdias"
   ]
  },
  {
   "cell_type": "code",
   "execution_count": 131,
   "metadata": {},
   "outputs": [],
   "source": [
    "# call the Azdias feature missing value code parsing\n",
    "parseAzdiasFeatMissingValuecodes()\n",
    "# call the NaN replace function after missing value code parsing\n",
    "azdias = replaceAzdiasMissingValuecodes(azdias, feat_info)"
   ]
  },
  {
   "cell_type": "code",
   "execution_count": 132,
   "metadata": {},
   "outputs": [
    {
     "name": "stdout",
     "output_type": "stream",
     "text": [
      "Total number of missing values after conversion is 8373929\n"
     ]
    }
   ],
   "source": [
    "print('Total number of missing values after conversion is {}'.format(azdias.isnull().sum().sum()))"
   ]
  },
  {
   "cell_type": "markdown",
   "metadata": {},
   "source": [
    "<a id='Step1.1.2'></a>\n",
    "#### Step 1.1.2: Assess Missing Data in Each Column\n",
    "\n",
    "How much missing data is present in each column? There are a few columns that are outliers in terms of the proportion of values that are missing. You will want to use matplotlib's [`hist()`](https://matplotlib.org/api/_as_gen/matplotlib.pyplot.hist.html) function to visualize the distribution of missing value counts to find these columns. Identify and document these columns. While some of these columns might have justifications for keeping or re-encoding the data, for this project you should just remove them from the dataframe. (Feel free to make remarks about these outlier columns in the discussion, however!)\n",
    "\n",
    "For the remaining features, are there any patterns in which columns have, or share, missing data?"
   ]
  },
  {
   "cell_type": "markdown",
   "metadata": {},
   "source": [
    "Based on the cleaning operated previously, a good practice is to make sure that our main azdias dataframe now contains np.nan values, instead of the missing value codes.\n",
    "An look into the dataframe content can give a first insight."
   ]
  },
  {
   "cell_type": "code",
   "execution_count": 133,
   "metadata": {},
   "outputs": [
    {
     "data": {
      "text/html": [
       "<div>\n",
       "<style scoped>\n",
       "    .dataframe tbody tr th:only-of-type {\n",
       "        vertical-align: middle;\n",
       "    }\n",
       "\n",
       "    .dataframe tbody tr th {\n",
       "        vertical-align: top;\n",
       "    }\n",
       "\n",
       "    .dataframe thead th {\n",
       "        text-align: right;\n",
       "    }\n",
       "</style>\n",
       "<table border=\"1\" class=\"dataframe\">\n",
       "  <thead>\n",
       "    <tr style=\"text-align: right;\">\n",
       "      <th></th>\n",
       "      <th>AGER_TYP</th>\n",
       "      <th>ALTERSKATEGORIE_GROB</th>\n",
       "      <th>ANREDE_KZ</th>\n",
       "      <th>CJT_GESAMTTYP</th>\n",
       "      <th>FINANZ_MINIMALIST</th>\n",
       "      <th>FINANZ_SPARER</th>\n",
       "      <th>FINANZ_VORSORGER</th>\n",
       "      <th>FINANZ_ANLEGER</th>\n",
       "      <th>FINANZ_UNAUFFAELLIGER</th>\n",
       "      <th>FINANZ_HAUSBAUER</th>\n",
       "      <th>...</th>\n",
       "      <th>PLZ8_ANTG1</th>\n",
       "      <th>PLZ8_ANTG2</th>\n",
       "      <th>PLZ8_ANTG3</th>\n",
       "      <th>PLZ8_ANTG4</th>\n",
       "      <th>PLZ8_BAUMAX</th>\n",
       "      <th>PLZ8_HHZ</th>\n",
       "      <th>PLZ8_GBZ</th>\n",
       "      <th>ARBEIT</th>\n",
       "      <th>ORTSGR_KLS9</th>\n",
       "      <th>RELAT_AB</th>\n",
       "    </tr>\n",
       "  </thead>\n",
       "  <tbody>\n",
       "    <tr>\n",
       "      <td>0</td>\n",
       "      <td>NaN</td>\n",
       "      <td>2.0</td>\n",
       "      <td>1.0</td>\n",
       "      <td>2.0</td>\n",
       "      <td>3.0</td>\n",
       "      <td>4.0</td>\n",
       "      <td>3.0</td>\n",
       "      <td>5.0</td>\n",
       "      <td>5.0</td>\n",
       "      <td>3.0</td>\n",
       "      <td>...</td>\n",
       "      <td>NaN</td>\n",
       "      <td>NaN</td>\n",
       "      <td>NaN</td>\n",
       "      <td>NaN</td>\n",
       "      <td>NaN</td>\n",
       "      <td>NaN</td>\n",
       "      <td>NaN</td>\n",
       "      <td>NaN</td>\n",
       "      <td>NaN</td>\n",
       "      <td>NaN</td>\n",
       "    </tr>\n",
       "    <tr>\n",
       "      <td>1</td>\n",
       "      <td>NaN</td>\n",
       "      <td>1.0</td>\n",
       "      <td>2.0</td>\n",
       "      <td>5.0</td>\n",
       "      <td>1.0</td>\n",
       "      <td>5.0</td>\n",
       "      <td>2.0</td>\n",
       "      <td>5.0</td>\n",
       "      <td>4.0</td>\n",
       "      <td>5.0</td>\n",
       "      <td>...</td>\n",
       "      <td>2.0</td>\n",
       "      <td>3.0</td>\n",
       "      <td>2.0</td>\n",
       "      <td>1.0</td>\n",
       "      <td>1.0</td>\n",
       "      <td>5.0</td>\n",
       "      <td>4.0</td>\n",
       "      <td>3.0</td>\n",
       "      <td>5.0</td>\n",
       "      <td>4.0</td>\n",
       "    </tr>\n",
       "    <tr>\n",
       "      <td>2</td>\n",
       "      <td>NaN</td>\n",
       "      <td>3.0</td>\n",
       "      <td>2.0</td>\n",
       "      <td>3.0</td>\n",
       "      <td>1.0</td>\n",
       "      <td>4.0</td>\n",
       "      <td>1.0</td>\n",
       "      <td>2.0</td>\n",
       "      <td>3.0</td>\n",
       "      <td>5.0</td>\n",
       "      <td>...</td>\n",
       "      <td>3.0</td>\n",
       "      <td>3.0</td>\n",
       "      <td>1.0</td>\n",
       "      <td>0.0</td>\n",
       "      <td>1.0</td>\n",
       "      <td>4.0</td>\n",
       "      <td>4.0</td>\n",
       "      <td>3.0</td>\n",
       "      <td>5.0</td>\n",
       "      <td>2.0</td>\n",
       "    </tr>\n",
       "    <tr>\n",
       "      <td>3</td>\n",
       "      <td>2.0</td>\n",
       "      <td>4.0</td>\n",
       "      <td>2.0</td>\n",
       "      <td>2.0</td>\n",
       "      <td>4.0</td>\n",
       "      <td>2.0</td>\n",
       "      <td>5.0</td>\n",
       "      <td>2.0</td>\n",
       "      <td>1.0</td>\n",
       "      <td>2.0</td>\n",
       "      <td>...</td>\n",
       "      <td>2.0</td>\n",
       "      <td>2.0</td>\n",
       "      <td>2.0</td>\n",
       "      <td>0.0</td>\n",
       "      <td>1.0</td>\n",
       "      <td>3.0</td>\n",
       "      <td>4.0</td>\n",
       "      <td>2.0</td>\n",
       "      <td>3.0</td>\n",
       "      <td>3.0</td>\n",
       "    </tr>\n",
       "    <tr>\n",
       "      <td>4</td>\n",
       "      <td>NaN</td>\n",
       "      <td>3.0</td>\n",
       "      <td>1.0</td>\n",
       "      <td>5.0</td>\n",
       "      <td>4.0</td>\n",
       "      <td>3.0</td>\n",
       "      <td>4.0</td>\n",
       "      <td>1.0</td>\n",
       "      <td>3.0</td>\n",
       "      <td>2.0</td>\n",
       "      <td>...</td>\n",
       "      <td>2.0</td>\n",
       "      <td>4.0</td>\n",
       "      <td>2.0</td>\n",
       "      <td>1.0</td>\n",
       "      <td>2.0</td>\n",
       "      <td>3.0</td>\n",
       "      <td>3.0</td>\n",
       "      <td>4.0</td>\n",
       "      <td>6.0</td>\n",
       "      <td>5.0</td>\n",
       "    </tr>\n",
       "  </tbody>\n",
       "</table>\n",
       "<p>5 rows × 85 columns</p>\n",
       "</div>"
      ],
      "text/plain": [
       "   AGER_TYP  ALTERSKATEGORIE_GROB  ANREDE_KZ  CJT_GESAMTTYP  \\\n",
       "0       NaN                   2.0        1.0            2.0   \n",
       "1       NaN                   1.0        2.0            5.0   \n",
       "2       NaN                   3.0        2.0            3.0   \n",
       "3       2.0                   4.0        2.0            2.0   \n",
       "4       NaN                   3.0        1.0            5.0   \n",
       "\n",
       "   FINANZ_MINIMALIST  FINANZ_SPARER  FINANZ_VORSORGER  FINANZ_ANLEGER  \\\n",
       "0                3.0            4.0               3.0             5.0   \n",
       "1                1.0            5.0               2.0             5.0   \n",
       "2                1.0            4.0               1.0             2.0   \n",
       "3                4.0            2.0               5.0             2.0   \n",
       "4                4.0            3.0               4.0             1.0   \n",
       "\n",
       "   FINANZ_UNAUFFAELLIGER  FINANZ_HAUSBAUER  ...  PLZ8_ANTG1  PLZ8_ANTG2  \\\n",
       "0                    5.0               3.0  ...         NaN         NaN   \n",
       "1                    4.0               5.0  ...         2.0         3.0   \n",
       "2                    3.0               5.0  ...         3.0         3.0   \n",
       "3                    1.0               2.0  ...         2.0         2.0   \n",
       "4                    3.0               2.0  ...         2.0         4.0   \n",
       "\n",
       "   PLZ8_ANTG3  PLZ8_ANTG4  PLZ8_BAUMAX  PLZ8_HHZ  PLZ8_GBZ  ARBEIT  \\\n",
       "0         NaN         NaN          NaN       NaN       NaN     NaN   \n",
       "1         2.0         1.0          1.0       5.0       4.0     3.0   \n",
       "2         1.0         0.0          1.0       4.0       4.0     3.0   \n",
       "3         2.0         0.0          1.0       3.0       4.0     2.0   \n",
       "4         2.0         1.0          2.0       3.0       3.0     4.0   \n",
       "\n",
       "   ORTSGR_KLS9  RELAT_AB  \n",
       "0          NaN       NaN  \n",
       "1          5.0       4.0  \n",
       "2          5.0       2.0  \n",
       "3          3.0       3.0  \n",
       "4          6.0       5.0  \n",
       "\n",
       "[5 rows x 85 columns]"
      ]
     },
     "execution_count": 133,
     "metadata": {},
     "output_type": "execute_result"
    }
   ],
   "source": [
    "azdias.head()"
   ]
  },
  {
   "cell_type": "markdown",
   "metadata": {},
   "source": [
    "To get a more reliable idea of operation achieved previously, let us now compute the sum of NaN and the percentage of NaN per column (i.e. AZDIAS feature). This value will then be compared to the first computation achieved in [S0.1](#AzdiasExplore)"
   ]
  },
  {
   "cell_type": "code",
   "execution_count": 134,
   "metadata": {
    "scrolled": true
   },
   "outputs": [
    {
     "data": {
      "text/html": [
       "<div>\n",
       "<style scoped>\n",
       "    .dataframe tbody tr th:only-of-type {\n",
       "        vertical-align: middle;\n",
       "    }\n",
       "\n",
       "    .dataframe tbody tr th {\n",
       "        vertical-align: top;\n",
       "    }\n",
       "\n",
       "    .dataframe thead th {\n",
       "        text-align: right;\n",
       "    }\n",
       "</style>\n",
       "<table border=\"1\" class=\"dataframe\">\n",
       "  <thead>\n",
       "    <tr style=\"text-align: right;\">\n",
       "      <th></th>\n",
       "      <th>sum</th>\n",
       "      <th>percent</th>\n",
       "    </tr>\n",
       "  </thead>\n",
       "  <tbody>\n",
       "    <tr>\n",
       "      <td>TITEL_KZ</td>\n",
       "      <td>889061</td>\n",
       "      <td>99.76</td>\n",
       "    </tr>\n",
       "    <tr>\n",
       "      <td>AGER_TYP</td>\n",
       "      <td>685843</td>\n",
       "      <td>76.96</td>\n",
       "    </tr>\n",
       "    <tr>\n",
       "      <td>KK_KUNDENTYP</td>\n",
       "      <td>584612</td>\n",
       "      <td>65.60</td>\n",
       "    </tr>\n",
       "    <tr>\n",
       "      <td>KBA05_BAUMAX</td>\n",
       "      <td>476524</td>\n",
       "      <td>53.47</td>\n",
       "    </tr>\n",
       "    <tr>\n",
       "      <td>GEBURTSJAHR</td>\n",
       "      <td>392318</td>\n",
       "      <td>44.02</td>\n",
       "    </tr>\n",
       "    <tr>\n",
       "      <td>...</td>\n",
       "      <td>...</td>\n",
       "      <td>...</td>\n",
       "    </tr>\n",
       "    <tr>\n",
       "      <td>LP_STATUS_FEIN</td>\n",
       "      <td>4854</td>\n",
       "      <td>0.54</td>\n",
       "    </tr>\n",
       "    <tr>\n",
       "      <td>GFK_URLAUBERTYP</td>\n",
       "      <td>4854</td>\n",
       "      <td>0.54</td>\n",
       "    </tr>\n",
       "    <tr>\n",
       "      <td>CJT_GESAMTTYP</td>\n",
       "      <td>4854</td>\n",
       "      <td>0.54</td>\n",
       "    </tr>\n",
       "    <tr>\n",
       "      <td>ONLINE_AFFINITAET</td>\n",
       "      <td>4854</td>\n",
       "      <td>0.54</td>\n",
       "    </tr>\n",
       "    <tr>\n",
       "      <td>ALTERSKATEGORIE_GROB</td>\n",
       "      <td>2881</td>\n",
       "      <td>0.32</td>\n",
       "    </tr>\n",
       "  </tbody>\n",
       "</table>\n",
       "<p>61 rows × 2 columns</p>\n",
       "</div>"
      ],
      "text/plain": [
       "                         sum  percent\n",
       "TITEL_KZ              889061    99.76\n",
       "AGER_TYP              685843    76.96\n",
       "KK_KUNDENTYP          584612    65.60\n",
       "KBA05_BAUMAX          476524    53.47\n",
       "GEBURTSJAHR           392318    44.02\n",
       "...                      ...      ...\n",
       "LP_STATUS_FEIN          4854     0.54\n",
       "GFK_URLAUBERTYP         4854     0.54\n",
       "CJT_GESAMTTYP           4854     0.54\n",
       "ONLINE_AFFINITAET       4854     0.54\n",
       "ALTERSKATEGORIE_GROB    2881     0.32\n",
       "\n",
       "[61 rows x 2 columns]"
      ]
     },
     "execution_count": 134,
     "metadata": {},
     "output_type": "execute_result"
    }
   ],
   "source": [
    "# Perform an assessment of how much missing data there is in each column of the\n",
    "# dataset.\n",
    "\n",
    "def countNANperColumn(df):\n",
    "    '''count the number of NaN per column in dataframe\n",
    "    \n",
    "    INPUT: df - input dataframe\n",
    "           \n",
    "    OUTPUT: none\n",
    "    '''\n",
    "    # Extract columns with NaNs\n",
    "    nan_col = df.isnull().sum()[df.isnull().sum() > 0]\n",
    "\n",
    "    # Calculate percentage of NaN for each column\n",
    "    dict_nan = {'sum': nan_col.values, 'percent': np.round(nan_col.values * 100 / len(df), 2)}\n",
    "\n",
    "    # Build a dataframe including only columns with NaNs\n",
    "    df_nan = pd.DataFrame(data=dict_nan, index=nan_col.index)\n",
    "\n",
    "    # Sort by percentage\n",
    "    df_nan.sort_values(by='percent', ascending=False, inplace=True)\n",
    "\n",
    "    return df_nan\n",
    "\n",
    "na_azdias = countNANperColumn(azdias)\n",
    "na_azdias"
   ]
  },
  {
   "cell_type": "markdown",
   "metadata": {},
   "source": [
    "The value show that we have greatly changed the count of NaN per column since our very first assessment. Whereas we are still around 65% of missing values for the column **KK_KUNDENTYP**, this one is now only in third position whereas the 2 first Azdias features with the highest count of null is now **TITEL_KZ** and **AGER_TYP**.\n",
    "\n",
    "Plotting the general pattern, a significant difference can be observed with the preliminary results of part [S0.1](#AzdiasExplore)."
   ]
  },
  {
   "cell_type": "code",
   "execution_count": 135,
   "metadata": {
    "scrolled": true
   },
   "outputs": [
    {
     "data": {
      "image/png": "[encoded data removed]",
      "text/plain": [
       "<Figure size 1296x576 with 1 Axes>"
      ]
     },
     "metadata": {
      "needs_background": "light"
     },
     "output_type": "display_data"
    }
   ],
   "source": [
    "# Investigate patterns in the amount of missing data in each column.\n",
    "countNANperColumn(azdias).percent.plot.bar(figsize=(18, 8));"
   ]
  },
  {
   "cell_type": "markdown",
   "metadata": {},
   "source": [
    "Our bar chart highlights the fact many columns have a non-negligible amount of null values. More particularly, we can see that the columns **TITEL_KZ**, **AGER_TYP**, **KK_KUNDENTYP**, **KBA05_BAUMAX**, **GEBURTSJAHR** and **ALTER_HH** are exceeding 35% of NaN values (with respect to the total number of entries of our demographic data).\n",
    "For sure, working with **TITEL_KZ**, given its amount of missing values is impossible. The same actually applies to the four folllowing columns, where the large proportion of missing data would inevitably skew the analysis and lead to inaccurate results and potential biased clustering.\n",
    "\n",
    "We can reasonably estimate that these 6 features may not be the most interesting ones in our market analysis, meaning, not the one generating the greatest variability. **KK_KUNDENTYP** as we saw previously, may show specific patterns for the mailing companies. Since this feature is established on the consumer pattern over the 12 last month, it seems logical to have a large number of *unknown* values for individuals which did not purchase quite recently. Furthermore, this parameter may have a large variance from one year to another, which would have made its processing more \"subtle\".\n",
    "The other features, in a specific consumption and marketing purpose (for our mail-ordering) are expected of much lower interest. By the way, the data of birth, which could highlight the typology of a given consumer target will obviously by reflected by (some) other features for which statistical independance is not expected.\n",
    "\n",
    "As a subdidiary remark, it may be useful to point out that in our case, the large amount of missing values does not reflect capture errors but are more representative of not-applicable responses, for which *undetermined* was the only assignable value for some individuals. The privacy aspect may also explain the quantity of *unknown* values for some others (ex: data of birth)\n",
    "\n",
    "Now, we can see that a number of other columns are tainted by missing values at a proportion of 15% and more. Shall we keep these ones ?"
   ]
  },
  {
   "cell_type": "code",
   "execution_count": 136,
   "metadata": {
    "scrolled": true
   },
   "outputs": [
    {
     "data": {
      "image/png": "[encoded data removed]",
      "text/plain": [
       "<Figure size 432x288 with 1 Axes>"
      ]
     },
     "metadata": {
      "needs_background": "light"
     },
     "output_type": "display_data"
    }
   ],
   "source": [
    "#plot the data as specified/sorted above\n",
    "\n",
    "plt.hist(countNANperColumn(azdias).percent, bins = 25)\n",
    "\n",
    "plt.xlabel('Percentage of missing data(%)')\n",
    "plt.ylabel('Counts')\n",
    "plt.title('Histogram of number of missing data')\n",
    "plt.grid(True)\n",
    "plt.show()"
   ]
  },
  {
   "cell_type": "markdown",
   "metadata": {},
   "source": [
    "The histogram shows that the largest amount of NaN is observed around 15% of missing data. \n",
    "This can be confirmed by looking at the spread of the NaN as below."
   ]
  },
  {
   "cell_type": "code",
   "execution_count": 137,
   "metadata": {
    "scrolled": true
   },
   "outputs": [
    {
     "data": {
      "text/html": [
       "<div>\n",
       "<style scoped>\n",
       "    .dataframe tbody tr th:only-of-type {\n",
       "        vertical-align: middle;\n",
       "    }\n",
       "\n",
       "    .dataframe tbody tr th {\n",
       "        vertical-align: top;\n",
       "    }\n",
       "\n",
       "    .dataframe thead th {\n",
       "        text-align: right;\n",
       "    }\n",
       "</style>\n",
       "<table border=\"1\" class=\"dataframe\">\n",
       "  <thead>\n",
       "    <tr style=\"text-align: right;\">\n",
       "      <th></th>\n",
       "      <th>sum</th>\n",
       "      <th>percent</th>\n",
       "    </tr>\n",
       "  </thead>\n",
       "  <tbody>\n",
       "    <tr>\n",
       "      <td>count</td>\n",
       "      <td>61.000000</td>\n",
       "      <td>61.000000</td>\n",
       "    </tr>\n",
       "    <tr>\n",
       "      <td>mean</td>\n",
       "      <td>137277.524590</td>\n",
       "      <td>15.403115</td>\n",
       "    </tr>\n",
       "    <tr>\n",
       "      <td>std</td>\n",
       "      <td>157099.496443</td>\n",
       "      <td>17.628423</td>\n",
       "    </tr>\n",
       "    <tr>\n",
       "      <td>min</td>\n",
       "      <td>2881.000000</td>\n",
       "      <td>0.320000</td>\n",
       "    </tr>\n",
       "    <tr>\n",
       "      <td>25%</td>\n",
       "      <td>93148.000000</td>\n",
       "      <td>10.450000</td>\n",
       "    </tr>\n",
       "    <tr>\n",
       "      <td>50%</td>\n",
       "      <td>99352.000000</td>\n",
       "      <td>11.150000</td>\n",
       "    </tr>\n",
       "    <tr>\n",
       "      <td>75%</td>\n",
       "      <td>116515.000000</td>\n",
       "      <td>13.070000</td>\n",
       "    </tr>\n",
       "    <tr>\n",
       "      <td>max</td>\n",
       "      <td>889061.000000</td>\n",
       "      <td>99.760000</td>\n",
       "    </tr>\n",
       "  </tbody>\n",
       "</table>\n",
       "</div>"
      ],
      "text/plain": [
       "                 sum    percent\n",
       "count      61.000000  61.000000\n",
       "mean   137277.524590  15.403115\n",
       "std    157099.496443  17.628423\n",
       "min      2881.000000   0.320000\n",
       "25%     93148.000000  10.450000\n",
       "50%     99352.000000  11.150000\n",
       "75%    116515.000000  13.070000\n",
       "max    889061.000000  99.760000"
      ]
     },
     "execution_count": 137,
     "metadata": {},
     "output_type": "execute_result"
    }
   ],
   "source": [
    "# Investigate patterns in the amount of missing data in each column.\n",
    "countNANperColumn(azdias).describe()"
   ]
  },
  {
   "cell_type": "markdown",
   "metadata": {},
   "source": [
    "The mean of NaN values is computed at 15% for a total of NaN of 8373929 NaN.\n",
    "The first quartile is at 10%.\n",
    "What would then be the impact if we get rid of all the columns containing more than 10% of missing values ?"
   ]
  },
  {
   "cell_type": "code",
   "execution_count": 138,
   "metadata": {},
   "outputs": [
    {
     "name": "stdout",
     "output_type": "stream",
     "text": [
      "Number of dropped columns if removing all features with more than 10% NaN: 46\n"
     ]
    }
   ],
   "source": [
    "print(\"Number of dropped columns if removing all features with more than 10% NaN: {}\".format(len(na_azdias[na_azdias['percent']>=10])))"
   ]
  },
  {
   "cell_type": "code",
   "execution_count": 139,
   "metadata": {
    "scrolled": false
   },
   "outputs": [
    {
     "data": {
      "text/html": [
       "<div>\n",
       "<style scoped>\n",
       "    .dataframe tbody tr th:only-of-type {\n",
       "        vertical-align: middle;\n",
       "    }\n",
       "\n",
       "    .dataframe tbody tr th {\n",
       "        vertical-align: top;\n",
       "    }\n",
       "\n",
       "    .dataframe thead th {\n",
       "        text-align: right;\n",
       "    }\n",
       "</style>\n",
       "<table border=\"1\" class=\"dataframe\">\n",
       "  <thead>\n",
       "    <tr style=\"text-align: right;\">\n",
       "      <th></th>\n",
       "      <th>sum</th>\n",
       "      <th>percent</th>\n",
       "    </tr>\n",
       "  </thead>\n",
       "  <tbody>\n",
       "    <tr>\n",
       "      <td>TITEL_KZ</td>\n",
       "      <td>889061</td>\n",
       "      <td>99.76</td>\n",
       "    </tr>\n",
       "    <tr>\n",
       "      <td>AGER_TYP</td>\n",
       "      <td>685843</td>\n",
       "      <td>76.96</td>\n",
       "    </tr>\n",
       "    <tr>\n",
       "      <td>KK_KUNDENTYP</td>\n",
       "      <td>584612</td>\n",
       "      <td>65.60</td>\n",
       "    </tr>\n",
       "    <tr>\n",
       "      <td>KBA05_BAUMAX</td>\n",
       "      <td>476524</td>\n",
       "      <td>53.47</td>\n",
       "    </tr>\n",
       "    <tr>\n",
       "      <td>GEBURTSJAHR</td>\n",
       "      <td>392318</td>\n",
       "      <td>44.02</td>\n",
       "    </tr>\n",
       "    <tr>\n",
       "      <td>ALTER_HH</td>\n",
       "      <td>310267</td>\n",
       "      <td>34.81</td>\n",
       "    </tr>\n",
       "    <tr>\n",
       "      <td>KKK</td>\n",
       "      <td>158064</td>\n",
       "      <td>17.74</td>\n",
       "    </tr>\n",
       "    <tr>\n",
       "      <td>REGIOTYP</td>\n",
       "      <td>158064</td>\n",
       "      <td>17.74</td>\n",
       "    </tr>\n",
       "    <tr>\n",
       "      <td>W_KEIT_KIND_HH</td>\n",
       "      <td>147988</td>\n",
       "      <td>16.61</td>\n",
       "    </tr>\n",
       "    <tr>\n",
       "      <td>KBA05_ANTG3</td>\n",
       "      <td>133324</td>\n",
       "      <td>14.96</td>\n",
       "    </tr>\n",
       "    <tr>\n",
       "      <td>KBA05_ANTG1</td>\n",
       "      <td>133324</td>\n",
       "      <td>14.96</td>\n",
       "    </tr>\n",
       "    <tr>\n",
       "      <td>KBA05_ANTG2</td>\n",
       "      <td>133324</td>\n",
       "      <td>14.96</td>\n",
       "    </tr>\n",
       "    <tr>\n",
       "      <td>KBA05_GBZ</td>\n",
       "      <td>133324</td>\n",
       "      <td>14.96</td>\n",
       "    </tr>\n",
       "    <tr>\n",
       "      <td>KBA05_ANTG4</td>\n",
       "      <td>133324</td>\n",
       "      <td>14.96</td>\n",
       "    </tr>\n",
       "    <tr>\n",
       "      <td>MOBI_REGIO</td>\n",
       "      <td>133324</td>\n",
       "      <td>14.96</td>\n",
       "    </tr>\n",
       "    <tr>\n",
       "      <td>PLZ8_ANTG2</td>\n",
       "      <td>116515</td>\n",
       "      <td>13.07</td>\n",
       "    </tr>\n",
       "    <tr>\n",
       "      <td>PLZ8_ANTG1</td>\n",
       "      <td>116515</td>\n",
       "      <td>13.07</td>\n",
       "    </tr>\n",
       "    <tr>\n",
       "      <td>PLZ8_ANTG3</td>\n",
       "      <td>116515</td>\n",
       "      <td>13.07</td>\n",
       "    </tr>\n",
       "    <tr>\n",
       "      <td>PLZ8_ANTG4</td>\n",
       "      <td>116515</td>\n",
       "      <td>13.07</td>\n",
       "    </tr>\n",
       "    <tr>\n",
       "      <td>PLZ8_BAUMAX</td>\n",
       "      <td>116515</td>\n",
       "      <td>13.07</td>\n",
       "    </tr>\n",
       "    <tr>\n",
       "      <td>PLZ8_HHZ</td>\n",
       "      <td>116515</td>\n",
       "      <td>13.07</td>\n",
       "    </tr>\n",
       "    <tr>\n",
       "      <td>PLZ8_GBZ</td>\n",
       "      <td>116515</td>\n",
       "      <td>13.07</td>\n",
       "    </tr>\n",
       "    <tr>\n",
       "      <td>VERS_TYP</td>\n",
       "      <td>111196</td>\n",
       "      <td>12.48</td>\n",
       "    </tr>\n",
       "    <tr>\n",
       "      <td>SHOPPER_TYP</td>\n",
       "      <td>111196</td>\n",
       "      <td>12.48</td>\n",
       "    </tr>\n",
       "    <tr>\n",
       "      <td>HEALTH_TYP</td>\n",
       "      <td>111196</td>\n",
       "      <td>12.48</td>\n",
       "    </tr>\n",
       "    <tr>\n",
       "      <td>NATIONALITAET_KZ</td>\n",
       "      <td>108315</td>\n",
       "      <td>12.15</td>\n",
       "    </tr>\n",
       "    <tr>\n",
       "      <td>PRAEGENDE_JUGENDJAHRE</td>\n",
       "      <td>108164</td>\n",
       "      <td>12.14</td>\n",
       "    </tr>\n",
       "    <tr>\n",
       "      <td>KBA13_ANZAHL_PKW</td>\n",
       "      <td>105800</td>\n",
       "      <td>11.87</td>\n",
       "    </tr>\n",
       "    <tr>\n",
       "      <td>ANZ_HAUSHALTE_AKTIV</td>\n",
       "      <td>99611</td>\n",
       "      <td>11.18</td>\n",
       "    </tr>\n",
       "    <tr>\n",
       "      <td>CAMEO_INTL_2015</td>\n",
       "      <td>99352</td>\n",
       "      <td>11.15</td>\n",
       "    </tr>\n",
       "    <tr>\n",
       "      <td>CAMEO_DEUG_2015</td>\n",
       "      <td>99352</td>\n",
       "      <td>11.15</td>\n",
       "    </tr>\n",
       "    <tr>\n",
       "      <td>CAMEO_DEU_2015</td>\n",
       "      <td>99352</td>\n",
       "      <td>11.15</td>\n",
       "    </tr>\n",
       "    <tr>\n",
       "      <td>LP_LEBENSPHASE_FEIN</td>\n",
       "      <td>97632</td>\n",
       "      <td>10.95</td>\n",
       "    </tr>\n",
       "    <tr>\n",
       "      <td>ARBEIT</td>\n",
       "      <td>97375</td>\n",
       "      <td>10.93</td>\n",
       "    </tr>\n",
       "    <tr>\n",
       "      <td>RELAT_AB</td>\n",
       "      <td>97375</td>\n",
       "      <td>10.93</td>\n",
       "    </tr>\n",
       "    <tr>\n",
       "      <td>ORTSGR_KLS9</td>\n",
       "      <td>97274</td>\n",
       "      <td>10.91</td>\n",
       "    </tr>\n",
       "    <tr>\n",
       "      <td>ANZ_HH_TITEL</td>\n",
       "      <td>97008</td>\n",
       "      <td>10.88</td>\n",
       "    </tr>\n",
       "    <tr>\n",
       "      <td>LP_LEBENSPHASE_GROB</td>\n",
       "      <td>94572</td>\n",
       "      <td>10.61</td>\n",
       "    </tr>\n",
       "    <tr>\n",
       "      <td>INNENSTADT</td>\n",
       "      <td>93740</td>\n",
       "      <td>10.52</td>\n",
       "    </tr>\n",
       "    <tr>\n",
       "      <td>BALLRAUM</td>\n",
       "      <td>93740</td>\n",
       "      <td>10.52</td>\n",
       "    </tr>\n",
       "    <tr>\n",
       "      <td>EWDICHTE</td>\n",
       "      <td>93740</td>\n",
       "      <td>10.52</td>\n",
       "    </tr>\n",
       "    <tr>\n",
       "      <td>WOHNLAGE</td>\n",
       "      <td>93148</td>\n",
       "      <td>10.45</td>\n",
       "    </tr>\n",
       "    <tr>\n",
       "      <td>OST_WEST_KZ</td>\n",
       "      <td>93148</td>\n",
       "      <td>10.45</td>\n",
       "    </tr>\n",
       "    <tr>\n",
       "      <td>GEBAEUDETYP_RASTER</td>\n",
       "      <td>93155</td>\n",
       "      <td>10.45</td>\n",
       "    </tr>\n",
       "    <tr>\n",
       "      <td>MIN_GEBAEUDEJAHR</td>\n",
       "      <td>93148</td>\n",
       "      <td>10.45</td>\n",
       "    </tr>\n",
       "    <tr>\n",
       "      <td>GEBAEUDETYP</td>\n",
       "      <td>93148</td>\n",
       "      <td>10.45</td>\n",
       "    </tr>\n",
       "  </tbody>\n",
       "</table>\n",
       "</div>"
      ],
      "text/plain": [
       "                          sum  percent\n",
       "TITEL_KZ               889061    99.76\n",
       "AGER_TYP               685843    76.96\n",
       "KK_KUNDENTYP           584612    65.60\n",
       "KBA05_BAUMAX           476524    53.47\n",
       "GEBURTSJAHR            392318    44.02\n",
       "ALTER_HH               310267    34.81\n",
       "KKK                    158064    17.74\n",
       "REGIOTYP               158064    17.74\n",
       "W_KEIT_KIND_HH         147988    16.61\n",
       "KBA05_ANTG3            133324    14.96\n",
       "KBA05_ANTG1            133324    14.96\n",
       "KBA05_ANTG2            133324    14.96\n",
       "KBA05_GBZ              133324    14.96\n",
       "KBA05_ANTG4            133324    14.96\n",
       "MOBI_REGIO             133324    14.96\n",
       "PLZ8_ANTG2             116515    13.07\n",
       "PLZ8_ANTG1             116515    13.07\n",
       "PLZ8_ANTG3             116515    13.07\n",
       "PLZ8_ANTG4             116515    13.07\n",
       "PLZ8_BAUMAX            116515    13.07\n",
       "PLZ8_HHZ               116515    13.07\n",
       "PLZ8_GBZ               116515    13.07\n",
       "VERS_TYP               111196    12.48\n",
       "SHOPPER_TYP            111196    12.48\n",
       "HEALTH_TYP             111196    12.48\n",
       "NATIONALITAET_KZ       108315    12.15\n",
       "PRAEGENDE_JUGENDJAHRE  108164    12.14\n",
       "KBA13_ANZAHL_PKW       105800    11.87\n",
       "ANZ_HAUSHALTE_AKTIV     99611    11.18\n",
       "CAMEO_INTL_2015         99352    11.15\n",
       "CAMEO_DEUG_2015         99352    11.15\n",
       "CAMEO_DEU_2015          99352    11.15\n",
       "LP_LEBENSPHASE_FEIN     97632    10.95\n",
       "ARBEIT                  97375    10.93\n",
       "RELAT_AB                97375    10.93\n",
       "ORTSGR_KLS9             97274    10.91\n",
       "ANZ_HH_TITEL            97008    10.88\n",
       "LP_LEBENSPHASE_GROB     94572    10.61\n",
       "INNENSTADT              93740    10.52\n",
       "BALLRAUM                93740    10.52\n",
       "EWDICHTE                93740    10.52\n",
       "WOHNLAGE                93148    10.45\n",
       "OST_WEST_KZ             93148    10.45\n",
       "GEBAEUDETYP_RASTER      93155    10.45\n",
       "MIN_GEBAEUDEJAHR        93148    10.45\n",
       "GEBAEUDETYP             93148    10.45"
      ]
     },
     "execution_count": 139,
     "metadata": {},
     "output_type": "execute_result"
    }
   ],
   "source": [
    "na_azdias[na_azdias['percent']>=10]"
   ]
  },
  {
   "cell_type": "markdown",
   "metadata": {},
   "source": [
    "Dropping all the columns where more than 10% of the values are null would result in major loss of data since 46 of our 85 initial features would be removed. More particularly, when dealing with market and sales, some of these features are expected to have a significant impact to identify a customer target. **SHOPPER_TYP**, or the shopper typology can be mentioned as an example. \n",
    "\n",
    "Based on this, a good trade-off is to stick to a removal of the columns only containing more than 25% of NaN entries."
   ]
  },
  {
   "cell_type": "code",
   "execution_count": 140,
   "metadata": {},
   "outputs": [
    {
     "name": "stdout",
     "output_type": "stream",
     "text": [
      "Deletion of the 6 features having the most NaN will result in a loss of 0.1% of data over the entire data set\n"
     ]
    }
   ],
   "source": [
    "raw_drop_pct = na_azdias.iloc[0:6].sum()['sum'] / azdias.sum().sum()\n",
    "print(\"Deletion of the 6 features having the most NaN will result in a loss of {:.1f}% of data over the entire data set\".format(raw_drop_pct*100))"
   ]
  },
  {
   "cell_type": "code",
   "execution_count": 141,
   "metadata": {},
   "outputs": [],
   "source": [
    "# Remove the outlier columns from the dataset. (You'll perform other data\n",
    "# engineering tasks such as re-encoding and imputation later.)\n",
    "colID = ['TITEL_KZ','AGER_TYP','KK_KUNDENTYP','KBA05_BAUMAX','GEBURTSJAHR','ALTER_HH']\n",
    "azdias.drop(labels=colID, axis=1, inplace=True)"
   ]
  },
  {
   "cell_type": "code",
   "execution_count": 142,
   "metadata": {},
   "outputs": [
    {
     "name": "stdout",
     "output_type": "stream",
     "text": [
      "<class 'pandas.core.frame.DataFrame'>\n",
      "RangeIndex: 891221 entries, 0 to 891220\n",
      "Data columns (total 79 columns):\n",
      "ALTERSKATEGORIE_GROB     888340 non-null float64\n",
      "ANREDE_KZ                891221 non-null float64\n",
      "CJT_GESAMTTYP            886367 non-null float64\n",
      "FINANZ_MINIMALIST        891221 non-null float64\n",
      "FINANZ_SPARER            891221 non-null float64\n",
      "FINANZ_VORSORGER         891221 non-null float64\n",
      "FINANZ_ANLEGER           891221 non-null float64\n",
      "FINANZ_UNAUFFAELLIGER    891221 non-null float64\n",
      "FINANZ_HAUSBAUER         891221 non-null float64\n",
      "FINANZTYP                891221 non-null float64\n",
      "GFK_URLAUBERTYP          886367 non-null float64\n",
      "GREEN_AVANTGARDE         891221 non-null int64\n",
      "HEALTH_TYP               780025 non-null float64\n",
      "LP_LEBENSPHASE_FEIN      793589 non-null float64\n",
      "LP_LEBENSPHASE_GROB      796649 non-null float64\n",
      "LP_FAMILIE_FEIN          813429 non-null float64\n",
      "LP_FAMILIE_GROB          813429 non-null float64\n",
      "LP_STATUS_FEIN           886367 non-null float64\n",
      "LP_STATUS_GROB           886367 non-null float64\n",
      "NATIONALITAET_KZ         782906 non-null float64\n",
      "PRAEGENDE_JUGENDJAHRE    783057 non-null float64\n",
      "RETOURTYP_BK_S           886367 non-null float64\n",
      "SEMIO_SOZ                891221 non-null float64\n",
      "SEMIO_FAM                891221 non-null float64\n",
      "SEMIO_REL                891221 non-null float64\n",
      "SEMIO_MAT                891221 non-null float64\n",
      "SEMIO_VERT               891221 non-null float64\n",
      "SEMIO_LUST               891221 non-null float64\n",
      "SEMIO_ERL                891221 non-null float64\n",
      "SEMIO_KULT               891221 non-null float64\n",
      "SEMIO_RAT                891221 non-null float64\n",
      "SEMIO_KRIT               891221 non-null float64\n",
      "SEMIO_DOM                891221 non-null float64\n",
      "SEMIO_KAEM               891221 non-null float64\n",
      "SEMIO_PFLICHT            891221 non-null float64\n",
      "SEMIO_TRADV              891221 non-null float64\n",
      "SHOPPER_TYP              780025 non-null float64\n",
      "SOHO_KZ                  817722 non-null float64\n",
      "VERS_TYP                 780025 non-null float64\n",
      "ZABEOTYP                 891221 non-null float64\n",
      "ANZ_PERSONEN             817722 non-null float64\n",
      "ANZ_TITEL                817722 non-null float64\n",
      "HH_EINKOMMEN_SCORE       872873 non-null float64\n",
      "W_KEIT_KIND_HH           743233 non-null float64\n",
      "WOHNDAUER_2008           817722 non-null float64\n",
      "ANZ_HAUSHALTE_AKTIV      791610 non-null float64\n",
      "ANZ_HH_TITEL             794213 non-null float64\n",
      "GEBAEUDETYP              798073 non-null float64\n",
      "KONSUMNAEHE              817252 non-null float64\n",
      "MIN_GEBAEUDEJAHR         798073 non-null float64\n",
      "OST_WEST_KZ              798073 non-null object\n",
      "WOHNLAGE                 798073 non-null float64\n",
      "CAMEO_DEUG_2015          791869 non-null object\n",
      "CAMEO_DEU_2015           791869 non-null object\n",
      "CAMEO_INTL_2015          791869 non-null object\n",
      "KBA05_ANTG1              757897 non-null float64\n",
      "KBA05_ANTG2              757897 non-null float64\n",
      "KBA05_ANTG3              757897 non-null float64\n",
      "KBA05_ANTG4              757897 non-null float64\n",
      "KBA05_GBZ                757897 non-null float64\n",
      "BALLRAUM                 797481 non-null float64\n",
      "EWDICHTE                 797481 non-null float64\n",
      "INNENSTADT               797481 non-null float64\n",
      "GEBAEUDETYP_RASTER       798066 non-null float64\n",
      "KKK                      733157 non-null float64\n",
      "MOBI_REGIO               757897 non-null float64\n",
      "ONLINE_AFFINITAET        886367 non-null float64\n",
      "REGIOTYP                 733157 non-null float64\n",
      "KBA13_ANZAHL_PKW         785421 non-null float64\n",
      "PLZ8_ANTG1               774706 non-null float64\n",
      "PLZ8_ANTG2               774706 non-null float64\n",
      "PLZ8_ANTG3               774706 non-null float64\n",
      "PLZ8_ANTG4               774706 non-null float64\n",
      "PLZ8_BAUMAX              774706 non-null float64\n",
      "PLZ8_HHZ                 774706 non-null float64\n",
      "PLZ8_GBZ                 774706 non-null float64\n",
      "ARBEIT                   793846 non-null float64\n",
      "ORTSGR_KLS9              793947 non-null float64\n",
      "RELAT_AB                 793846 non-null float64\n",
      "dtypes: float64(74), int64(1), object(4)\n",
      "memory usage: 537.2+ MB\n"
     ]
    }
   ],
   "source": [
    "azdias.info()"
   ]
  },
  {
   "cell_type": "markdown",
   "metadata": {},
   "source": [
    "#### Discussion 1.1.2: Assess Missing Data in Each Column\n",
    "\n",
    "The analysis of the missing data in each column, performed in this part, highlighted that the entire dataset initially containing 4,896,838 missing values (defined as numpy NaN and recognized by Pandas) was actually also holding missing value codes, specific to each feature and defined in the `AZDIAS_Feature_Summary.csv`. The conversion of these missing value codes operated on the `azdias` demographic data resulted in an increase of the number of NaN to 8,373,929.\n",
    "\n",
    "The pattern of null entries for each of the impacted features could reveal that the 6 columns with the highest NaN score can be considered as outliers, considering the very high ratio of missing data they contain.\n",
    "Even though the 40 other columns are affected by more than 10% of missing data, a drop of these columns would lead to a non-negligible loss of data which would impact our subsequent analysis.\n",
    "\n",
    "Based on the above, a drop of the following column has be retained on the `azdias` dataframe \n",
    "- **KBA05_BAUMAX**\n",
    "- **KK_KUNDENTYP**\n",
    "- **ALTER_HH**\n",
    "- **TITEL_KZ**\n",
    "- **GEBURTSJAHR**\n",
    "- **AGER_TYP**"
   ]
  },
  {
   "cell_type": "markdown",
   "metadata": {},
   "source": [
    "<a id='Step1.1.3'></a>\n",
    "#### Step 1.1.3: Assess Missing Data in Each Row\n",
    "\n",
    "Now, you'll perform a similar assessment for the rows of the dataset. How much data is missing in each row? As with the columns, you should see some groups of points that have a very different numbers of missing values. Divide the data into two subsets: one for data points that are above some threshold for missing values, and a second subset for points below that threshold.\n",
    "\n",
    "In order to know what to do with the outlier rows, we should see if the distribution of data values on columns that are not missing data (or are missing very little data) are similar or different between the two groups. Select at least five of these columns and compare the distribution of values.\n",
    "- You can use seaborn's [`countplot()`](https://seaborn.pydata.org/generated/seaborn.countplot.html) function to create a bar chart of code frequencies and matplotlib's [`subplot()`](https://matplotlib.org/api/_as_gen/matplotlib.pyplot.subplot.html) function to put bar charts for the two subplots side by side.\n",
    "- To reduce repeated code, you might want to write a function that can perform this comparison, taking as one of its arguments a column to be compared.\n",
    "\n",
    "Depending on what you observe in your comparison, this will have implications on how you approach your conclusions later in the analysis. If the distributions of non-missing features look similar between the data with many missing values and the data with few or no missing values, then we could argue that simply dropping those points from the analysis won't present a major issue. On the other hand, if the data with many missing values looks very different from the data with few or no missing values, then we should make a note on those data as special. We'll revisit these data later on. **Either way, you should continue your analysis for now using just the subset of the data with few or no missing values.**"
   ]
  },
  {
   "cell_type": "markdown",
   "metadata": {},
   "source": [
    "> Overview\n",
    "\n",
    "So far, we could identify the column which can be considered as outliers. \n",
    "From this point, it may also be useful to assess how much data is missing in each row, in order to evaluate if each individual (corresponding to a given row or the `azdias` dataframe) has a sufficient number of values to benefit from an appropriate clustering.\n",
    "\n",
    "A special attention mustbe paid at this stage since dropping individual may have  more implications than dropping columns. By the way, dropping rows, implies getting rid of an entire observations (or statistical contributor), which can skew/misrepresent the demographic data.\n",
    "\n",
    "Now, let us first have an overview of the spread of missing data by rows:"
   ]
  },
  {
   "cell_type": "code",
   "execution_count": 143,
   "metadata": {
    "scrolled": false
   },
   "outputs": [
    {
     "name": "stdout",
     "output_type": "stream",
     "text": [
      "891221\t -> Number of rows (100%).\n",
      "268012\t -> Number of rows with missing data (30.07%).\n",
      "623209\t -> Number of rows with no missing data (69.93%).\n"
     ]
    }
   ],
   "source": [
    "# How much data is missing in each row of the dataset?\n",
    "# Duplicate the azdias dataframe and add a column 'no_nan' containing the total count of NaN\n",
    "azdias_cpy = azdias.copy()\n",
    "azdias_cpy['no_nan'] =  azdias_cpy.isnull().sum(axis=1) \n",
    "\n",
    "# What is the ratio of rows without missing data?\n",
    "nb_rows = len(azdias_cpy['no_nan'])\n",
    "nb_rows_no_nan = sum(azdias_cpy['no_nan'] == 0)\n",
    "nb_rows_nan = sum(azdias_cpy['no_nan'] != 0)\n",
    "pct_rows_no_nan = nb_rows_no_nan * 100 / nb_rows\n",
    "pct_rows_nan = nb_rows_nan * 100 / nb_rows\n",
    "\n",
    "print('{}\\t -> Number of rows (100%).'.format(nb_rows))\n",
    "print('{}\\t -> Number of rows with missing data ({:0.2f}%).'.format(nb_rows_nan, pct_rows_nan))\n",
    "print('{}\\t -> Number of rows with no missing data ({:0.2f}%).'.format(nb_rows_no_nan, pct_rows_no_nan))"
   ]
  },
  {
   "cell_type": "markdown",
   "metadata": {},
   "source": [
    "As a first glance, very large part of the demographic census data is impacted by NaN values, representing a bit more than two third of the rows. \n",
    "\n",
    "As we did above, an histogram of the missing values per row will help us to see the distribution over our entire population."
   ]
  },
  {
   "cell_type": "code",
   "execution_count": 144,
   "metadata": {
    "scrolled": true
   },
   "outputs": [
    {
     "data": {
      "image/png": "[encoded data removed]",
      "text/plain": [
       "<Figure size 432x288 with 1 Axes>"
      ]
     },
     "metadata": {
      "needs_background": "light"
     },
     "output_type": "display_data"
    }
   ],
   "source": [
    "plt.hist(azdias_cpy[azdias_cpy['no_nan'] > 0]['no_nan'],bins=25);"
   ]
  },
  {
   "cell_type": "markdown",
   "metadata": {},
   "source": [
    "This histogram of missing values reveals that a large amount of rows have no or a \"limited\" number of NaN values, in between 0 and 8.\n",
    "Besides, it can also be noticed that a non-negligible quantity of rows also have around 43 to 47 NaN, which is much higher in terms of missing null entries, for a given individual.\n",
    "Dropping these individuals (to get rid of the rows with the largest amount of NaN) should be duly considered so as not to loose a significant and representative part of our data set.\n",
    "\n",
    "As we saw above, filtering of the individuals having no missing value would induce keeping only 30% of the original data. Therefore, it appears more relevant to admit a few NaN values per individual and consider the filtering of the data with the largest amount of null.\n",
    "But to see if this remains an acceptable hypothesys, let us compare the indicators for the individuals in each subset.\n",
    "Based on our repliminary observations, we will split the data into two subsets, one with rows with less than 30 NaN values and one with rows greater than 30 NaN values."
   ]
  },
  {
   "cell_type": "code",
   "execution_count": 145,
   "metadata": {},
   "outputs": [
    {
     "data": {
      "image/png": "[encoded data removed]",
      "text/plain": [
       "<Figure size 936x288 with 2 Axes>"
      ]
     },
     "metadata": {
      "needs_background": "light"
     },
     "output_type": "display_data"
    }
   ],
   "source": [
    "# Write code to divide the data into two subsets based on the number of missing\n",
    "# values in each row.\n",
    "azdias_low_nan = azdias_cpy[azdias_cpy['no_nan']<=30]\n",
    "azdias_high_nan = azdias_cpy[azdias_cpy['no_nan']>30]\n",
    "\n",
    "fig,(ax1,ax2) = plt.subplots(1,2,figsize=(13,4))\n",
    "sns.countplot(x='no_nan', data=azdias_low_nan, ax=ax1,orient='v').set_title(\"Number of NaN <= 30\")\n",
    "sns.countplot(x='no_nan', data=azdias_high_nan, ax=ax2,orient='v').set_title(\"Number of NaN > 30\")\n",
    "plt.tight_layout()"
   ]
  },
  {
   "cell_type": "code",
   "execution_count": 146,
   "metadata": {},
   "outputs": [
    {
     "name": "stdout",
     "output_type": "stream",
     "text": [
      "Percentage of rows in the first subset : 89.55%\n"
     ]
    }
   ],
   "source": [
    "# percentage of low na rows\n",
    "print(\"Percentage of rows in the first subset : {:0.2f}%\".format(azdias_low_nan.shape[0] *100 / len(azdias_cpy)))"
   ]
  },
  {
   "cell_type": "markdown",
   "metadata": {},
   "source": [
    "The plot of the histograms of the two subsets highlights the trend we identified previously. For the low NaN subset, we can see that the missing entries are uniformely spread in between 1 and 8, with the 30% of our individuals having no NaN.\n",
    "For the second subset, of the large NaN, we can identify two clusters, the first in between 2000 and 10000 individuals with approx. 34 NaN but overcome by two groupings of 43 and 47 null."
   ]
  },
  {
   "cell_type": "code",
   "execution_count": 147,
   "metadata": {},
   "outputs": [
    {
     "name": "stderr",
     "output_type": "stream",
     "text": [
      "C:\\ProgramData\\Anaconda3\\lib\\site-packages\\seaborn\\distributions.py:198: RuntimeWarning: Mean of empty slice.\n",
      "  line, = ax.plot(a.mean(), 0)\n",
      "C:\\ProgramData\\Anaconda3\\lib\\site-packages\\numpy\\core\\_methods.py:85: RuntimeWarning: invalid value encountered in double_scalars\n",
      "  ret = ret.dtype.type(ret / rcount)\n"
     ]
    },
    {
     "data": {
      "image/png": "[encoded data removed]",
      "text/plain": [
       "<Figure size 864x864 with 8 Axes>"
      ]
     },
     "metadata": {
      "needs_background": "light"
     },
     "output_type": "display_data"
    }
   ],
   "source": [
    "# Compare the distribution of values for at least five columns where there are\n",
    "# no or few missing values, between the two subsets.\n",
    "plt.figure(figsize=(12,12))\n",
    "for i, col in enumerate(azdias.sample(n=8, random_state=42, axis='columns')):\n",
    "    plt.subplot(4, 2, i+1)\n",
    "    sns.distplot(azdias_low_nan[col][azdias_low_nan[col].notnull()], label='Number of NaN <= 30',hist=False)\n",
    "    sns.distplot(azdias_high_nan[col][azdias_high_nan[col].notnull()], label='Number of NaN > 30',hist=False)\n",
    "    plt.title('Distribution for feature: {}'.format(col))\n",
    "    plt.legend();\n",
    "    \n",
    "plt.tight_layout()\n",
    "plt.show()\n"
   ]
  },
  {
   "cell_type": "markdown",
   "metadata": {},
   "source": [
    "Based on a random choice of 8 features (which resulted **here** in the draw of the columns **SEMIO_RAT**, **SEMIO_SOZ**, **LP_STATUS_GROB**, **GFK_URLAUBERTYP**, **ALTERSKATEGORIE_GROB**, **SEMIO_KRIT**, **SEMIO_ERL** and **PLZ8_ANTG2**), we can see that the distribution of the NaN values in the two subsets might really depend on the type and categorie of feature.\n",
    "Interestingly, and more particularly on the ordinal features, we can see that some columns have the NaN value specifically centered on a given assignable value. This is logical and shall result from the replacement of the missing value codes by the numpy NaN we operated previously.\n",
    "In a completely different way, some other columns exhibit missing values which are more equally spread over the different assignable values. It may also be pointed out that some columns can highlight different weighting of NaN in each direction (0 or the maximum of 30 NaN in the first subset, as well as 0 up to a maximum in the second subset). _A representative example of this is for **PLZ8_ANTG2** which only have NaN missing entries in the low NaN subset._\n",
    "\n",
    "To evaluate the independancy of our two datasets, and demonstrate that they do not follow the same distributions, let us apply the two-sample Kolmogorov-Smirnov (KS) test.\n",
    "As a reminder, the Kolmogorov-Smirnov test allows us to compare two samples, and tells us the chance they both come from the same distribution. \n",
    "The null hypothesis is H0: both samples come from a population with the same distribution.\n",
    "By computing the p-value with the significance for all the features, let-us evaluate the null hypothesis for each criteria."
   ]
  },
  {
   "cell_type": "code",
   "execution_count": 148,
   "metadata": {},
   "outputs": [],
   "source": [
    "#apply the Kolmogorov-Smirnov Test\n",
    "def two_sample_KS(df1, df2):\n",
    "    '''\n",
    "    Used to evaluate whether distributions of data between two DataFrames with the same columns are different.\n",
    "    \n",
    "    Input: 2 DataFrames with identical columns.\n",
    "    Output: D (KS Stat | Max Distance between the two cumulative probability functions for each Dataset) and p-values associated to each D \n",
    "    '''\n",
    "    # Lists for the KS Stat (D) and p-values to return\n",
    "    ktest = []\n",
    "    pvalues = []\n",
    "    \n",
    "    cols = df1.columns.values\n",
    "    \n",
    "    for col in cols:\n",
    "        try:\n",
    "            value, pvalue = stats.ks_2samp(df1[col], df2[col])\n",
    "            ktest.append(value)\n",
    "            pvalues.append(pvalue)\n",
    "            #print(col, \": \", Ktest, pvalues)\n",
    "        except:\n",
    "            ktest.append(np.NaN)\n",
    "            pvalues.append(np.NaN)\n",
    "    \n",
    "    return ktest, pvalues"
   ]
  },
  {
   "cell_type": "code",
   "execution_count": 149,
   "metadata": {
    "scrolled": false
   },
   "outputs": [
    {
     "data": {
      "image/png": "[encoded data removed]",
      "text/plain": [
       "<Figure size 720x288 with 2 Axes>"
      ]
     },
     "metadata": {
      "needs_background": "light"
     },
     "output_type": "display_data"
    }
   ],
   "source": [
    "# Calculating stats and p-values for each column\n",
    "ktest, pvalues = two_sample_KS(azdias_low_nan, azdias_high_nan)\n",
    "ktest = [x for x in ktest if np.isnan(x) == False]\n",
    "pvalues = [x for x in pvalues if np.isnan(x) == False]\n",
    "\n",
    "#create the box plot\n",
    "#plt.boxplot(pvalues)\n",
    "#plt.title('Boxplot of p-values')\n",
    "#plt.ylabel(\"p_values\")\n",
    "#plt.show()\n",
    "\n",
    "fig,(ax1,ax2) = plt.subplots(1,2,figsize=(10,4))\n",
    "\n",
    "sns.distplot(ktest,ax=ax1,kde=False)\n",
    "ax1.set_title('Distribution of Kolmogorov-Smirnov statistic')\n",
    "ax1.set_xlabel('K-S Statistic')\n",
    "ax1.set_ylim(top=70)\n",
    "\n",
    "sns.distplot(pvalues,ax=ax2,kde=False)\n",
    "ax2.set_title('Distribution of Kolmogorov-Smirnov P-Values')\n",
    "ax2.set_xlabel('P Values')\n",
    "\n",
    "plt.tight_layout()\n",
    "plt.show()"
   ]
  },
  {
   "cell_type": "markdown",
   "metadata": {},
   "source": [
    "As we can see here, for all of our 79 selected features (columns) the p-values remain extremely low (close or equal 0). Since p < 0.05 (for each of our 79 features) we reject the null hypothesis and conclude that the two groups were sampled with different distributions. "
   ]
  },
  {
   "cell_type": "markdown",
   "metadata": {},
   "source": [
    "<a id='Discussion1.1.3'></a>\n",
    "#### Discussion 1.1.3: Assess Missing Data in Each Row\n",
    "\n",
    "As we saw previously, the majority of the rows (89.55%) is below the 30% of missing values.\n",
    "In this part, the same threshold was used to split the data into two separate subsets (the first with a \"limited\" number of NaN values, namely, less than 30% and the second over 30% of NaN) and compare their distributions on a sample of 8 random features.\n",
    "\n",
    "The distributions, mainly ordinal and discrete, were looking significantly different for most of these features. By the way, the statistical independence of the two subsets was verified by the Kolmogorov-Smirnov test with which the null hypothesis, namely, \"both samples come from a population with the same distribution\" was rejected.\n",
    "\n",
    ">**What does this mean ?**\n",
    "\n",
    "Since the two subsets are built from the exact same population, we would expect equivalent distributions of the missing values. This would therefore suggests that these missing values are likely not due to the chance of random erroneous data entry, and are rather caused by some external factor, such as the process/methodology of how the data was collected or the impossibility to provide a determined answer for part of the individuals.\n",
    "\n",
    ">**Strategy**\n",
    "\n",
    "We pointed out that 69.93% have more than 30 NaN per row (individual of the `azdias` demographic data) which would represent a non-negligible chunk of null values for the following part of the Machine Learning analysis. Keeping the rows with such a number of null entries could skew the data, directly affecting the clustering processing. The conclusion we made previsouly let however assume that a drop of the rows with a large number of NaN would allow to evict part of the data which may be biased.\n",
    "In light of the presented arguments, we will continue the analysis with the dataset that contains rows with less than 30% NaNs (i.e. referred to as `azdias_low_nan` dataframe)"
   ]
  },
  {
   "cell_type": "markdown",
   "metadata": {},
   "source": [
    "<a id='Step1.2'></a>\n",
    "### Step 1.2: Select and Re-Encode Features\n",
    "\n",
    "Checking for missing data isn't the only way in which you can prepare a dataset for analysis. Since the unsupervised learning techniques to be used will only work on data that is encoded numerically, you need to make a few encoding changes or additional assumptions to be able to make progress. In addition, while almost all of the values in the dataset are encoded using numbers, not all of them represent numeric values. Check the third column of the feature summary (`feat_info`) for a summary of types of measurement.\n",
    "- For numeric and interval data, these features can be kept without changes.\n",
    "- Most of the variables in the dataset are ordinal in nature. While ordinal values may technically be non-linear in spacing, make the simplifying assumption that the ordinal variables can be treated as being interval in nature (that is, kept without any changes).\n",
    "- Special handling may be necessary for the remaining two variable types: categorical, and 'mixed'.\n",
    "\n",
    "In the first two parts of this sub-step, you will perform an investigation of the categorical and mixed-type features and make a decision on each of them, whether you will keep, drop, or re-encode each. Then, in the last part, you will create a new data frame with only the selected and engineered columns.\n",
    "\n",
    "Data wrangling is often the trickiest part of the data analysis process, and there's a lot of it to be done here. But stick with it: once you're done with this step, you'll be ready to get to the machine learning parts of the project!"
   ]
  },
  {
   "cell_type": "code",
   "execution_count": 232,
   "metadata": {},
   "outputs": [],
   "source": [
    "# How many features are there of each data type?\n",
    "azdias_clean = azdias_low_nan.copy()\n",
    "azdias_clean = azdias_clean[azdias_clean.columns[:-1]]"
   ]
  },
  {
   "cell_type": "code",
   "execution_count": 233,
   "metadata": {},
   "outputs": [
    {
     "data": {
      "text/plain": [
       "(79, 4)"
      ]
     },
     "execution_count": 233,
     "metadata": {},
     "output_type": "execute_result"
    }
   ],
   "source": [
    "# Removing the 6 outlier columns from feat_info\n",
    "feat_info_clean = feat_info[feat_info.attribute.isin(azdias_clean.columns)]\n",
    "feat_info_clean.shape"
   ]
  },
  {
   "cell_type": "code",
   "execution_count": 234,
   "metadata": {},
   "outputs": [
    {
     "data": {
      "text/html": [
       "<div>\n",
       "<style scoped>\n",
       "    .dataframe tbody tr th:only-of-type {\n",
       "        vertical-align: middle;\n",
       "    }\n",
       "\n",
       "    .dataframe tbody tr th {\n",
       "        vertical-align: top;\n",
       "    }\n",
       "\n",
       "    .dataframe thead th {\n",
       "        text-align: right;\n",
       "    }\n",
       "</style>\n",
       "<table border=\"1\" class=\"dataframe\">\n",
       "  <thead>\n",
       "    <tr style=\"text-align: right;\">\n",
       "      <th></th>\n",
       "      <th>attribute</th>\n",
       "      <th>information_level</th>\n",
       "      <th>type</th>\n",
       "      <th>missing_or_unknown</th>\n",
       "    </tr>\n",
       "  </thead>\n",
       "  <tbody>\n",
       "    <tr>\n",
       "      <td>1</td>\n",
       "      <td>ALTERSKATEGORIE_GROB</td>\n",
       "      <td>person</td>\n",
       "      <td>ordinal</td>\n",
       "      <td>[-1, 0, 9]</td>\n",
       "    </tr>\n",
       "    <tr>\n",
       "      <td>2</td>\n",
       "      <td>ANREDE_KZ</td>\n",
       "      <td>person</td>\n",
       "      <td>categorical</td>\n",
       "      <td>[-1, 0]</td>\n",
       "    </tr>\n",
       "    <tr>\n",
       "      <td>3</td>\n",
       "      <td>CJT_GESAMTTYP</td>\n",
       "      <td>person</td>\n",
       "      <td>categorical</td>\n",
       "      <td>[0]</td>\n",
       "    </tr>\n",
       "    <tr>\n",
       "      <td>4</td>\n",
       "      <td>FINANZ_MINIMALIST</td>\n",
       "      <td>person</td>\n",
       "      <td>ordinal</td>\n",
       "      <td>[-1]</td>\n",
       "    </tr>\n",
       "    <tr>\n",
       "      <td>5</td>\n",
       "      <td>FINANZ_SPARER</td>\n",
       "      <td>person</td>\n",
       "      <td>ordinal</td>\n",
       "      <td>[-1]</td>\n",
       "    </tr>\n",
       "  </tbody>\n",
       "</table>\n",
       "</div>"
      ],
      "text/plain": [
       "              attribute information_level         type missing_or_unknown\n",
       "1  ALTERSKATEGORIE_GROB            person      ordinal         [-1, 0, 9]\n",
       "2             ANREDE_KZ            person  categorical            [-1, 0]\n",
       "3         CJT_GESAMTTYP            person  categorical                [0]\n",
       "4     FINANZ_MINIMALIST            person      ordinal               [-1]\n",
       "5         FINANZ_SPARER            person      ordinal               [-1]"
      ]
     },
     "execution_count": 234,
     "metadata": {},
     "output_type": "execute_result"
    }
   ],
   "source": [
    "feat_info_clean.head()"
   ]
  },
  {
   "cell_type": "code",
   "execution_count": 235,
   "metadata": {},
   "outputs": [
    {
     "name": "stdout",
     "output_type": "stream",
     "text": [
      "There are 49 ordinal features.\n",
      "There are 18 categorical features.\n",
      "There are 6 numeric features.\n",
      "There are 6 mixed features.\n"
     ]
    }
   ],
   "source": [
    "data_type_count = feat_info_clean.type.value_counts()\n",
    "for i in range(len(data_type_count)):\n",
    "    print('There are {} {} features.'.format(data_type_count[i], data_type_count.index[i]))"
   ]
  },
  {
   "cell_type": "code",
   "execution_count": 236,
   "metadata": {
    "scrolled": true
   },
   "outputs": [
    {
     "data": {
      "image/png": "[encoded data removed]",
      "text/plain": [
       "<Figure size 432x288 with 1 Axes>"
      ]
     },
     "metadata": {
      "needs_background": "light"
     },
     "output_type": "display_data"
    }
   ],
   "source": [
    "fig, ax1 = plt.subplots()\n",
    "sns.countplot(data=feat_info_clean,\n",
    "              x='type',\n",
    "              ax=ax1)\n",
    "ax1.set_ylabel('Number of attributes')\n",
    "ax1.set_xlabel('Data type')\n",
    "for p in ax1.patches:\n",
    "    ax1.annotate('{:.0f}'.format(p.get_height()), (p.get_x()+0.35, p.get_height()+1))\n",
    "sns.despine(ax=ax1);"
   ]
  },
  {
   "cell_type": "markdown",
   "metadata": {},
   "source": [
    "<a id='Step1.2.1'></a>\n",
    "#### Step 1.2.1: Re-Encode Categorical Features\n",
    "\n",
    "For categorical data, you would ordinarily need to encode the levels as dummy variables. Depending on the number of categories, perform one of the following:\n",
    "- For binary (two-level) categoricals that take numeric values, you can keep them without needing to do anything.\n",
    "- There is one binary variable that takes on non-numeric values. For this one, you need to re-encode the values as numbers or create a dummy variable.\n",
    "- For multi-level categoricals (three or more values), you can choose to encode the values using multiple dummy variables (e.g. via [OneHotEncoder](http://scikit-learn.org/stable/modules/generated/sklearn.preprocessing.OneHotEncoder.html)), or (to keep things straightforward) just drop them from the analysis. As always, document your choices in the Discussion section."
   ]
  },
  {
   "cell_type": "markdown",
   "metadata": {},
   "source": [
    "Now, let us turn to the data types. As we noticed in [S0.3](#FeatInfoExplore), the `Data_Dictionary.md` provides the 5 following data types : \"categorical\", \"ordinal\", \"numeric\", \"mixed\", \"interval\".\n",
    "We could already highlight that except the \"numeric\" ones, all other are also categorical data, either ordinal or discrete.\n",
    "So as to be able to encode the categorical data as dummy variables, an homogenization of the data data is required here.\n",
    "\n",
    "Now, before going any further, an insight to the type assigned to each of the categories is required in order to be able to accurately identify the ones to be re-encoded.\n",
    "As we can see below, the categorical data are assigned a number of assignable values."
   ]
  },
  {
   "cell_type": "code",
   "execution_count": 237,
   "metadata": {},
   "outputs": [
    {
     "data": {
      "text/plain": [
       "array([ 1.,  3.,  4.,  2., nan])"
      ]
     },
     "execution_count": 237,
     "metadata": {},
     "output_type": "execute_result"
    }
   ],
   "source": [
    "azdias_clean.ALTERSKATEGORIE_GROB.unique()"
   ]
  },
  {
   "cell_type": "markdown",
   "metadata": {},
   "source": [
    "Whereas the largest part of the categorical feature columns are based on numeric assignable values, it can however be noticed some some other columns also encode their values on specific string codes (in form of mixed numeric-string values). This is the case here below:"
   ]
  },
  {
   "cell_type": "code",
   "execution_count": 238,
   "metadata": {},
   "outputs": [
    {
     "data": {
      "text/plain": [
       "array(['8A', '4C', '2A', '6B', '8C', '4A', '2D', '1A', '1E', '9D', '5C',\n",
       "       '8B', '7A', '5D', '9E', nan, '9B', '1B', '3D', '4E', '4B', '3C',\n",
       "       '5A', '7B', '9A', '6D', '6E', '2C', '7C', '9C', '7D', '5E', '1D',\n",
       "       '8D', '6C', '6A', '5B', '4D', '3A', '2B', '7E', '3B', '6F', '5F',\n",
       "       '1C'], dtype=object)"
      ]
     },
     "execution_count": 238,
     "metadata": {},
     "output_type": "execute_result"
    }
   ],
   "source": [
    "azdias_clean.CAMEO_DEU_2015.unique()"
   ]
  },
  {
   "cell_type": "code",
   "execution_count": 239,
   "metadata": {},
   "outputs": [
    {
     "data": {
      "text/plain": [
       "array(['W', 'O'], dtype=object)"
      ]
     },
     "execution_count": 239,
     "metadata": {},
     "output_type": "execute_result"
    }
   ],
   "source": [
    "azdias_clean.OST_WEST_KZ.unique()"
   ]
  },
  {
   "cell_type": "markdown",
   "metadata": {},
   "source": [
    "Below, we will process to find the categories with only two possible values, referring to the binary features."
   ]
  },
  {
   "cell_type": "code",
   "execution_count": 240,
   "metadata": {},
   "outputs": [
    {
     "name": "stdout",
     "output_type": "stream",
     "text": [
      "Binary categorical type is identified for attributes: ['ANREDE_KZ', 'GREEN_AVANTGARDE', 'SOHO_KZ', 'OST_WEST_KZ']\n",
      "\n",
      "Multi-level categorical types is identified for attributes: ['CJT_GESAMTTYP', 'FINANZTYP', 'GFK_URLAUBERTYP', 'LP_FAMILIE_FEIN', 'LP_FAMILIE_GROB', 'LP_STATUS_FEIN', 'LP_STATUS_GROB', 'NATIONALITAET_KZ', 'SHOPPER_TYP', 'VERS_TYP', 'ZABEOTYP', 'GEBAEUDETYP', 'CAMEO_DEUG_2015', 'CAMEO_DEU_2015']\n"
     ]
    }
   ],
   "source": [
    "# Assess categorical variables: which are binary, which are multi-level, and\n",
    "categorical_feat = feat_info_clean[feat_info_clean.type == \"categorical\"][\"attribute\"]\n",
    "\n",
    "binary_feature = []\n",
    "multi_level_feature=[]\n",
    "for feature in categorical_feat:\n",
    "    if (len(azdias_clean[feature].unique()) == 2):\n",
    "        binary_feature.append(feature)\n",
    "    elif (len(azdias_clean[feature].unique()) > 2):\n",
    "        multi_level_feature.append(feature)\n",
    "          \n",
    "print('Binary categorical type is identified for attributes: {}'.format(binary_feature))\n",
    "print('\\nMulti-level categorical types is identified for attributes: {}'.format(multi_level_feature))"
   ]
  },
  {
   "cell_type": "markdown",
   "metadata": {},
   "source": [
    "This exploration of the data types tends to reveal that an important number of columns are providing multi-level categorical data types. More particularly, we can identify the following quantity :"
   ]
  },
  {
   "cell_type": "code",
   "execution_count": 241,
   "metadata": {},
   "outputs": [
    {
     "name": "stdout",
     "output_type": "stream",
     "text": [
      "Number of attributes with multi-level categorical types: 14\n"
     ]
    }
   ],
   "source": [
    "print('Number of attributes with multi-level categorical types: {}'.format(len(multi_level_feature)))"
   ]
  },
  {
   "cell_type": "markdown",
   "metadata": {},
   "source": [
    "As it was the case above, dropping the 14 columns identified as multi-level categorical data type would deprive us from a very large quantity of of data for the following part of the analysis.\n",
    "The assessment of the loss of data can be more accurately estimated :"
   ]
  },
  {
   "cell_type": "code",
   "execution_count": 242,
   "metadata": {},
   "outputs": [
    {
     "name": "stdout",
     "output_type": "stream",
     "text": [
      "A drop of all multi-level columns would result in a loss of 17.69% of the total amount of data\n"
     ]
    }
   ],
   "source": [
    "print(\"A drop of all multi-level columns would result in a loss of {:.2f}% of the total amount of data\".format(azdias_clean[multi_level_feature].count().sum() * 100 / azdias_clean.count().sum()))"
   ]
  },
  {
   "cell_type": "markdown",
   "metadata": {},
   "source": [
    "As this confirms, a drop of all multi-level categorical features would result in a loss of 17,69% of the amount of data of the `azdias_cleaned` demographic data, which will not be without implication for the classification processing.\n",
    "\n",
    "In addition, qualitatively, it could also be mentioned that the removal of the above-mentioned columns will deprive the analysis from important features, when dealing with marketing strategy and market analysis, such as the shopper typology, the family type or even the social status."
   ]
  },
  {
   "cell_type": "markdown",
   "metadata": {},
   "source": [
    "<a id='Step1.2.1.2'></a>\n",
    "##### Step 1.2.1.2: Re-Encode binary data"
   ]
  },
  {
   "cell_type": "markdown",
   "metadata": {},
   "source": [
    "Moving on to the binary categorical data. First, it may be usefull to verify for each the range of assignable values."
   ]
  },
  {
   "cell_type": "code",
   "execution_count": 243,
   "metadata": {
    "scrolled": false
   },
   "outputs": [
    {
     "name": "stdout",
     "output_type": "stream",
     "text": [
      "Assignable values for attribute ANREDE_KZ: [2. 1.]\n",
      "Assignable values for attribute GREEN_AVANTGARDE: [0 1]\n",
      "Assignable values for attribute SOHO_KZ: [1. 0.]\n",
      "Assignable values for attribute OST_WEST_KZ: ['W' 'O']\n"
     ]
    }
   ],
   "source": [
    "for col in binary_feature:\n",
    "    print(\"Assignable values for attribute {}: {}\".format(col, azdias_clean[col].unique()))"
   ]
  },
  {
   "cell_type": "markdown",
   "metadata": {},
   "source": [
    "This confirms that **OST_WEST_KZ** needs to be re-encoded for replacing the characters 'W' and 'O' by numerical values.\n",
    "Additionally, a translation of **ANREDE_KZ** to '0' and '1' binary values, for homogeneity with the other values has to be considered.\n",
    "Taking action :"
   ]
  },
  {
   "cell_type": "code",
   "execution_count": 244,
   "metadata": {},
   "outputs": [],
   "source": [
    "azdias_clean['VERS_TYP'].replace([2.0, 1.0], [1, 0], inplace=True)\n",
    "azdias_clean['OST_WEST_KZ'].replace(['W', 'O'], [1, 0], inplace=True)\n",
    "azdias_clean['ANREDE_KZ'].replace([2, 1], [1, 0], inplace=True)"
   ]
  },
  {
   "cell_type": "code",
   "execution_count": 245,
   "metadata": {},
   "outputs": [
    {
     "name": "stdout",
     "output_type": "stream",
     "text": [
      "<class 'pandas.core.frame.DataFrame'>\n",
      "Int64Index: 798067 entries, 1 to 891220\n",
      "Data columns (total 4 columns):\n",
      "ANREDE_KZ           798067 non-null float64\n",
      "GREEN_AVANTGARDE    798067 non-null int64\n",
      "SOHO_KZ             798067 non-null float64\n",
      "OST_WEST_KZ         798067 non-null int64\n",
      "dtypes: float64(2), int64(2)\n",
      "memory usage: 30.4 MB\n"
     ]
    }
   ],
   "source": [
    "azdias_clean[binary_feature].info()"
   ]
  },
  {
   "cell_type": "markdown",
   "metadata": {},
   "source": [
    "One last step can be performed for the binary categorical data. For **ANREDE_KZ** and **SOHO_KZ** columns, our data assignable values are still defined in float. These can be converted into integers:"
   ]
  },
  {
   "cell_type": "code",
   "execution_count": 246,
   "metadata": {
    "scrolled": true
   },
   "outputs": [
    {
     "name": "stdout",
     "output_type": "stream",
     "text": [
      "<class 'pandas.core.frame.DataFrame'>\n",
      "Int64Index: 798067 entries, 1 to 891220\n",
      "Data columns (total 4 columns):\n",
      "ANREDE_KZ           798067 non-null int32\n",
      "GREEN_AVANTGARDE    798067 non-null int32\n",
      "SOHO_KZ             798067 non-null int32\n",
      "OST_WEST_KZ         798067 non-null int32\n",
      "dtypes: int32(4)\n",
      "memory usage: 18.3 MB\n"
     ]
    }
   ],
   "source": [
    "azdias_clean[binary_feature] = azdias_clean[binary_feature].astype(int)\n",
    "azdias_clean[binary_feature].info()"
   ]
  },
  {
   "cell_type": "markdown",
   "metadata": {},
   "source": [
    "<a id='Step1.2.1.1'></a>\n",
    "##### Step 1.2.1.1: Re-Encode multi-level categorical data"
   ]
  },
  {
   "cell_type": "markdown",
   "metadata": {},
   "source": [
    "Taking a look to the multi-level categorical data, a specificity can be observed on two of these features :**CAMEO_DEUG_2015** and **CAMEO_DEU_2015**.\n",
    "\n",
    "Actually, these two columns reflect the exact same information for the *Wealth* **and** *Life Stage* typologies. Whereas **CAMEO_DEUG_2015** provides the information at detailed level, **CAMEO_DEU_2015** defines the same at rough scale.\n",
    "These values are directly observable in our current set of data, with exclusion of the 'unknown' values, which were already replaced in the previous [S1.1.1](#Step1.1.1)."
   ]
  },
  {
   "cell_type": "code",
   "execution_count": 247,
   "metadata": {
    "scrolled": true
   },
   "outputs": [
    {
     "data": {
      "text/plain": [
       "(array(['8', '4', '2', '6', '1', '9', '5', '7', nan, '3'], dtype=object),\n",
       " array(['8A', '4C', '2A', '6B', '8C', '4A', '2D', '1A', '1E', '9D', '5C',\n",
       "        '8B', '7A', '5D', '9E', nan, '9B', '1B', '3D', '4E', '4B', '3C',\n",
       "        '5A', '7B', '9A', '6D', '6E', '2C', '7C', '9C', '7D', '5E', '1D',\n",
       "        '8D', '6C', '6A', '5B', '4D', '3A', '2B', '7E', '3B', '6F', '5F',\n",
       "        '1C'], dtype=object))"
      ]
     },
     "execution_count": 247,
     "metadata": {},
     "output_type": "execute_result"
    }
   ],
   "source": [
    "azdias_clean.CAMEO_DEUG_2015.unique(), azdias_clean.CAMEO_DEU_2015.unique()"
   ]
  },
  {
   "cell_type": "markdown",
   "metadata": {},
   "source": [
    "The definition provided by `Data_Dictionary.md` provide us with the following indications of value allocation:"
   ]
  },
  {
   "cell_type": "markdown",
   "metadata": {},
   "source": [
    "**CAMEO_DEU_2015**\n",
    "\n",
    "*German CAMEO: Wealth / Life Stage Typology, detailed scale*\n",
    "- 1A: Work-Life-Balance\n",
    "- 1B: Wealthy Best Ager\n",
    "- 1C: Successful Songwriter\n",
    "- 1D: Old Nobility\n",
    "- 1E: City Nobility\n",
    "- 2A: Cottage Chic\n",
    "- 2B: Noble Jogger\n",
    "- 2C: Established gourmet\n",
    "- 2D: Fine Management\n",
    "- 3A: Career & Family\n",
    "- 3B: Powershopping Families\n",
    "- 3C: Rural Neighborhood\n",
    "- 3D: Secure Retirement\n",
    "- 4A: Family Starter\n",
    "- 4B: Family Life\n",
    "- 4C: String Trimmer\n",
    "- 4D: Empty Nest\n",
    "- 4E: Golden Ager\n",
    "- 5A: Younger Employees\n",
    "- 5B: Suddenly Family\n",
    "- 5C: Family First\n",
    "- 5D: Stock Market Junkies\n",
    "- 5E: Coffee Rider\n",
    "- 5F: Active Retirement\n",
    "- 6A: Jobstarter\n",
    "- 6B: Petty Bourgeois\n",
    "- 6C: Long-established\n",
    "- 6D: Sportgardener\n",
    "- 6E: Urban Parents\n",
    "- 6F: Frugal Aging\n",
    "- 7A: Journeymen\n",
    "- 7B: Mantaplatte\n",
    "- 7C: Factory Worker\n",
    "- 7D: Rear Window\n",
    "- 7E: Interested Retirees\n",
    "- 8A: Multi-culteral\n",
    "- 8B: Young & Mobile\n",
    "- 8C: Prefab\n",
    "- 8D: Town Seniors\n",
    "- 9A: First Shared Apartment\n",
    "- 9B: Temporary Workers\n",
    "- 9C: Afternoon Talk Show\n",
    "- 9D: Mini-Jobber\n",
    "- 9E: Socking Away\n",
    "- XX: unknown\n",
    "\n",
    "**CAMEO_DEUG_2015**\n",
    "\n",
    "*German CAMEO: Wealth / Life Stage Typology, rough scale*\n",
    "- -1: unknown\n",
    "-  1: upper class\n",
    "-  2: upper middleclass\n",
    "-  3: established middleclass\n",
    "-  4: consumption-oriented middleclass\n",
    "-  5: active middleclass\n",
    "-  6: low-consumption middleclass\n",
    "-  7: lower middleclass\n",
    "-  8: working class\n",
    "-  9: urban working class\n",
    "-  X: unknown"
   ]
  },
  {
   "cell_type": "markdown",
   "metadata": {},
   "source": [
    "**CAMEO_DEU_2015**, among the other categorical columns has a particular singularity in the way the feature integrates non-numerical classification.\n",
    "\n",
    "This brings us a constraint with the current version of *OneHotEncoder()* function from sklearn.preprocessing library, not able to support strings and only capable of discretizing integers. For this reason, a preliminary conversion of these string values codes to numerical format is required."
   ]
  },
  {
   "cell_type": "code",
   "execution_count": 248,
   "metadata": {},
   "outputs": [],
   "source": [
    "#change label of non-numerical category to numerical\n",
    "labelencode = LabelEncoder()\n",
    "azdias_clean['CAMEO_DEU_2015'] = labelencode.fit_transform(azdias_clean['CAMEO_DEU_2015'].astype(str))"
   ]
  },
  {
   "cell_type": "markdown",
   "metadata": {},
   "source": [
    "Since **CAMEO_DEUG_2015** is redundant in terms of informations it carries, a complete removal of this feature may be considered. Indeed, extra but non-value-added data are not meaning of improved quality, it can be the exact opposite and even decrease the model performances.\n",
    "In the same way, the `Data_Dictionary.md` reveal that :\n",
    "- **LP_FAMILIE_FEIN** (Family type, fine scale) is doubled with **LP_FAMILIE_GROB** (Family type, rough scale) and,\n",
    "- **LP_STATUS_FEIN** (Social status, fine scale) by **LP_STATUS_GROB** (Social status, rough scale).\n",
    "\n",
    "Now, before dropping **CAMEO_DEUG_2015**, **LP_FAMILIE_GROB** and **LP_STATUS_GROB**, a comparison of the number of missing values with the same ratio in their complementary column is useful."
   ]
  },
  {
   "cell_type": "code",
   "execution_count": 249,
   "metadata": {},
   "outputs": [
    {
     "name": "stdout",
     "output_type": "stream",
     "text": [
      "Quantity of null in CAMEO_DEU_2015: 0 vs  CAMEO_DEUG_2015: 6201\n",
      "Quantity of null in LP_FAMILIE_FEIN : 31474 vs  LP_FAMILIE_GROB: 31474\n",
      "Quantity of null in LP_STATUS_FEIN : 4749 vs  LP_STATUS_GROB: 4749\n"
     ]
    }
   ],
   "source": [
    "print(\"Quantity of null in CAMEO_DEU_2015: {} vs  CAMEO_DEUG_2015: {}\".format(azdias_clean['CAMEO_DEU_2015'].isnull().sum(), azdias_clean['CAMEO_DEUG_2015'].isnull().sum()))\n",
    "print(\"Quantity of null in LP_FAMILIE_FEIN : {} vs  LP_FAMILIE_GROB: {}\".format(azdias_clean['LP_FAMILIE_FEIN'].isnull().sum(), azdias_clean['LP_FAMILIE_GROB'].isnull().sum()))\n",
    "print(\"Quantity of null in LP_STATUS_FEIN : {} vs  LP_STATUS_GROB: {}\".format(azdias_clean['LP_STATUS_FEIN'].isnull().sum(), azdias_clean['LP_STATUS_GROB'].isnull().sum()))"
   ]
  },
  {
   "cell_type": "markdown",
   "metadata": {},
   "source": [
    "Interestingly, unlike **CAMEO_DEUG_2015**, the first category does not seem to contain null entries (whereas the second returns yet 6201 NaNs). Regarging the two other LP_FAMILIE and LP_STATUS, there is a full equivalence in the number of null entries in both attributes.\n",
    "By the way, we can conclude that the drop of the redundant attributes **CAMEO_DEUG_2015**, **LP_FAMILIE_GROB** and **LP_STATUS_GROB** is fully achievable without apparent loss of information."
   ]
  },
  {
   "cell_type": "code",
   "execution_count": 250,
   "metadata": {},
   "outputs": [],
   "source": [
    "azdias_clean.drop(\"CAMEO_DEUG_2015\", axis=1, inplace=True)\n",
    "azdias_clean.drop(\"LP_FAMILIE_GROB\", axis=1, inplace=True)\n",
    "azdias_clean.drop(\"LP_STATUS_GROB\", axis=1, inplace=True)\n",
    "multi_level_feature.remove(\"CAMEO_DEUG_2015\")\n",
    "multi_level_feature.remove(\"LP_FAMILIE_GROB\")\n",
    "multi_level_feature.remove(\"LP_STATUS_GROB\")"
   ]
  },
  {
   "cell_type": "markdown",
   "metadata": {},
   "source": [
    "All pre-processing steps achieved, *OneHotEncoder()* function can be called on all multi-level categorical attributes to generate multiple dummy variables. \n",
    "From our (updated) list multi_level_feature, an iteration loop is created to convert all the columns."
   ]
  },
  {
   "cell_type": "code",
   "execution_count": 279,
   "metadata": {},
   "outputs": [],
   "source": [
    "azdias_clean2 = azdias_clean.copy()"
   ]
  },
  {
   "cell_type": "code",
   "execution_count": 280,
   "metadata": {},
   "outputs": [
    {
     "name": "stdout",
     "output_type": "stream",
     "text": [
      "[ 5.  3.  2.  4.  1.  6. nan]\n",
      "[1. 6. 5. 2. 4. 3.]\n",
      "[10.  1.  5. 12.  9.  3.  8. 11.  4.  2.  7.  6. nan]\n",
      "[ 5.  1. nan 10.  2.  7. 11.  8.  4.  6.  9.  3.]\n",
      "[ 2.  3.  9.  4.  1. 10.  5.  8.  6.  7. nan]\n",
      "[ 1.  3.  2. nan]\n",
      "[ 3.  2.  1.  0. nan]\n",
      "[ 1.  0. nan]\n",
      "[5. 3. 4. 1. 6. 2.]\n",
      "[8. 1. 3. 2. 6. 4. 5.]\n",
      "[35 15  5 25 37 13  8  0  4 42 20 36 30 21 43 44 40  1 12 17 14 11 18 31\n",
      " 39 27 28  7 32 41 33 22  3 38 26 24 19 16  9  6 34 10 29 23  2]\n"
     ]
    }
   ],
   "source": [
    "for col in multi_level_feature:\n",
    "    print(azdias_clean[col].unique())"
   ]
  },
  {
   "cell_type": "code",
   "execution_count": 274,
   "metadata": {},
   "outputs": [
    {
     "data": {
      "text/plain": [
       "4749"
      ]
     },
     "execution_count": 274,
     "metadata": {},
     "output_type": "execute_result"
    }
   ],
   "source": [
    "azdias_clean['CJT_GESAMTTYP'].isnull().sum()"
   ]
  },
  {
   "cell_type": "code",
   "execution_count": 281,
   "metadata": {},
   "outputs": [],
   "source": [
    "def hotEncoder(df, cat_cols):\n",
    "    '''\n",
    "    Used to evaluate whether distributions of data between two DataFrames with the same columns are different.\n",
    "    \n",
    "    Input: \n",
    "        df - dataframe with columns to hot encode\n",
    "        feature_list - list of categorical features to be converted with multiple dummy variables\n",
    "    Output: none\n",
    "    '''\n",
    "    cat_cols_encoded = []\n",
    "    \n",
    "    df[cat_cols] = df[cat_cols].fillna(9999)\n",
    "    print(df[cat_cols].isnull().sum())\n",
    "    \n",
    "    for col in cat_cols:\n",
    "        cat_cols_encoded += [f\"{col}_{cat}\" for cat in list(df[col].unique())]\n",
    "\n",
    "    oh_encoder = OneHotEncoder(sparse=False, handle_unknown='ignore')\n",
    "    encoded_cols = oh_encoder.fit_transform(df[cat_cols])\n",
    "    df_enc = pd.DataFrame(encoded_cols, columns=cat_cols_encoded)\n",
    "    df_oh = df.join(df_enc)\n",
    "    print(df_oh[cat_cols_encoded].isnull().sum())\n",
    "    \n",
    "    return df_oh, cat_cols_encoded"
   ]
  },
  {
   "cell_type": "code",
   "execution_count": 283,
   "metadata": {
    "scrolled": false
   },
   "outputs": [
    {
     "name": "stdout",
     "output_type": "stream",
     "text": [
      "CJT_GESAMTTYP       0\n",
      "FINANZTYP           0\n",
      "GFK_URLAUBERTYP     0\n",
      "LP_FAMILIE_FEIN     0\n",
      "LP_STATUS_FEIN      0\n",
      "NATIONALITAET_KZ    0\n",
      "SHOPPER_TYP         0\n",
      "VERS_TYP            0\n",
      "ZABEOTYP            0\n",
      "GEBAEUDETYP         0\n",
      "CAMEO_DEU_2015      0\n",
      "dtype: int64\n",
      "CJT_GESAMTTYP_5.0    83798\n",
      "CJT_GESAMTTYP_3.0    83798\n",
      "CJT_GESAMTTYP_2.0    83798\n",
      "CJT_GESAMTTYP_4.0    83798\n",
      "CJT_GESAMTTYP_1.0    83798\n",
      "                     ...  \n",
      "CAMEO_DEU_2015_34    83798\n",
      "CAMEO_DEU_2015_10    83798\n",
      "CAMEO_DEU_2015_29    83798\n",
      "CAMEO_DEU_2015_23    83798\n",
      "CAMEO_DEU_2015_2     83798\n",
      "Length: 119, dtype: int64\n",
      "119 created dummy variables in the dataframe identified by columns:\n"
     ]
    },
    {
     "data": {
      "text/plain": [
       "['CJT_GESAMTTYP_5.0',\n",
       " 'CJT_GESAMTTYP_3.0',\n",
       " 'CJT_GESAMTTYP_2.0',\n",
       " 'CJT_GESAMTTYP_4.0',\n",
       " 'CJT_GESAMTTYP_1.0',\n",
       " 'CJT_GESAMTTYP_6.0',\n",
       " 'CJT_GESAMTTYP_9999.0',\n",
       " 'FINANZTYP_1.0',\n",
       " 'FINANZTYP_6.0',\n",
       " 'FINANZTYP_5.0',\n",
       " 'FINANZTYP_2.0',\n",
       " 'FINANZTYP_4.0',\n",
       " 'FINANZTYP_3.0',\n",
       " 'GFK_URLAUBERTYP_10.0',\n",
       " 'GFK_URLAUBERTYP_1.0',\n",
       " 'GFK_URLAUBERTYP_5.0',\n",
       " 'GFK_URLAUBERTYP_12.0',\n",
       " 'GFK_URLAUBERTYP_9.0',\n",
       " 'GFK_URLAUBERTYP_3.0',\n",
       " 'GFK_URLAUBERTYP_8.0',\n",
       " 'GFK_URLAUBERTYP_11.0',\n",
       " 'GFK_URLAUBERTYP_4.0',\n",
       " 'GFK_URLAUBERTYP_2.0',\n",
       " 'GFK_URLAUBERTYP_7.0',\n",
       " 'GFK_URLAUBERTYP_6.0',\n",
       " 'GFK_URLAUBERTYP_9999.0',\n",
       " 'LP_FAMILIE_FEIN_5.0',\n",
       " 'LP_FAMILIE_FEIN_1.0',\n",
       " 'LP_FAMILIE_FEIN_9999.0',\n",
       " 'LP_FAMILIE_FEIN_10.0',\n",
       " 'LP_FAMILIE_FEIN_2.0',\n",
       " 'LP_FAMILIE_FEIN_7.0',\n",
       " 'LP_FAMILIE_FEIN_11.0',\n",
       " 'LP_FAMILIE_FEIN_8.0',\n",
       " 'LP_FAMILIE_FEIN_4.0',\n",
       " 'LP_FAMILIE_FEIN_6.0',\n",
       " 'LP_FAMILIE_FEIN_9.0',\n",
       " 'LP_FAMILIE_FEIN_3.0',\n",
       " 'LP_STATUS_FEIN_2.0',\n",
       " 'LP_STATUS_FEIN_3.0',\n",
       " 'LP_STATUS_FEIN_9.0',\n",
       " 'LP_STATUS_FEIN_4.0',\n",
       " 'LP_STATUS_FEIN_1.0',\n",
       " 'LP_STATUS_FEIN_10.0',\n",
       " 'LP_STATUS_FEIN_5.0',\n",
       " 'LP_STATUS_FEIN_8.0',\n",
       " 'LP_STATUS_FEIN_6.0',\n",
       " 'LP_STATUS_FEIN_7.0',\n",
       " 'LP_STATUS_FEIN_9999.0',\n",
       " 'NATIONALITAET_KZ_1.0',\n",
       " 'NATIONALITAET_KZ_3.0',\n",
       " 'NATIONALITAET_KZ_2.0',\n",
       " 'NATIONALITAET_KZ_9999.0',\n",
       " 'SHOPPER_TYP_3.0',\n",
       " 'SHOPPER_TYP_2.0',\n",
       " 'SHOPPER_TYP_1.0',\n",
       " 'SHOPPER_TYP_0.0',\n",
       " 'SHOPPER_TYP_9999.0',\n",
       " 'VERS_TYP_1.0',\n",
       " 'VERS_TYP_0.0',\n",
       " 'VERS_TYP_9999.0',\n",
       " 'ZABEOTYP_5.0',\n",
       " 'ZABEOTYP_3.0',\n",
       " 'ZABEOTYP_4.0',\n",
       " 'ZABEOTYP_1.0',\n",
       " 'ZABEOTYP_6.0',\n",
       " 'ZABEOTYP_2.0',\n",
       " 'GEBAEUDETYP_8.0',\n",
       " 'GEBAEUDETYP_1.0',\n",
       " 'GEBAEUDETYP_3.0',\n",
       " 'GEBAEUDETYP_2.0',\n",
       " 'GEBAEUDETYP_6.0',\n",
       " 'GEBAEUDETYP_4.0',\n",
       " 'GEBAEUDETYP_5.0',\n",
       " 'CAMEO_DEU_2015_35',\n",
       " 'CAMEO_DEU_2015_15',\n",
       " 'CAMEO_DEU_2015_5',\n",
       " 'CAMEO_DEU_2015_25',\n",
       " 'CAMEO_DEU_2015_37',\n",
       " 'CAMEO_DEU_2015_13',\n",
       " 'CAMEO_DEU_2015_8',\n",
       " 'CAMEO_DEU_2015_0',\n",
       " 'CAMEO_DEU_2015_4',\n",
       " 'CAMEO_DEU_2015_42',\n",
       " 'CAMEO_DEU_2015_20',\n",
       " 'CAMEO_DEU_2015_36',\n",
       " 'CAMEO_DEU_2015_30',\n",
       " 'CAMEO_DEU_2015_21',\n",
       " 'CAMEO_DEU_2015_43',\n",
       " 'CAMEO_DEU_2015_44',\n",
       " 'CAMEO_DEU_2015_40',\n",
       " 'CAMEO_DEU_2015_1',\n",
       " 'CAMEO_DEU_2015_12',\n",
       " 'CAMEO_DEU_2015_17',\n",
       " 'CAMEO_DEU_2015_14',\n",
       " 'CAMEO_DEU_2015_11',\n",
       " 'CAMEO_DEU_2015_18',\n",
       " 'CAMEO_DEU_2015_31',\n",
       " 'CAMEO_DEU_2015_39',\n",
       " 'CAMEO_DEU_2015_27',\n",
       " 'CAMEO_DEU_2015_28',\n",
       " 'CAMEO_DEU_2015_7',\n",
       " 'CAMEO_DEU_2015_32',\n",
       " 'CAMEO_DEU_2015_41',\n",
       " 'CAMEO_DEU_2015_33',\n",
       " 'CAMEO_DEU_2015_22',\n",
       " 'CAMEO_DEU_2015_3',\n",
       " 'CAMEO_DEU_2015_38',\n",
       " 'CAMEO_DEU_2015_26',\n",
       " 'CAMEO_DEU_2015_24',\n",
       " 'CAMEO_DEU_2015_19',\n",
       " 'CAMEO_DEU_2015_16',\n",
       " 'CAMEO_DEU_2015_9',\n",
       " 'CAMEO_DEU_2015_6',\n",
       " 'CAMEO_DEU_2015_34',\n",
       " 'CAMEO_DEU_2015_10',\n",
       " 'CAMEO_DEU_2015_29',\n",
       " 'CAMEO_DEU_2015_23',\n",
       " 'CAMEO_DEU_2015_2']"
      ]
     },
     "execution_count": 283,
     "metadata": {},
     "output_type": "execute_result"
    }
   ],
   "source": [
    "dummy_variable_feature = []\n",
    "#Call hotEncoder on azdias_clean dataframe\n",
    "azdias_clean2, dummy_variable_feature = hotEncoder(azdias_clean2, multi_level_feature)\n",
    "\n",
    "#verify the created dummy variables\n",
    "print(\"{} created dummy variables in the dataframe identified by columns:\".format(len(dummy_variable_feature)))\n",
    "dummy_variable_feature"
   ]
  },
  {
   "cell_type": "code",
   "execution_count": 264,
   "metadata": {
    "scrolled": true
   },
   "outputs": [
    {
     "data": {
      "text/plain": [
       "(798067, 195)"
      ]
     },
     "execution_count": 264,
     "metadata": {},
     "output_type": "execute_result"
    }
   ],
   "source": [
    "azdias_clean2.shape"
   ]
  },
  {
   "cell_type": "code",
   "execution_count": 272,
   "metadata": {},
   "outputs": [
    {
     "data": {
      "text/plain": [
       "83798"
      ]
     },
     "execution_count": 272,
     "metadata": {},
     "output_type": "execute_result"
    }
   ],
   "source": [
    "azdias_clean2['CJT_GESAMTTYP_5.0'].isnull().sum()"
   ]
  },
  {
   "cell_type": "code",
   "execution_count": null,
   "metadata": {},
   "outputs": [],
   "source": [
    "azdias_clean[dummy_variable_feature] = azdias_clean[dummy_variable_feature].astype(int)\n",
    "azdias_clean[dummy_variable_feature].info()"
   ]
  },
  {
   "cell_type": "code",
   "execution_count": 502,
   "metadata": {},
   "outputs": [],
   "source": [
    "# Re-encode categorical variable(s) to be kept in the analysis.\n",
    "#for feature in multi_level_feature:\n",
    "    #One-hot encode column\n",
    "#    ohe = OneHotEncoder(categories=\"auto\")\n",
    "#    azdias_clean2[feature] = azdias_clean2[feature].fillna(9999)\n",
    "#    transformed = ohe.fit_transform(azdias_clean2[feature].values.reshape(-1,1)).toarray()\n",
    "#    dfOneHot = pd.DataFrame(transformed, columns = [feature + \"__\" + str(int(i)) for i in range(transformed.shape[1])])\n",
    "#    azdias_clean2 = pd.concat([azdias_clean2, dfOneHot], axis=1)\n",
    "\n",
    "    #drop original column\n",
    "#    azdias_clean2.drop(feature, axis=1, inplace = True)"
   ]
  },
  {
   "cell_type": "markdown",
   "metadata": {},
   "source": [
    "#### Discussion 1.2.1: Re-Encode Categorical Features\n",
    "\n",
    "PRAEGENDE_JUGENDJAHRE I replaced \"PRAEGENDE_JUGENDJAHRE\" with two new columns: movement and decade according to the mapping from the Data_Dictionary.md.\n",
    "\n",
    "CAMEO_INTL_2015 I replaced \"CAMEO_INTL_2015\" with a column called cameo_intl according to the mapping from the Data_Dictionary.md."
   ]
  },
  {
   "cell_type": "markdown",
   "metadata": {},
   "source": [
    "#### Step 1.2.2: Engineer Mixed-Type Features\n",
    "\n",
    "There are a handful of features that are marked as \"mixed\" in the feature summary that require special treatment in order to be included in the analysis. There are two in particular that deserve attention; the handling of the rest are up to your own choices:\n",
    "- \"PRAEGENDE_JUGENDJAHRE\" combines information on three dimensions: generation by decade, movement (mainstream vs. avantgarde), and nation (east vs. west). While there aren't enough levels to disentangle east from west, you should create two new variables to capture the other two dimensions: an interval-type variable for decade, and a binary variable for movement.\n",
    "- \"CAMEO_INTL_2015\" combines information on two axes: wealth and life stage. Break up the two-digit codes by their 'tens'-place and 'ones'-place digits into two new ordinal variables (which, for the purposes of this project, is equivalent to just treating them as their raw numeric values).\n",
    "- If you decide to keep or engineer new features around the other mixed-type features, make sure you note your steps in the Discussion section.\n",
    "\n",
    "Be sure to check `Data_Dictionary.md` for the details needed to finish these tasks."
   ]
  },
  {
   "cell_type": "code",
   "execution_count": 503,
   "metadata": {},
   "outputs": [
    {
     "name": "stdout",
     "output_type": "stream",
     "text": [
      "\"Mixed\" data type is identified for attributes: ['LP_LEBENSPHASE_FEIN', 'LP_LEBENSPHASE_GROB', 'PRAEGENDE_JUGENDJAHRE', 'WOHNLAGE', 'CAMEO_INTL_2015', 'PLZ8_BAUMAX']\n"
     ]
    }
   ],
   "source": [
    "# Assess mixed variables\n",
    "mixed_feat = feat_info_clean[feat_info_clean.type == \"mixed\"][\"attribute\"]\n",
    "\n",
    "mixed_feature=[]\n",
    "for feature in mixed_feat:\n",
    "    mixed_feature.append(feature)\n",
    "    \n",
    "print('\"Mixed\" data type is identified for attributes: {}'.format(mixed_feature))"
   ]
  },
  {
   "cell_type": "code",
   "execution_count": 504,
   "metadata": {},
   "outputs": [],
   "source": [
    "# Investigate \"PRAEGENDE_JUGENDJAHRE\" and engineer two new variables.\n",
    "\n"
   ]
  },
  {
   "cell_type": "code",
   "execution_count": 505,
   "metadata": {},
   "outputs": [],
   "source": [
    "# which one needs to be re-encoded?"
   ]
  },
  {
   "cell_type": "code",
   "execution_count": 506,
   "metadata": {},
   "outputs": [],
   "source": [
    "# Investigate \"CAMEO_INTL_2015\" and engineer two new variables.\n",
    "\n"
   ]
  },
  {
   "cell_type": "markdown",
   "metadata": {},
   "source": [
    "#### Discussion 1.2.2: Engineer Mixed-Type Features\n",
    "\n",
    "(Double-click this cell and replace this text with your own text, reporting your findings and decisions regarding mixed-value features. Which ones did you keep, which did you drop, and what engineering steps did you perform?)"
   ]
  },
  {
   "cell_type": "markdown",
   "metadata": {},
   "source": [
    "#### Step 1.2.3: Complete Feature Selection\n",
    "\n",
    "In order to finish this step up, you need to make sure that your data frame now only has the columns that you want to keep. To summarize, the dataframe should consist of the following:\n",
    "- All numeric, interval, and ordinal type columns from the original dataset.\n",
    "- Binary categorical features (all numerically-encoded).\n",
    "- Engineered features from other multi-level categorical features and mixed features.\n",
    "\n",
    "Make sure that for any new columns that you have engineered, that you've excluded the original columns from the final dataset. Otherwise, their values will interfere with the analysis later on the project. For example, you should not keep \"PRAEGENDE_JUGENDJAHRE\", since its values won't be useful for the algorithm: only the values derived from it in the engineered features you created should be retained. As a reminder, your data should only be from **the subset with few or no missing values**."
   ]
  },
  {
   "cell_type": "code",
   "execution_count": null,
   "metadata": {},
   "outputs": [],
   "source": [
    "# If there are other re-engineering tasks you need to perform, make sure you\n",
    "# take care of them here. (Dealing with missing data will come in step 2.1.)\n",
    "\n"
   ]
  },
  {
   "cell_type": "code",
   "execution_count": null,
   "metadata": {},
   "outputs": [],
   "source": [
    "# Do whatever you need to in order to ensure that the dataframe only contains\n",
    "# the columns that should be passed to the algorithm functions.\n",
    "\n"
   ]
  },
  {
   "cell_type": "markdown",
   "metadata": {},
   "source": [
    "### Step 1.3: Create a Cleaning Function\n",
    "\n",
    "Even though you've finished cleaning up the general population demographics data, it's important to look ahead to the future and realize that you'll need to perform the same cleaning steps on the customer demographics data. In this substep, complete the function below to execute the main feature selection, encoding, and re-engineering steps you performed above. Then, when it comes to looking at the customer data in Step 3, you can just run this function on that DataFrame to get the trimmed dataset in a single step."
   ]
  },
  {
   "cell_type": "code",
   "execution_count": 1,
   "metadata": {},
   "outputs": [],
   "source": [
    "def clean_data(df):\n",
    "    \"\"\"\n",
    "    Perform feature trimming, re-encoding, and engineering for demographics\n",
    "    data\n",
    "    \n",
    "    INPUT: Demographics DataFrame\n",
    "    OUTPUT: Trimmed and cleaned demographics DataFrame\n",
    "    \"\"\"\n",
    "    \n",
    "    # Put in code here to execute all main cleaning steps:\n",
    "    # convert missing value codes into NaNs, ...\n",
    "    \n",
    "    \n",
    "    # remove selected columns and rows, ...\n",
    "\n",
    "    \n",
    "    # select, re-encode, and engineer column values.\n",
    "\n",
    "    \n",
    "    # Return the cleaned dataframe.\n",
    "    \n",
    "    "
   ]
  },
  {
   "cell_type": "markdown",
   "metadata": {},
   "source": [
    "## Step 2: Feature Transformation\n",
    "\n",
    "### Step 2.1: Apply Feature Scaling\n",
    "\n",
    "Before we apply dimensionality reduction techniques to the data, we need to perform feature scaling so that the principal component vectors are not influenced by the natural differences in scale for features. Starting from this part of the project, you'll want to keep an eye on the [API reference page for sklearn](http://scikit-learn.org/stable/modules/classes.html) to help you navigate to all of the classes and functions that you'll need. In this substep, you'll need to check the following:\n",
    "\n",
    "- sklearn requires that data not have missing values in order for its estimators to work properly. So, before applying the scaler to your data, make sure that you've cleaned the DataFrame of the remaining missing values. This can be as simple as just removing all data points with missing data, or applying an [Imputer](https://scikit-learn.org/0.16/modules/generated/sklearn.preprocessing.Imputer.html) to replace all missing values. You might also try a more complicated procedure where you temporarily remove missing values in order to compute the scaling parameters before re-introducing those missing values and applying imputation. Think about how much missing data you have and what possible effects each approach might have on your analysis, and justify your decision in the discussion section below.\n",
    "- For the actual scaling function, a [StandardScaler](http://scikit-learn.org/stable/modules/generated/sklearn.preprocessing.StandardScaler.html) instance is suggested, scaling each feature to mean 0 and standard deviation 1.\n",
    "- For these classes, you can make use of the `.fit_transform()` method to both fit a procedure to the data as well as apply the transformation to the data at the same time. Don't forget to keep the fit sklearn objects handy, since you'll be applying them to the customer demographics data towards the end of the project."
   ]
  },
  {
   "cell_type": "code",
   "execution_count": null,
   "metadata": {},
   "outputs": [],
   "source": [
    "# If you've not yet cleaned the dataset of all NaN values, then investigate and\n",
    "# do that now.\n",
    "\n"
   ]
  },
  {
   "cell_type": "code",
   "execution_count": null,
   "metadata": {},
   "outputs": [],
   "source": [
    "# Apply feature scaling to the general population demographics data.\n",
    "\n"
   ]
  },
  {
   "cell_type": "markdown",
   "metadata": {},
   "source": [
    "### Discussion 2.1: Apply Feature Scaling\n",
    "\n",
    "(Double-click this cell and replace this text with your own text, reporting your decisions regarding feature scaling.)"
   ]
  },
  {
   "cell_type": "markdown",
   "metadata": {},
   "source": [
    "### Step 2.2: Perform Dimensionality Reduction\n",
    "\n",
    "On your scaled data, you are now ready to apply dimensionality reduction techniques.\n",
    "\n",
    "- Use sklearn's [PCA](http://scikit-learn.org/stable/modules/generated/sklearn.decomposition.PCA.html) class to apply principal component analysis on the data, thus finding the vectors of maximal variance in the data. To start, you should not set any parameters (so all components are computed) or set a number of components that is at least half the number of features (so there's enough features to see the general trend in variability).\n",
    "- Check out the ratio of variance explained by each principal component as well as the cumulative variance explained. Try plotting the cumulative or sequential values using matplotlib's [`plot()`](https://matplotlib.org/api/_as_gen/matplotlib.pyplot.plot.html) function. Based on what you find, select a value for the number of transformed features you'll retain for the clustering part of the project.\n",
    "- Once you've made a choice for the number of components to keep, make sure you re-fit a PCA instance to perform the decided-on transformation."
   ]
  },
  {
   "cell_type": "code",
   "execution_count": null,
   "metadata": {},
   "outputs": [],
   "source": [
    "# Apply PCA to the data.\n",
    "\n"
   ]
  },
  {
   "cell_type": "code",
   "execution_count": null,
   "metadata": {},
   "outputs": [],
   "source": [
    "# Investigate the variance accounted for by each principal component.\n",
    "\n"
   ]
  },
  {
   "cell_type": "code",
   "execution_count": null,
   "metadata": {},
   "outputs": [],
   "source": [
    "# Re-apply PCA to the data while selecting for number of components to retain.\n",
    "\n"
   ]
  },
  {
   "cell_type": "markdown",
   "metadata": {},
   "source": [
    "### Discussion 2.2: Perform Dimensionality Reduction\n",
    "\n",
    "(Double-click this cell and replace this text with your own text, reporting your findings and decisions regarding dimensionality reduction. How many principal components / transformed features are you retaining for the next step of the analysis?)"
   ]
  },
  {
   "cell_type": "markdown",
   "metadata": {},
   "source": [
    "### Step 2.3: Interpret Principal Components\n",
    "\n",
    "Now that we have our transformed principal components, it's a nice idea to check out the weight of each variable on the first few components to see if they can be interpreted in some fashion.\n",
    "\n",
    "As a reminder, each principal component is a unit vector that points in the direction of highest variance (after accounting for the variance captured by earlier principal components). The further a weight is from zero, the more the principal component is in the direction of the corresponding feature. If two features have large weights of the same sign (both positive or both negative), then increases in one tend expect to be associated with increases in the other. To contrast, features with different signs can be expected to show a negative correlation: increases in one variable should result in a decrease in the other.\n",
    "\n",
    "- To investigate the features, you should map each weight to their corresponding feature name, then sort the features according to weight. The most interesting features for each principal component, then, will be those at the beginning and end of the sorted list. Use the data dictionary document to help you understand these most prominent features, their relationships, and what a positive or negative value on the principal component might indicate.\n",
    "- You should investigate and interpret feature associations from the first three principal components in this substep. To help facilitate this, you should write a function that you can call at any time to print the sorted list of feature weights, for the *i*-th principal component. This might come in handy in the next step of the project, when you interpret the tendencies of the discovered clusters."
   ]
  },
  {
   "cell_type": "code",
   "execution_count": null,
   "metadata": {},
   "outputs": [],
   "source": [
    "# Map weights for the first principal component to corresponding feature names\n",
    "# and then print the linked values, sorted by weight.\n",
    "# HINT: Try defining a function here or in a new cell that you can reuse in the\n",
    "# other cells.\n",
    "\n"
   ]
  },
  {
   "cell_type": "code",
   "execution_count": null,
   "metadata": {},
   "outputs": [],
   "source": [
    "# Map weights for the second principal component to corresponding feature names\n",
    "# and then print the linked values, sorted by weight.\n",
    "\n"
   ]
  },
  {
   "cell_type": "code",
   "execution_count": null,
   "metadata": {},
   "outputs": [],
   "source": [
    "# Map weights for the third principal component to corresponding feature names\n",
    "# and then print the linked values, sorted by weight.\n",
    "\n"
   ]
  },
  {
   "cell_type": "markdown",
   "metadata": {},
   "source": [
    "### Discussion 2.3: Interpret Principal Components\n",
    "\n",
    "(Double-click this cell and replace this text with your own text, reporting your observations from detailed investigation of the first few principal components generated. Can we interpret positive and negative values from them in a meaningful way?)"
   ]
  },
  {
   "cell_type": "markdown",
   "metadata": {},
   "source": [
    "## Step 3: Clustering\n",
    "\n",
    "### Step 3.1: Apply Clustering to General Population\n",
    "\n",
    "You've assessed and cleaned the demographics data, then scaled and transformed them. Now, it's time to see how the data clusters in the principal components space. In this substep, you will apply k-means clustering to the dataset and use the average within-cluster distances from each point to their assigned cluster's centroid to decide on a number of clusters to keep.\n",
    "\n",
    "- Use sklearn's [KMeans](http://scikit-learn.org/stable/modules/generated/sklearn.cluster.KMeans.html#sklearn.cluster.KMeans) class to perform k-means clustering on the PCA-transformed data.\n",
    "- Then, compute the average difference from each point to its assigned cluster's center. **Hint**: The KMeans object's `.score()` method might be useful here, but note that in sklearn, scores tend to be defined so that larger is better. Try applying it to a small, toy dataset, or use an internet search to help your understanding.\n",
    "- Perform the above two steps for a number of different cluster counts. You can then see how the average distance decreases with an increasing number of clusters. However, each additional cluster provides a smaller net benefit. Use this fact to select a final number of clusters in which to group the data. **Warning**: because of the large size of the dataset, it can take a long time for the algorithm to resolve. The more clusters to fit, the longer the algorithm will take. You should test for cluster counts through at least 10 clusters to get the full picture, but you shouldn't need to test for a number of clusters above about 30.\n",
    "- Once you've selected a final number of clusters to use, re-fit a KMeans instance to perform the clustering operation. Make sure that you also obtain the cluster assignments for the general demographics data, since you'll be using them in the final Step 3.3."
   ]
  },
  {
   "cell_type": "code",
   "execution_count": null,
   "metadata": {},
   "outputs": [],
   "source": [
    "# Over a number of different cluster counts...\n",
    "\n",
    "\n",
    "    # run k-means clustering on the data and...\n",
    "    \n",
    "    \n",
    "    # compute the average within-cluster distances.\n",
    "    \n",
    "    "
   ]
  },
  {
   "cell_type": "code",
   "execution_count": null,
   "metadata": {},
   "outputs": [],
   "source": [
    "# Investigate the change in within-cluster distance across number of clusters.\n",
    "# HINT: Use matplotlib's plot function to visualize this relationship.\n",
    "\n"
   ]
  },
  {
   "cell_type": "code",
   "execution_count": null,
   "metadata": {},
   "outputs": [],
   "source": [
    "# Re-fit the k-means model with the selected number of clusters and obtain\n",
    "# cluster predictions for the general population demographics data.\n",
    "\n"
   ]
  },
  {
   "cell_type": "markdown",
   "metadata": {},
   "source": [
    "### Discussion 3.1: Apply Clustering to General Population\n",
    "\n",
    "(Double-click this cell and replace this text with your own text, reporting your findings and decisions regarding clustering. Into how many clusters have you decided to segment the population?)"
   ]
  },
  {
   "cell_type": "markdown",
   "metadata": {},
   "source": [
    "### Step 3.2: Apply All Steps to the Customer Data\n",
    "\n",
    "Now that you have clusters and cluster centers for the general population, it's time to see how the customer data maps on to those clusters. Take care to not confuse this for re-fitting all of the models to the customer data. Instead, you're going to use the fits from the general population to clean, transform, and cluster the customer data. In the last step of the project, you will interpret how the general population fits apply to the customer data.\n",
    "\n",
    "- Don't forget when loading in the customers data, that it is semicolon (`;`) delimited.\n",
    "- Apply the same feature wrangling, selection, and engineering steps to the customer demographics using the `clean_data()` function you created earlier. (You can assume that the customer demographics data has similar meaning behind missing data patterns as the general demographics data.)\n",
    "- Use the sklearn objects from the general demographics data, and apply their transformations to the customers data. That is, you should not be using a `.fit()` or `.fit_transform()` method to re-fit the old objects, nor should you be creating new sklearn objects! Carry the data through the feature scaling, PCA, and clustering steps, obtaining cluster assignments for all of the data in the customer demographics data."
   ]
  },
  {
   "cell_type": "code",
   "execution_count": null,
   "metadata": {},
   "outputs": [],
   "source": [
    "# Load in the customer demographics data.\n",
    "customers = "
   ]
  },
  {
   "cell_type": "code",
   "execution_count": null,
   "metadata": {},
   "outputs": [],
   "source": [
    "# Apply preprocessing, feature transformation, and clustering from the general\n",
    "# demographics onto the customer data, obtaining cluster predictions for the\n",
    "# customer demographics data.\n",
    "\n"
   ]
  },
  {
   "cell_type": "markdown",
   "metadata": {},
   "source": [
    "### Step 3.3: Compare Customer Data to Demographics Data\n",
    "\n",
    "At this point, you have clustered data based on demographics of the general population of Germany, and seen how the customer data for a mail-order sales company maps onto those demographic clusters. In this final substep, you will compare the two cluster distributions to see where the strongest customer base for the company is.\n",
    "\n",
    "Consider the proportion of persons in each cluster for the general population, and the proportions for the customers. If we think the company's customer base to be universal, then the cluster assignment proportions should be fairly similar between the two. If there are only particular segments of the population that are interested in the company's products, then we should see a mismatch from one to the other. If there is a higher proportion of persons in a cluster for the customer data compared to the general population (e.g. 5% of persons are assigned to a cluster for the general population, but 15% of the customer data is closest to that cluster's centroid) then that suggests the people in that cluster to be a target audience for the company. On the other hand, the proportion of the data in a cluster being larger in the general population than the customer data (e.g. only 2% of customers closest to a population centroid that captures 6% of the data) suggests that group of persons to be outside of the target demographics.\n",
    "\n",
    "Take a look at the following points in this step:\n",
    "\n",
    "- Compute the proportion of data points in each cluster for the general population and the customer data. Visualizations will be useful here: both for the individual dataset proportions, but also to visualize the ratios in cluster representation between groups. Seaborn's [`countplot()`](https://seaborn.pydata.org/generated/seaborn.countplot.html) or [`barplot()`](https://seaborn.pydata.org/generated/seaborn.barplot.html) function could be handy.\n",
    "  - Recall the analysis you performed in step 1.1.3 of the project, where you separated out certain data points from the dataset if they had more than a specified threshold of missing values. If you found that this group was qualitatively different from the main bulk of the data, you should treat this as an additional data cluster in this analysis. Make sure that you account for the number of data points in this subset, for both the general population and customer datasets, when making your computations!\n",
    "- Which cluster or clusters are overrepresented in the customer dataset compared to the general population? Select at least one such cluster and infer what kind of people might be represented by that cluster. Use the principal component interpretations from step 2.3 or look at additional components to help you make this inference. Alternatively, you can use the `.inverse_transform()` method of the PCA and StandardScaler objects to transform centroids back to the original data space and interpret the retrieved values directly.\n",
    "- Perform a similar investigation for the underrepresented clusters. Which cluster or clusters are underrepresented in the customer dataset compared to the general population, and what kinds of people are typified by these clusters?"
   ]
  },
  {
   "cell_type": "code",
   "execution_count": null,
   "metadata": {},
   "outputs": [],
   "source": [
    "# Compare the proportion of data in each cluster for the customer data to the\n",
    "# proportion of data in each cluster for the general population.\n",
    "\n"
   ]
  },
  {
   "cell_type": "code",
   "execution_count": null,
   "metadata": {},
   "outputs": [],
   "source": [
    "# What kinds of people are part of a cluster that is overrepresented in the\n",
    "# customer data compared to the general population?\n",
    "\n"
   ]
  },
  {
   "cell_type": "code",
   "execution_count": null,
   "metadata": {},
   "outputs": [],
   "source": [
    "# What kinds of people are part of a cluster that is underrepresented in the\n",
    "# customer data compared to the general population?\n",
    "\n"
   ]
  },
  {
   "cell_type": "markdown",
   "metadata": {},
   "source": [
    "### Discussion 3.3: Compare Customer Data to Demographics Data\n",
    "\n",
    "(Double-click this cell and replace this text with your own text, reporting findings and conclusions from the clustering analysis. Can we describe segments of the population that are relatively popular with the mail-order company, or relatively unpopular with the company?)"
   ]
  },
  {
   "cell_type": "markdown",
   "metadata": {},
   "source": [
    "> Congratulations on making it this far in the project! Before you finish, make sure to check through the entire notebook from top to bottom to make sure that your analysis follows a logical flow and all of your findings are documented in **Discussion** cells. Once you've checked over all of your work, you should export the notebook as an HTML document to submit for evaluation. You can do this from the menu, navigating to **File -> Download as -> HTML (.html)**. You will submit both that document and this notebook for your project submission."
   ]
  },
  {
   "cell_type": "code",
   "execution_count": null,
   "metadata": {},
   "outputs": [],
   "source": []
  }
 ],
 "metadata": {
  "kernelspec": {
   "display_name": "Python 3",
   "language": "python",
   "name": "python3"
  },
  "language_info": {
   "codemirror_mode": {
    "name": "ipython",
    "version": 3
   },
   "file_extension": ".py",
   "mimetype": "text/x-python",
   "name": "python",
   "nbconvert_exporter": "python",
   "pygments_lexer": "ipython3",
   "version": "3.7.4"
  }
 },
 "nbformat": 4,
 "nbformat_minor": 2
}
